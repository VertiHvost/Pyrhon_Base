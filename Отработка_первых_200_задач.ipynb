{
  "nbformat": 4,
  "nbformat_minor": 0,
  "metadata": {
    "colab": {
      "provenance": [],
      "authorship_tag": "ABX9TyNd6GStCq0jSqiPWQegIbc4",
      "include_colab_link": true
    },
    "kernelspec": {
      "name": "python3",
      "display_name": "Python 3"
    },
    "language_info": {
      "name": "python"
    }
  },
  "cells": [
    {
      "cell_type": "markdown",
      "metadata": {
        "id": "view-in-github",
        "colab_type": "text"
      },
      "source": [
        "<a href=\"https://colab.research.google.com/github/VertiHvost/Pyrhon_Base/blob/main/%D0%9E%D1%82%D1%80%D0%B0%D0%B1%D0%BE%D1%82%D0%BA%D0%B0_%D0%BF%D0%B5%D1%80%D0%B2%D1%8B%D1%85_200_%D0%B7%D0%B0%D0%B4%D0%B0%D1%87.ipynb\" target=\"_parent\"><img src=\"https://colab.research.google.com/assets/colab-badge.svg\" alt=\"Open In Colab\"/></a>"
      ]
    },
    {
      "cell_type": "markdown",
      "source": [
        "###Блок №1 переменные и типы данных"
      ],
      "metadata": {
        "id": "eqVOeAbSPZec"
      }
    },
    {
      "cell_type": "markdown",
      "source": [
        "Создайте переменную x и присвойте ей значение 10."
      ],
      "metadata": {
        "id": "xgyCE7qhQCAc"
      }
    },
    {
      "cell_type": "code",
      "source": [
        "x=10"
      ],
      "metadata": {
        "id": "5msF7JDAQBjE"
      },
      "execution_count": 1,
      "outputs": []
    },
    {
      "cell_type": "markdown",
      "source": [
        "Создайте переменную y и присвойте ей значение 5.5."
      ],
      "metadata": {
        "id": "WYcdFl64QGa7"
      }
    },
    {
      "cell_type": "code",
      "execution_count": 2,
      "metadata": {
        "id": "lOmq8UXHeiee"
      },
      "outputs": [],
      "source": [
        "y = 5.5"
      ]
    },
    {
      "cell_type": "markdown",
      "source": [],
      "metadata": {
        "id": "_MiCoG0-QHmT"
      }
    },
    {
      "cell_type": "code",
      "source": [],
      "metadata": {
        "id": "AFF7RdMke_Is"
      },
      "execution_count": null,
      "outputs": []
    }
  ]
}