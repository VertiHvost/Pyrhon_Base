{
  "nbformat": 4,
  "nbformat_minor": 0,
  "metadata": {
    "colab": {
      "provenance": [],
      "authorship_tag": "ABX9TyMTyB0K4wbeHET8K2OR9aYh",
      "include_colab_link": true
    },
    "kernelspec": {
      "name": "python3",
      "display_name": "Python 3"
    },
    "language_info": {
      "name": "python"
    }
  },
  "cells": [
    {
      "cell_type": "markdown",
      "metadata": {
        "id": "view-in-github",
        "colab_type": "text"
      },
      "source": [
        "<a href=\"https://colab.research.google.com/github/VertiHvost/Pyrhon_Base/blob/main/%D0%9E%D1%82%D1%80%D0%B0%D0%B1%D0%BE%D1%82%D0%BA%D0%B0_%D0%BF%D0%B5%D1%80%D0%B2%D1%8B%D1%85_57_%D0%B7%D0%B0%D0%B4%D0%B0%D1%87.ipynb\" target=\"_parent\"><img src=\"https://colab.research.google.com/assets/colab-badge.svg\" alt=\"Open In Colab\"/></a>"
      ]
    },
    {
      "cell_type": "markdown",
      "source": [
        "###Блок №1 переменные и типы данных"
      ],
      "metadata": {
        "id": "eqVOeAbSPZec"
      }
    },
    {
      "cell_type": "markdown",
      "source": [
        "1. Создайте переменную x и присвойте ей значение 10."
      ],
      "metadata": {
        "id": "xgyCE7qhQCAc"
      }
    },
    {
      "cell_type": "code",
      "source": [
        "x=10\n",
        "print(x)"
      ],
      "metadata": {
        "colab": {
          "base_uri": "https://localhost:8080/"
        },
        "id": "5msF7JDAQBjE",
        "outputId": "7e99e24c-1b71-49c6-aae0-9fc1c638878f"
      },
      "execution_count": 5,
      "outputs": [
        {
          "output_type": "stream",
          "name": "stdout",
          "text": [
            "10\n"
          ]
        }
      ]
    },
    {
      "cell_type": "markdown",
      "source": [
        "2. Создайте переменную y и присвойте ей значение 5.5."
      ],
      "metadata": {
        "id": "WYcdFl64QGa7"
      }
    },
    {
      "cell_type": "code",
      "execution_count": 6,
      "metadata": {
        "id": "lOmq8UXHeiee",
        "colab": {
          "base_uri": "https://localhost:8080/"
        },
        "outputId": "058b6899-f57e-4b44-fbfb-9a34696d67c9"
      },
      "outputs": [
        {
          "output_type": "stream",
          "name": "stdout",
          "text": [
            "5.5\n"
          ]
        }
      ],
      "source": [
        "y = 5.5\n",
        "print(y)"
      ]
    },
    {
      "cell_type": "markdown",
      "source": [
        "3. Создайте переменную name и присвойте ей ваше имя."
      ],
      "metadata": {
        "id": "_MiCoG0-QHmT"
      }
    },
    {
      "cell_type": "code",
      "source": [
        "name = \"Андрей\"\n",
        "print(name)"
      ],
      "metadata": {
        "id": "AFF7RdMke_Is",
        "colab": {
          "base_uri": "https://localhost:8080/"
        },
        "outputId": "037457c4-8d29-416d-a3c1-edf21b3c4f73"
      },
      "execution_count": 7,
      "outputs": [
        {
          "output_type": "stream",
          "name": "stdout",
          "text": [
            "Андрей\n"
          ]
        }
      ]
    },
    {
      "cell_type": "markdown",
      "source": [
        "4. Поменяйте значения переменных x и y местами."
      ],
      "metadata": {
        "id": "Il6P2mVySkoD"
      }
    },
    {
      "cell_type": "code",
      "source": [],
      "metadata": {
        "id": "sFqesxEOSmid"
      },
      "execution_count": null,
      "outputs": []
    },
    {
      "cell_type": "markdown",
      "source": [
        "5. Создайте переменную is_active и присвойте ей значение True."
      ],
      "metadata": {
        "id": "THLmMTg2Sn1T"
      }
    },
    {
      "cell_type": "code",
      "source": [],
      "metadata": {
        "id": "czGAMWcqTYob"
      },
      "execution_count": null,
      "outputs": []
    },
    {
      "cell_type": "markdown",
      "source": [
        "6. Выведите тип данных переменной x."
      ],
      "metadata": {
        "id": "2NTuqqWKTgHD"
      }
    },
    {
      "cell_type": "code",
      "source": [],
      "metadata": {
        "id": "leDeoFfNSmgE"
      },
      "execution_count": null,
      "outputs": []
    },
    {
      "cell_type": "markdown",
      "source": [
        "7. Преобразуйте переменную x в строку."
      ],
      "metadata": {
        "id": "7wBIVTCrSptT"
      }
    },
    {
      "cell_type": "code",
      "source": [],
      "metadata": {
        "id": "c2bTbNroSmdj"
      },
      "execution_count": null,
      "outputs": []
    },
    {
      "cell_type": "markdown",
      "source": [
        "8. Преобразуйте переменную y в целое число."
      ],
      "metadata": {
        "id": "qZbQH53_SrbT"
      }
    },
    {
      "cell_type": "code",
      "source": [],
      "metadata": {
        "id": "6Yoxg42OSmbM"
      },
      "execution_count": null,
      "outputs": []
    },
    {
      "cell_type": "markdown",
      "source": [
        "9. Создайте переменную z и присвойте ей результат сложения x и y."
      ],
      "metadata": {
        "id": "zjRHUKCtSsPL"
      }
    },
    {
      "cell_type": "code",
      "source": [],
      "metadata": {
        "id": "X8TLJrU9SmYr"
      },
      "execution_count": null,
      "outputs": []
    },
    {
      "cell_type": "markdown",
      "source": [
        "10. Создайте переменную w и присвойте ей результат умножения x на y."
      ],
      "metadata": {
        "id": "nUreKGZXSs0z"
      }
    },
    {
      "cell_type": "code",
      "source": [],
      "metadata": {
        "id": "hPLoE7EvSmWM"
      },
      "execution_count": null,
      "outputs": []
    },
    {
      "cell_type": "markdown",
      "source": [
        "### Блок 2. Ввод и вывод"
      ],
      "metadata": {
        "id": "QWuTR_u3T_lD"
      }
    },
    {
      "cell_type": "markdown",
      "source": [
        "11. Запросите у пользователя его имя и выведите его."
      ],
      "metadata": {
        "id": "IVjX4GRfStQj"
      }
    },
    {
      "cell_type": "code",
      "source": [],
      "metadata": {
        "id": "flWSfOGKSmT7"
      },
      "execution_count": null,
      "outputs": []
    },
    {
      "cell_type": "markdown",
      "source": [
        "12. Запросите у пользователя его возраст и выведите его."
      ],
      "metadata": {
        "id": "Czi8taJhS4db"
      }
    },
    {
      "cell_type": "code",
      "source": [],
      "metadata": {
        "id": "Fi6MLYKGS4I8"
      },
      "execution_count": null,
      "outputs": []
    },
    {
      "cell_type": "markdown",
      "source": [
        "13. Запросите у пользователя два числа и выведите их сумму."
      ],
      "metadata": {
        "id": "fMQsjKuXS4Dz"
      }
    },
    {
      "cell_type": "code",
      "source": [],
      "metadata": {
        "id": "kiIBV6FMS3_L"
      },
      "execution_count": null,
      "outputs": []
    },
    {
      "cell_type": "markdown",
      "source": [
        "14. Запросите у пользователя число и выведите его квадрат."
      ],
      "metadata": {
        "id": "5EqZr5uHS37e"
      }
    },
    {
      "cell_type": "code",
      "source": [],
      "metadata": {
        "id": "WDYN7oLMS33E"
      },
      "execution_count": null,
      "outputs": []
    },
    {
      "cell_type": "markdown",
      "source": [
        "15. Запросите у пользователя строку и выведите её длину."
      ],
      "metadata": {
        "id": "vf2IYqF-S3ys"
      }
    },
    {
      "cell_type": "code",
      "source": [],
      "metadata": {
        "id": "TL8CROxoS3uN"
      },
      "execution_count": null,
      "outputs": []
    },
    {
      "cell_type": "markdown",
      "source": [
        "16. Запросите у пользователя два числа и выведите их произведение."
      ],
      "metadata": {
        "id": "s4skJw4yS3qF"
      }
    },
    {
      "cell_type": "code",
      "source": [],
      "metadata": {
        "id": "tTBZ8Of9S3jj"
      },
      "execution_count": null,
      "outputs": []
    },
    {
      "cell_type": "markdown",
      "source": [
        "17. Запросите у пользователя число и выведите его квадратный корень."
      ],
      "metadata": {
        "id": "ZHQvBmyfS3ez"
      }
    },
    {
      "cell_type": "code",
      "source": [],
      "metadata": {
        "id": "MVfsOAiMS3Z7"
      },
      "execution_count": null,
      "outputs": []
    },
    {
      "cell_type": "markdown",
      "source": [
        "18. Запросите у пользователя строку и выведите её в верхнем регистре."
      ],
      "metadata": {
        "id": "upwO_xMCS3VL"
      }
    },
    {
      "cell_type": "code",
      "source": [],
      "metadata": {
        "id": "xmjy-d0gS3Qj"
      },
      "execution_count": null,
      "outputs": []
    },
    {
      "cell_type": "markdown",
      "source": [
        "19. Запросите у пользователя строку и выведите её в нижнем регистре."
      ],
      "metadata": {
        "id": "HFSS4ta5S3Mb"
      }
    },
    {
      "cell_type": "code",
      "source": [],
      "metadata": {
        "id": "tNYWnggkS3H7"
      },
      "execution_count": null,
      "outputs": []
    },
    {
      "cell_type": "markdown",
      "source": [
        "20. Запросите у пользователя строку и выведите её в обратном порядке."
      ],
      "metadata": {
        "id": "j49sVCyIS3Dz"
      }
    },
    {
      "cell_type": "code",
      "source": [],
      "metadata": {
        "id": "Zdfu5kemS2_L"
      },
      "execution_count": null,
      "outputs": []
    },
    {
      "cell_type": "markdown",
      "source": [
        "### Блок 3. Условные операторы"
      ],
      "metadata": {
        "id": "NVqoAxXNUovL"
      }
    },
    {
      "cell_type": "markdown",
      "source": [
        "21. Проверьте, является ли число положительным."
      ],
      "metadata": {
        "id": "SDtN9C5JS26r"
      }
    },
    {
      "cell_type": "code",
      "source": [],
      "metadata": {
        "id": "pu6mByoLS22D"
      },
      "execution_count": null,
      "outputs": []
    },
    {
      "cell_type": "markdown",
      "source": [
        "22. Сравните два числа и выведите большее."
      ],
      "metadata": {
        "id": "FOW0VL9TS2xc"
      }
    },
    {
      "cell_type": "code",
      "source": [],
      "metadata": {
        "id": "9g0EPUrrS2s1"
      },
      "execution_count": null,
      "outputs": []
    },
    {
      "cell_type": "markdown",
      "source": [
        "23. Проверьте, является ли число чётным."
      ],
      "metadata": {
        "id": "o9RzKDJ0S2nj"
      }
    },
    {
      "cell_type": "code",
      "source": [],
      "metadata": {
        "id": "o7NLb1nSS2iz"
      },
      "execution_count": null,
      "outputs": []
    },
    {
      "cell_type": "markdown",
      "source": [
        "24. Проверьте, делится ли число на 3 без остатка."
      ],
      "metadata": {
        "id": "_hZhr5sxS2e9"
      }
    },
    {
      "cell_type": "code",
      "source": [],
      "metadata": {
        "id": "jcs9qK_LS2Z7"
      },
      "execution_count": null,
      "outputs": []
    },
    {
      "cell_type": "markdown",
      "source": [
        "25. Сравните два числа и выведите меньшее."
      ],
      "metadata": {
        "id": "EWbfUPWvS2U7"
      }
    },
    {
      "cell_type": "code",
      "source": [],
      "metadata": {
        "id": "0z-zpmL3S2Pb"
      },
      "execution_count": null,
      "outputs": []
    },
    {
      "cell_type": "markdown",
      "source": [
        "26. Проверьте, является ли строка пустой."
      ],
      "metadata": {
        "id": "CjomePHOS2Br"
      }
    },
    {
      "cell_type": "code",
      "source": [],
      "metadata": {
        "id": "ed53eibtS19L"
      },
      "execution_count": null,
      "outputs": []
    },
    {
      "cell_type": "markdown",
      "source": [
        "27. Проверьте, является ли строка палиндромом."
      ],
      "metadata": {
        "id": "C-4zaZ8oS14j"
      }
    },
    {
      "cell_type": "code",
      "source": [],
      "metadata": {
        "id": "bwuv9p6cS10D"
      },
      "execution_count": null,
      "outputs": []
    },
    {
      "cell_type": "markdown",
      "source": [
        "28. Проверьте, является ли год високосным."
      ],
      "metadata": {
        "id": "19xXxQWIS1vb"
      }
    },
    {
      "cell_type": "code",
      "source": [],
      "metadata": {
        "id": "vRTwxvYjS1q7"
      },
      "execution_count": null,
      "outputs": []
    },
    {
      "cell_type": "markdown",
      "source": [
        "29. Проверьте, является ли число двузначным."
      ],
      "metadata": {
        "id": "wHEEwqPkS1mj"
      }
    },
    {
      "cell_type": "code",
      "source": [],
      "metadata": {
        "id": "BwtEQFAAS1hc"
      },
      "execution_count": null,
      "outputs": []
    },
    {
      "cell_type": "markdown",
      "source": [
        "30. Проверьте, является ли число трёхзначным."
      ],
      "metadata": {
        "id": "fxPzf2fcS1dF"
      }
    },
    {
      "cell_type": "code",
      "source": [],
      "metadata": {
        "id": "IXg4aJBKS1Yt"
      },
      "execution_count": null,
      "outputs": []
    },
    {
      "cell_type": "markdown",
      "source": [
        "### Блок 4. Циклы"
      ],
      "metadata": {
        "id": "v8li_nqvVVsj"
      }
    },
    {
      "cell_type": "markdown",
      "source": [
        "31. Выведите числа от 1 до 10."
      ],
      "metadata": {
        "id": "BrvHRCqjS1Ub"
      }
    },
    {
      "cell_type": "code",
      "source": [],
      "metadata": {
        "id": "Q5eY7DkTS1QM"
      },
      "execution_count": null,
      "outputs": []
    },
    {
      "cell_type": "markdown",
      "source": [
        "32. Выведите числа от 10 до 1."
      ],
      "metadata": {
        "id": "OHq7l44nS1MU"
      }
    },
    {
      "cell_type": "code",
      "source": [],
      "metadata": {
        "id": "BKLM3SEtS1IL"
      },
      "execution_count": null,
      "outputs": []
    },
    {
      "cell_type": "markdown",
      "source": [
        "33. Выведите все чётные числа от 1 до 20."
      ],
      "metadata": {
        "id": "y4JMk1L0S1EE"
      }
    },
    {
      "cell_type": "code",
      "source": [],
      "metadata": {
        "id": "R0XEjca6S0_k"
      },
      "execution_count": null,
      "outputs": []
    },
    {
      "cell_type": "markdown",
      "source": [
        "34. Выведите все нечётные числа от 1 до 20."
      ],
      "metadata": {
        "id": "M4k6jTSJS07L"
      }
    },
    {
      "cell_type": "code",
      "source": [],
      "metadata": {
        "id": "J8rrhDh_S021"
      },
      "execution_count": null,
      "outputs": []
    },
    {
      "cell_type": "markdown",
      "source": [
        "35. Выведите сумму чисел от 1 до 100."
      ],
      "metadata": {
        "id": "McdqIlv5S0yb"
      }
    },
    {
      "cell_type": "code",
      "source": [],
      "metadata": {
        "id": "1eEi2-ULS0tz"
      },
      "execution_count": null,
      "outputs": []
    },
    {
      "cell_type": "markdown",
      "source": [
        "36. Выведите таблицу умножения на 5."
      ],
      "metadata": {
        "id": "eaNUFvE4S0pb"
      }
    },
    {
      "cell_type": "code",
      "source": [],
      "metadata": {
        "id": "Xfa9zV6cS0k7"
      },
      "execution_count": null,
      "outputs": []
    },
    {
      "cell_type": "markdown",
      "source": [
        "37. Выведите все числа, кратные 3, от 1 до 50."
      ],
      "metadata": {
        "id": "RZxVBhVKS0gc"
      }
    },
    {
      "cell_type": "code",
      "source": [],
      "metadata": {
        "id": "flScPqJjS0bM"
      },
      "execution_count": null,
      "outputs": []
    },
    {
      "cell_type": "markdown",
      "source": [
        "38. Выведите все числа, кратные 5, от 1 до 100."
      ],
      "metadata": {
        "id": "Io3WuNUAS0W7"
      }
    },
    {
      "cell_type": "code",
      "source": [],
      "metadata": {
        "id": "wTZxx7WuS0Sr"
      },
      "execution_count": null,
      "outputs": []
    },
    {
      "cell_type": "markdown",
      "source": [
        "39. Выведите все простые числа от 1 до 50."
      ],
      "metadata": {
        "id": "eJm5gf4oS0OD"
      }
    },
    {
      "cell_type": "code",
      "source": [],
      "metadata": {
        "id": "OWcZK8ewS0Jr"
      },
      "execution_count": null,
      "outputs": []
    },
    {
      "cell_type": "markdown",
      "source": [
        "40. Выведите факториал числа 5."
      ],
      "metadata": {
        "id": "NJhCW1XnS0Fk"
      }
    },
    {
      "cell_type": "code",
      "source": [],
      "metadata": {
        "id": "J6667neMS0BM"
      },
      "execution_count": null,
      "outputs": []
    },
    {
      "cell_type": "markdown",
      "source": [
        "### Блок 5. Списки"
      ],
      "metadata": {
        "id": "fiT7QQgmV3Kb"
      }
    },
    {
      "cell_type": "markdown",
      "source": [
        "41. Создайте список из 5 чисел."
      ],
      "metadata": {
        "id": "zHjH5cfXSz8u"
      }
    },
    {
      "cell_type": "code",
      "source": [],
      "metadata": {
        "id": "Q0wjgld2Sz4l"
      },
      "execution_count": null,
      "outputs": []
    },
    {
      "cell_type": "markdown",
      "source": [
        "42. Создайте список из 5 строк."
      ],
      "metadata": {
        "id": "3O1QHEFMSz0T"
      }
    },
    {
      "cell_type": "code",
      "source": [],
      "metadata": {
        "id": "d32MCYLXSzvj"
      },
      "execution_count": null,
      "outputs": []
    },
    {
      "cell_type": "markdown",
      "source": [
        "43. Добавьте элемент в конец списка."
      ],
      "metadata": {
        "id": "RqhsdxIQSzrD"
      }
    },
    {
      "cell_type": "code",
      "source": [],
      "metadata": {
        "id": "dYZcu-f5Szmz"
      },
      "execution_count": null,
      "outputs": []
    },
    {
      "cell_type": "markdown",
      "source": [
        "44. Удалите последний элемент списка."
      ],
      "metadata": {
        "id": "frs4JvtRSziD"
      }
    },
    {
      "cell_type": "code",
      "source": [],
      "metadata": {
        "id": "gC6d_T4wSzdb"
      },
      "execution_count": null,
      "outputs": []
    },
    {
      "cell_type": "markdown",
      "source": [
        "45. Удалите первый элемент списка."
      ],
      "metadata": {
        "id": "1S6OmkqdSzY7"
      }
    },
    {
      "cell_type": "code",
      "source": [],
      "metadata": {
        "id": "8oGQK9p-SzT7"
      },
      "execution_count": null,
      "outputs": []
    },
    {
      "cell_type": "markdown",
      "source": [
        "46. Найдите длину списка."
      ],
      "metadata": {
        "id": "tN2zYHzYSzPs"
      }
    },
    {
      "cell_type": "code",
      "source": [],
      "metadata": {
        "id": "SfMIjT2bSzK0"
      },
      "execution_count": null,
      "outputs": []
    },
    {
      "cell_type": "markdown",
      "source": [
        "47. Проверьте, есть ли элемент в списке."
      ],
      "metadata": {
        "id": "nn4N9ccQSzGr"
      }
    },
    {
      "cell_type": "code",
      "source": [],
      "metadata": {
        "id": "lpwoWEiVSzCL"
      },
      "execution_count": null,
      "outputs": []
    },
    {
      "cell_type": "markdown",
      "source": [
        "48. Найдите индекс элемента в списке."
      ],
      "metadata": {
        "id": "rcYjDWO9Sy9j"
      }
    },
    {
      "cell_type": "code",
      "source": [],
      "metadata": {
        "id": "8kjukofrSy4b"
      },
      "execution_count": null,
      "outputs": []
    },
    {
      "cell_type": "markdown",
      "source": [
        "49. Отсортируйте список по возрастанию."
      ],
      "metadata": {
        "id": "DipNS6WYSyzr"
      }
    },
    {
      "cell_type": "code",
      "source": [],
      "metadata": {
        "id": "Zrx3vAAhSyvb"
      },
      "execution_count": null,
      "outputs": []
    },
    {
      "cell_type": "markdown",
      "source": [
        "50. Отсортируйте список по убыванию."
      ],
      "metadata": {
        "id": "LfflHEfxSyq8"
      }
    },
    {
      "cell_type": "code",
      "source": [],
      "metadata": {
        "id": "rv5jzkUbSymc"
      },
      "execution_count": null,
      "outputs": []
    },
    {
      "cell_type": "markdown",
      "source": [
        "### Блок 6. Строки"
      ],
      "metadata": {
        "id": "687MVJPVSyiD"
      }
    },
    {
      "cell_type": "markdown",
      "source": [
        "51. Создайте строку и выведите её длину."
      ],
      "metadata": {
        "id": "5kz7syHWW8fD"
      }
    },
    {
      "cell_type": "code",
      "source": [],
      "metadata": {
        "id": "ujU3HEJCSydL"
      },
      "execution_count": null,
      "outputs": []
    },
    {
      "cell_type": "markdown",
      "source": [
        "52. Проверьте, начинается ли строка с определённого символа."
      ],
      "metadata": {
        "id": "wV6y43AvSyYr"
      }
    },
    {
      "cell_type": "code",
      "source": [],
      "metadata": {
        "id": "93PAzCrQSyT7"
      },
      "execution_count": null,
      "outputs": []
    },
    {
      "cell_type": "markdown",
      "source": [
        "53. Проверьте, заканчивается ли строка определённым символом."
      ],
      "metadata": {
        "id": "b5Yc-LTaSyOr"
      }
    },
    {
      "cell_type": "code",
      "source": [],
      "metadata": {
        "id": "IKbb5t9OSyJr"
      },
      "execution_count": null,
      "outputs": []
    },
    {
      "cell_type": "markdown",
      "source": [
        "54. Замените все пробелы в строке на символ -."
      ],
      "metadata": {
        "id": "P6SvfhtVSyDT"
      }
    },
    {
      "cell_type": "code",
      "source": [],
      "metadata": {
        "id": "yCFVQZSZSx7L"
      },
      "execution_count": null,
      "outputs": []
    },
    {
      "cell_type": "markdown",
      "source": [
        "55. Разделите строку на список слов."
      ],
      "metadata": {
        "id": "NlNrO0gpSx2T"
      }
    },
    {
      "cell_type": "code",
      "source": [],
      "metadata": {
        "id": "rNUNNwaxSxw7"
      },
      "execution_count": null,
      "outputs": []
    },
    {
      "cell_type": "markdown",
      "source": [
        "56. Объедините список слов в строку."
      ],
      "metadata": {
        "id": "_bI8H-QISxrc"
      }
    },
    {
      "cell_type": "code",
      "source": [],
      "metadata": {
        "id": "UhvK7IXkSxmM"
      },
      "execution_count": null,
      "outputs": []
    },
    {
      "cell_type": "markdown",
      "source": [
        "57. Удалите все пробелы в строке."
      ],
      "metadata": {
        "id": "vX8mm3e_SxhD"
      }
    },
    {
      "cell_type": "code",
      "source": [],
      "metadata": {
        "id": "zlSOK066SxcD"
      },
      "execution_count": null,
      "outputs": []
    },
    {
      "cell_type": "markdown",
      "source": [],
      "metadata": {
        "id": "sco-G6O6SxT7"
      }
    },
    {
      "cell_type": "code",
      "source": [],
      "metadata": {
        "id": "sPJYMfuLSxK7"
      },
      "execution_count": null,
      "outputs": []
    },
    {
      "cell_type": "markdown",
      "source": [],
      "metadata": {
        "id": "OMclrN0ISw_L"
      }
    },
    {
      "cell_type": "code",
      "source": [],
      "metadata": {
        "id": "gdNCF3nPSwx4"
      },
      "execution_count": null,
      "outputs": []
    }
  ]
}