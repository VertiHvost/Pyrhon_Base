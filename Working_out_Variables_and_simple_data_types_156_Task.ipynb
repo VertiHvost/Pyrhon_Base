{
  "nbformat": 4,
  "nbformat_minor": 0,
  "metadata": {
    "colab": {
      "provenance": [],
      "authorship_tag": "ABX9TyMU4B6dONP/rFWlDISgyTGK",
      "include_colab_link": true
    },
    "kernelspec": {
      "name": "python3",
      "display_name": "Python 3"
    },
    "language_info": {
      "name": "python"
    }
  },
  "cells": [
    {
      "cell_type": "markdown",
      "metadata": {
        "id": "view-in-github",
        "colab_type": "text"
      },
      "source": [
        "<a href=\"https://colab.research.google.com/github/VertiHvost/Pyrhon_Base/blob/main/Working_out_Variables_and_simple_data_types_156_Task.ipynb\" target=\"_parent\"><img src=\"https://colab.research.google.com/assets/colab-badge.svg\" alt=\"Open In Colab\"/></a>"
      ]
    },
    {
      "cell_type": "markdown",
      "source": [
        "### Переменные и простые типы данных"
      ],
      "metadata": {
        "id": "cmGwOi340JcL"
      }
    },
    {
      "cell_type": "markdown",
      "source": [
        "## 1. Числовые типы данных (int, float)"
      ],
      "metadata": {
        "id": "iO8-_pIM0MDs"
      }
    },
    {
      "cell_type": "markdown",
      "source": [
        "1. Создайте переменную x и присвойте ей значение 10."
      ],
      "metadata": {
        "id": "AAfuRgih0RgF"
      }
    },
    {
      "cell_type": "code",
      "source": [
        "x = 10\n",
        "x"
      ],
      "metadata": {
        "id": "bYtY-wx_bPtD",
        "colab": {
          "base_uri": "https://localhost:8080/"
        },
        "outputId": "4ee6b12b-0206-42e2-9f89-3b4e1add8481"
      },
      "execution_count": 1,
      "outputs": [
        {
          "output_type": "execute_result",
          "data": {
            "text/plain": [
              "10"
            ]
          },
          "metadata": {},
          "execution_count": 1
        }
      ]
    },
    {
      "cell_type": "markdown",
      "source": [
        "2. Создайте переменную y и присвойте ей значение 5.5."
      ],
      "metadata": {
        "id": "HkBbb0u-0kuH"
      }
    },
    {
      "cell_type": "code",
      "source": [
        "y = 5.5\n",
        "y"
      ],
      "metadata": {
        "id": "8Ji-IxUd0kHA",
        "colab": {
          "base_uri": "https://localhost:8080/"
        },
        "outputId": "6937329c-cbe2-4194-af58-396b9b5032f7"
      },
      "execution_count": 2,
      "outputs": [
        {
          "output_type": "execute_result",
          "data": {
            "text/plain": [
              "5.5"
            ]
          },
          "metadata": {},
          "execution_count": 2
        }
      ]
    },
    {
      "cell_type": "markdown",
      "source": [
        "3. Создайте переменную z и присвойте ей сумму x и y.\n"
      ],
      "metadata": {
        "id": "8V2-MYnO0kDX"
      }
    },
    {
      "cell_type": "code",
      "source": [
        "z = y + x\n",
        "z"
      ],
      "metadata": {
        "id": "hk_T76TG0j90",
        "colab": {
          "base_uri": "https://localhost:8080/"
        },
        "outputId": "9e2b905f-864a-40c8-cd7c-83ddc5a0473e"
      },
      "execution_count": 3,
      "outputs": [
        {
          "output_type": "execute_result",
          "data": {
            "text/plain": [
              "15.5"
            ]
          },
          "metadata": {},
          "execution_count": 3
        }
      ]
    },
    {
      "cell_type": "markdown",
      "source": [
        "4. Создайте переменную w и присвойте ей произведение x и y."
      ],
      "metadata": {
        "id": "rLklfJkl0j5h"
      }
    },
    {
      "cell_type": "code",
      "source": [
        "w = y * x\n",
        "w"
      ],
      "metadata": {
        "id": "8Wy8Kj3N0j1L",
        "colab": {
          "base_uri": "https://localhost:8080/"
        },
        "outputId": "f18bdf13-29c8-4185-abb4-ceb9962b1cd9"
      },
      "execution_count": 4,
      "outputs": [
        {
          "output_type": "execute_result",
          "data": {
            "text/plain": [
              "55.0"
            ]
          },
          "metadata": {},
          "execution_count": 4
        }
      ]
    },
    {
      "cell_type": "markdown",
      "source": [
        "5. Создайте переменную a и присвойте ей результат деления x на y."
      ],
      "metadata": {
        "id": "Z1iyRd2m0jxG"
      }
    },
    {
      "cell_type": "code",
      "source": [
        "a = x / y\n",
        "print(a)"
      ],
      "metadata": {
        "id": "CMcjnvnW0jr3",
        "colab": {
          "base_uri": "https://localhost:8080/"
        },
        "outputId": "e2389f15-315e-4297-de89-bc99f5d8a4b9"
      },
      "execution_count": 5,
      "outputs": [
        {
          "output_type": "stream",
          "name": "stdout",
          "text": [
            "1.8181818181818181\n"
          ]
        }
      ]
    },
    {
      "cell_type": "markdown",
      "source": [
        "6. Создайте переменную b и присвойте ей результат возведения x в квадрат."
      ],
      "metadata": {
        "id": "QtG-4nbY0jn0"
      }
    },
    {
      "cell_type": "code",
      "source": [
        "b = x**2\n",
        "b"
      ],
      "metadata": {
        "id": "osnl_4ou0jiY",
        "colab": {
          "base_uri": "https://localhost:8080/"
        },
        "outputId": "ab82773d-a876-456d-b165-f2e046a666e0"
      },
      "execution_count": 6,
      "outputs": [
        {
          "output_type": "execute_result",
          "data": {
            "text/plain": [
              "100"
            ]
          },
          "metadata": {},
          "execution_count": 6
        }
      ]
    },
    {
      "cell_type": "markdown",
      "source": [
        "7. Создайте переменную c и присвойте ей результат деления y на x с округлением до одного знака после запятой."
      ],
      "metadata": {
        "id": "EcS8ip790jeY"
      }
    },
    {
      "cell_type": "code",
      "source": [
        "c =  y / x\n",
        "\n",
        "print(\"Способ 1: \", \"{:.1f}\".format(c))\n",
        "print(\"Способ 2: \", \"%.1f\" % c)\n",
        "print(\"Способ 3: \", round(c,1))"
      ],
      "metadata": {
        "id": "TNCCz5n10jYy",
        "colab": {
          "base_uri": "https://localhost:8080/"
        },
        "outputId": "b432679a-b8a1-41a6-8915-6cf87b9b55b9"
      },
      "execution_count": 7,
      "outputs": [
        {
          "output_type": "stream",
          "name": "stdout",
          "text": [
            "Способ 1:  0.6\n",
            "Способ 2:  0.6\n",
            "Способ 3:  0.6\n"
          ]
        }
      ]
    },
    {
      "cell_type": "markdown",
      "source": [
        "8. Создайте переменную d и присвойте ей результат целочисленного деления x на y."
      ],
      "metadata": {
        "id": "nNLEsDLt0jU6"
      }
    },
    {
      "cell_type": "code",
      "source": [
        "d = x // y\n",
        "d"
      ],
      "metadata": {
        "id": "ZVJKGsLP0jPy",
        "colab": {
          "base_uri": "https://localhost:8080/"
        },
        "outputId": "a90227bc-38f5-4d6c-ca79-cbd3487057da"
      },
      "execution_count": 8,
      "outputs": [
        {
          "output_type": "execute_result",
          "data": {
            "text/plain": [
              "1.0"
            ]
          },
          "metadata": {},
          "execution_count": 8
        }
      ]
    },
    {
      "cell_type": "markdown",
      "source": [
        "9. Создайте переменную e и присвойте ей остаток от деления x на y."
      ],
      "metadata": {
        "id": "5CF9GFGD0jL1"
      }
    },
    {
      "cell_type": "code",
      "source": [
        "e = x % y\n",
        "e"
      ],
      "metadata": {
        "id": "iielDJo50jHM",
        "colab": {
          "base_uri": "https://localhost:8080/"
        },
        "outputId": "a97bf60d-9aae-474d-ec77-f4cf07ed98c4"
      },
      "execution_count": 9,
      "outputs": [
        {
          "output_type": "execute_result",
          "data": {
            "text/plain": [
              "4.5"
            ]
          },
          "metadata": {},
          "execution_count": 9
        }
      ]
    },
    {
      "cell_type": "markdown",
      "source": [
        "10. Создайте переменную f и присвойте ей результат сложения x, y и z."
      ],
      "metadata": {
        "id": "QhkopWUF0jDG"
      }
    },
    {
      "cell_type": "code",
      "source": [
        "f = x + y + z\n",
        "f"
      ],
      "metadata": {
        "id": "VkA31r-g0i_b",
        "colab": {
          "base_uri": "https://localhost:8080/"
        },
        "outputId": "517872c8-073f-4c1f-e934-6b3de9977138"
      },
      "execution_count": 10,
      "outputs": [
        {
          "output_type": "execute_result",
          "data": {
            "text/plain": [
              "31.0"
            ]
          },
          "metadata": {},
          "execution_count": 10
        }
      ]
    },
    {
      "cell_type": "markdown",
      "source": [
        "## 2. Строки (str)"
      ],
      "metadata": {
        "id": "IAZX-LyM0i6M"
      }
    },
    {
      "cell_type": "markdown",
      "source": [
        "1. Создайте переменную name и присвойте ей ваше имя."
      ],
      "metadata": {
        "id": "zBUPhcyu1BUB"
      }
    },
    {
      "cell_type": "code",
      "source": [
        "name = \"Андрей\"\n",
        "name"
      ],
      "metadata": {
        "id": "VxQcX8VV0i1e",
        "colab": {
          "base_uri": "https://localhost:8080/",
          "height": 0
        },
        "outputId": "9be109ef-40ae-49b7-c201-c71182927ff6"
      },
      "execution_count": 11,
      "outputs": [
        {
          "output_type": "execute_result",
          "data": {
            "text/plain": [
              "'Андрей'"
            ],
            "application/vnd.google.colaboratory.intrinsic+json": {
              "type": "string"
            }
          },
          "metadata": {},
          "execution_count": 11
        }
      ]
    },
    {
      "cell_type": "markdown",
      "source": [
        "2. Создайте переменную greeting и присвойте ей строку \"Hello, \" + name."
      ],
      "metadata": {
        "id": "Px7nNWeN0ixk"
      }
    },
    {
      "cell_type": "code",
      "source": [
        "greeting = \"Hello, \" + name\n",
        "greeting"
      ],
      "metadata": {
        "id": "P0ATelwo0isc",
        "colab": {
          "base_uri": "https://localhost:8080/",
          "height": 0
        },
        "outputId": "e522e03f-8a2f-4ed4-ccfa-4945b76a2dd3"
      },
      "execution_count": 12,
      "outputs": [
        {
          "output_type": "execute_result",
          "data": {
            "text/plain": [
              "'Hello, Андрей'"
            ],
            "application/vnd.google.colaboratory.intrinsic+json": {
              "type": "string"
            }
          },
          "metadata": {},
          "execution_count": 12
        }
      ]
    },
    {
      "cell_type": "markdown",
      "source": [
        "3. Создайте переменную message и присвойте ей строку \"My name is \" + name."
      ],
      "metadata": {
        "id": "wjQ7RJhB0io7"
      }
    },
    {
      "cell_type": "code",
      "source": [
        "message = \"My name is \" + name\n",
        "print(message)"
      ],
      "metadata": {
        "id": "7fcn_9y80ijl",
        "colab": {
          "base_uri": "https://localhost:8080/"
        },
        "outputId": "14479732-d14a-4d66-f8e5-e5ebbd3710ee"
      },
      "execution_count": 13,
      "outputs": [
        {
          "output_type": "stream",
          "name": "stdout",
          "text": [
            "My name is Андрей\n"
          ]
        }
      ]
    },
    {
      "cell_type": "markdown",
      "source": [
        "4. Создайте переменную length и присвойте ей длину строки name."
      ],
      "metadata": {
        "id": "cyLXh8Fm0if9"
      }
    },
    {
      "cell_type": "code",
      "source": [
        "length = len(name)\n",
        "length"
      ],
      "metadata": {
        "id": "ccmNitri0iaq",
        "colab": {
          "base_uri": "https://localhost:8080/"
        },
        "outputId": "988574d5-4c81-43ee-b39c-c28e3a85d371"
      },
      "execution_count": 14,
      "outputs": [
        {
          "output_type": "execute_result",
          "data": {
            "text/plain": [
              "6"
            ]
          },
          "metadata": {},
          "execution_count": 14
        }
      ]
    },
    {
      "cell_type": "markdown",
      "source": [
        "5. Создайте переменную upper_name и присвойте ей строку name в верхнем регистре."
      ],
      "metadata": {
        "id": "hDcyc6xL0iWo"
      }
    },
    {
      "cell_type": "code",
      "source": [
        "upper_name = name.upper()\n",
        "upper_name"
      ],
      "metadata": {
        "id": "ABtBo3ll0iRQ",
        "colab": {
          "base_uri": "https://localhost:8080/",
          "height": 0
        },
        "outputId": "fadd16ef-d610-4d51-cf06-d99f681f8a89"
      },
      "execution_count": 15,
      "outputs": [
        {
          "output_type": "execute_result",
          "data": {
            "text/plain": [
              "'АНДРЕЙ'"
            ],
            "application/vnd.google.colaboratory.intrinsic+json": {
              "type": "string"
            }
          },
          "metadata": {},
          "execution_count": 15
        }
      ]
    },
    {
      "cell_type": "markdown",
      "source": [
        "6. Создайте переменную lower_name и присвойте ей строку name в нижнем регистре."
      ],
      "metadata": {
        "id": "Cq_G5PQU0iMD"
      }
    },
    {
      "cell_type": "code",
      "source": [
        "lower_name = name.lower()\n",
        "print(lower_name)"
      ],
      "metadata": {
        "id": "UzmBBx4I0iHM",
        "colab": {
          "base_uri": "https://localhost:8080/"
        },
        "outputId": "b2cc0234-e0ff-4f28-d0e3-a1a08a41dca7"
      },
      "execution_count": 16,
      "outputs": [
        {
          "output_type": "stream",
          "name": "stdout",
          "text": [
            "андрей\n"
          ]
        }
      ]
    },
    {
      "cell_type": "markdown",
      "source": [
        "7. Создайте переменную first_letter и присвойте ей первый символ строки name."
      ],
      "metadata": {
        "id": "C4awfxiT0iCW"
      }
    },
    {
      "cell_type": "code",
      "source": [
        "ferst_letter = name[0]\n",
        "print(ferst_letter)"
      ],
      "metadata": {
        "id": "Pd75KozI0h9Y",
        "colab": {
          "base_uri": "https://localhost:8080/"
        },
        "outputId": "dac088f0-36c0-48a0-8d84-b7f93e92ee51"
      },
      "execution_count": 17,
      "outputs": [
        {
          "output_type": "stream",
          "name": "stdout",
          "text": [
            "А\n"
          ]
        }
      ]
    },
    {
      "cell_type": "markdown",
      "source": [
        "8. Создайте переменную last_letter и присвойте ей последний символ строки name."
      ],
      "metadata": {
        "id": "tN9qxDuZ0h6W"
      }
    },
    {
      "cell_type": "code",
      "source": [
        "last_letter = name[-1]\n",
        "last_letter"
      ],
      "metadata": {
        "id": "3k8qs6ju0h0b",
        "colab": {
          "base_uri": "https://localhost:8080/",
          "height": 0
        },
        "outputId": "7ee7ac6a-0fdb-4974-f0eb-3789d6474017"
      },
      "execution_count": 18,
      "outputs": [
        {
          "output_type": "execute_result",
          "data": {
            "text/plain": [
              "'й'"
            ],
            "application/vnd.google.colaboratory.intrinsic+json": {
              "type": "string"
            }
          },
          "metadata": {},
          "execution_count": 18
        }
      ]
    },
    {
      "cell_type": "markdown",
      "source": [
        "9. Создайте переменную reversed_name и присвойте ей строку name в обратном порядке."
      ],
      "metadata": {
        "id": "mgQPV2bt0hwY"
      }
    },
    {
      "cell_type": "code",
      "source": [
        "reversed_name = name[::-1]\n",
        "print(reversed_name)"
      ],
      "metadata": {
        "id": "bZvJPSs30hr2",
        "colab": {
          "base_uri": "https://localhost:8080/"
        },
        "outputId": "2454bbb4-f426-43bb-c8d4-670cf9a07e1f"
      },
      "execution_count": 19,
      "outputs": [
        {
          "output_type": "stream",
          "name": "stdout",
          "text": [
            "йерднА\n"
          ]
        }
      ]
    },
    {
      "cell_type": "markdown",
      "source": [
        "10. Создайте переменную name_length и присвойте ей строку \"Your name has \" + str(len(name)) + \" letters\"."
      ],
      "metadata": {
        "id": "Av6ZbddQ0hoV"
      }
    },
    {
      "cell_type": "code",
      "source": [
        "name_length = \"Your name has \" + str(len(name)) + \" letters\"\n",
        "print(name_length)"
      ],
      "metadata": {
        "id": "ne-L3IfW0hji",
        "colab": {
          "base_uri": "https://localhost:8080/"
        },
        "outputId": "85126de2-f86e-4c21-81bd-34ed04c97003"
      },
      "execution_count": 20,
      "outputs": [
        {
          "output_type": "stream",
          "name": "stdout",
          "text": [
            "Your name has 6 letters\n"
          ]
        }
      ]
    },
    {
      "cell_type": "markdown",
      "source": [
        "## 3. Логический тип данных (bool)"
      ],
      "metadata": {
        "id": "j7W6oARV1fM7"
      }
    },
    {
      "cell_type": "markdown",
      "source": [
        "1. Создайте переменную is_active и присвойте ей значение True."
      ],
      "metadata": {
        "id": "n_qfe_Tu0hea"
      }
    },
    {
      "cell_type": "code",
      "source": [
        "is_active = True\n",
        "is_active"
      ],
      "metadata": {
        "id": "FsBW2Lk00hZ4",
        "colab": {
          "base_uri": "https://localhost:8080/"
        },
        "outputId": "04673c60-6ccc-4e5d-d3fb-43e214d9213d"
      },
      "execution_count": 21,
      "outputs": [
        {
          "output_type": "execute_result",
          "data": {
            "text/plain": [
              "True"
            ]
          },
          "metadata": {},
          "execution_count": 21
        }
      ]
    },
    {
      "cell_type": "markdown",
      "source": [
        "2. Создайте переменную is_admin и присвойте ей значение False."
      ],
      "metadata": {
        "id": "hNRYkvxW0hV5"
      }
    },
    {
      "cell_type": "code",
      "source": [
        "is_admin = False\n",
        "is_admin"
      ],
      "metadata": {
        "id": "s550mLOe0hQ4",
        "colab": {
          "base_uri": "https://localhost:8080/"
        },
        "outputId": "db64f34f-3e74-4a91-dbd4-cd8a3d30a733"
      },
      "execution_count": 22,
      "outputs": [
        {
          "output_type": "execute_result",
          "data": {
            "text/plain": [
              "False"
            ]
          },
          "metadata": {},
          "execution_count": 22
        }
      ]
    },
    {
      "cell_type": "markdown",
      "source": [
        "3. Создайте переменную is_equal и присвойте ей результат сравнения x и y на равенство."
      ],
      "metadata": {
        "id": "X9DdjX8X0hLg"
      }
    },
    {
      "cell_type": "code",
      "source": [
        "is_equal = x == y\n",
        "is_equal"
      ],
      "metadata": {
        "id": "tz6eiNhj0hAe",
        "colab": {
          "base_uri": "https://localhost:8080/"
        },
        "outputId": "16e8c54e-4fc3-44da-904f-59d5952b26f8"
      },
      "execution_count": 23,
      "outputs": [
        {
          "output_type": "execute_result",
          "data": {
            "text/plain": [
              "False"
            ]
          },
          "metadata": {},
          "execution_count": 23
        }
      ]
    },
    {
      "cell_type": "markdown",
      "source": [
        "4. Создайте переменную is_greater и присвойте ей результат сравнения x и y (x > y)."
      ],
      "metadata": {
        "id": "ty7aq6Ok0g6U"
      }
    },
    {
      "cell_type": "code",
      "source": [
        "is_greater = x > y\n",
        "is_greater"
      ],
      "metadata": {
        "id": "NzWG8-AJ0g10",
        "colab": {
          "base_uri": "https://localhost:8080/"
        },
        "outputId": "a9db6826-8c1f-49cf-bdd1-a690bfccd769"
      },
      "execution_count": 24,
      "outputs": [
        {
          "output_type": "execute_result",
          "data": {
            "text/plain": [
              "True"
            ]
          },
          "metadata": {},
          "execution_count": 24
        }
      ]
    },
    {
      "cell_type": "markdown",
      "source": [
        "5. Создайте переменную is_less и присвойте ей результат сравнения x и y (x < y)."
      ],
      "metadata": {
        "id": "15Gz1j1U0gxA"
      }
    },
    {
      "cell_type": "code",
      "source": [
        "is_less = x < y\n",
        "is_less"
      ],
      "metadata": {
        "id": "5Jm_YYN90gsi",
        "colab": {
          "base_uri": "https://localhost:8080/"
        },
        "outputId": "0973a5d0-8e70-45cc-edbe-a91665fcbdbd"
      },
      "execution_count": 25,
      "outputs": [
        {
          "output_type": "execute_result",
          "data": {
            "text/plain": [
              "False"
            ]
          },
          "metadata": {},
          "execution_count": 25
        }
      ]
    },
    {
      "cell_type": "markdown",
      "source": [
        "6. Создайте переменную is_not_equal и присвойте ей результат сравнения x и y на неравенство."
      ],
      "metadata": {
        "id": "o-UyoI0a0gnq"
      }
    },
    {
      "cell_type": "code",
      "source": [
        "is_not_equal = x != y\n",
        "is_not_equal"
      ],
      "metadata": {
        "id": "xejGzK_f0giM",
        "colab": {
          "base_uri": "https://localhost:8080/"
        },
        "outputId": "9f8e3f5b-d6b9-447f-fab1-cd50cc6f3feb"
      },
      "execution_count": 26,
      "outputs": [
        {
          "output_type": "execute_result",
          "data": {
            "text/plain": [
              "True"
            ]
          },
          "metadata": {},
          "execution_count": 26
        }
      ]
    },
    {
      "cell_type": "markdown",
      "source": [
        "7. Создайте переменную is_positive и присвойте ей результат проверки, является ли x положительным числом."
      ],
      "metadata": {
        "id": "m5q5wzQ20gdu"
      }
    },
    {
      "cell_type": "code",
      "source": [
        "is_positive = x > 0\n",
        "is_positive"
      ],
      "metadata": {
        "id": "6zSQ3uyX0gZF",
        "colab": {
          "base_uri": "https://localhost:8080/"
        },
        "outputId": "04a051e6-8b02-48c4-fe43-577ef4a6a898"
      },
      "execution_count": 27,
      "outputs": [
        {
          "output_type": "execute_result",
          "data": {
            "text/plain": [
              "True"
            ]
          },
          "metadata": {},
          "execution_count": 27
        }
      ]
    },
    {
      "cell_type": "markdown",
      "source": [
        "8. Создайте переменную is_negative и присвойте ей результат проверки, является ли y отрицательным числом."
      ],
      "metadata": {
        "id": "aHKuO0ET0gVp"
      }
    },
    {
      "cell_type": "code",
      "source": [
        "is_negative = y < 0\n",
        "is_negative"
      ],
      "metadata": {
        "id": "TJlOzdTz0gRT",
        "colab": {
          "base_uri": "https://localhost:8080/"
        },
        "outputId": "27a3772b-edf2-44a0-9a67-846a77df4e4c"
      },
      "execution_count": 28,
      "outputs": [
        {
          "output_type": "execute_result",
          "data": {
            "text/plain": [
              "False"
            ]
          },
          "metadata": {},
          "execution_count": 28
        }
      ]
    },
    {
      "cell_type": "markdown",
      "source": [
        "9. Создайте переменную is_zero и присвойте ей результат проверки, равно ли x нулю."
      ],
      "metadata": {
        "id": "xUpKKN440gM6"
      }
    },
    {
      "cell_type": "code",
      "source": [
        "is_zero = x == 0\n",
        "is_zero"
      ],
      "metadata": {
        "id": "F8VCB7K00gHc",
        "colab": {
          "base_uri": "https://localhost:8080/"
        },
        "outputId": "3aa7c3c9-29c1-45e7-f59a-4f9f884d3db5"
      },
      "execution_count": 29,
      "outputs": [
        {
          "output_type": "execute_result",
          "data": {
            "text/plain": [
              "False"
            ]
          },
          "metadata": {},
          "execution_count": 29
        }
      ]
    },
    {
      "cell_type": "markdown",
      "source": [
        "10. Создайте переменную is_even и присвойте ей результат проверки, является ли x чётным числом."
      ],
      "metadata": {
        "id": "lOVUDuZC0gD8"
      }
    },
    {
      "cell_type": "code",
      "source": [
        "is_even = x % 2\n",
        "print(is_even == 0)"
      ],
      "metadata": {
        "id": "fcmGAwzU0f-j",
        "colab": {
          "base_uri": "https://localhost:8080/"
        },
        "outputId": "7c3a3892-896e-4114-8508-00d151485b7c"
      },
      "execution_count": 30,
      "outputs": [
        {
          "output_type": "stream",
          "name": "stdout",
          "text": [
            "True\n"
          ]
        }
      ]
    },
    {
      "cell_type": "markdown",
      "source": [
        "## 4. Преобразование типов данных"
      ],
      "metadata": {
        "id": "jYMFL_A31-iG"
      }
    },
    {
      "cell_type": "markdown",
      "source": [
        "1. Преобразуйте переменную x в строку и сохраните результат в переменной x_str."
      ],
      "metadata": {
        "id": "z5SVqtWL0f7C"
      }
    },
    {
      "cell_type": "code",
      "source": [
        "x_str = str(x)\n",
        "print(\"Тип: \", type(x_str),  \"\\nЗначение: \", x_str)"
      ],
      "metadata": {
        "id": "Lo_B8TJE0f1r",
        "colab": {
          "base_uri": "https://localhost:8080/"
        },
        "outputId": "de56f832-69db-4fad-f281-455d20396254"
      },
      "execution_count": 31,
      "outputs": [
        {
          "output_type": "stream",
          "name": "stdout",
          "text": [
            "Тип:  <class 'str'> \n",
            "Значение:  10\n"
          ]
        }
      ]
    },
    {
      "cell_type": "markdown",
      "source": [
        "2. Преобразуйте переменную y в целое число и сохраните результат в переменной y_int."
      ],
      "metadata": {
        "id": "XrbA1tE_0fyH"
      }
    },
    {
      "cell_type": "code",
      "source": [
        "y_int = int(y)\n",
        "y_int"
      ],
      "metadata": {
        "id": "lIb1X2nB0ft8",
        "colab": {
          "base_uri": "https://localhost:8080/"
        },
        "outputId": "042a2e47-4f00-4aec-8ea7-53a1d53093e9"
      },
      "execution_count": 32,
      "outputs": [
        {
          "output_type": "execute_result",
          "data": {
            "text/plain": [
              "5"
            ]
          },
          "metadata": {},
          "execution_count": 32
        }
      ]
    },
    {
      "cell_type": "markdown",
      "source": [
        "3. Преобразуйте переменную name в список символов и сохраните результат в переменной name_list."
      ],
      "metadata": {
        "id": "_6B1f8Zr0fpc"
      }
    },
    {
      "cell_type": "code",
      "source": [
        "name_list = list(name)\n",
        "name_list"
      ],
      "metadata": {
        "id": "KKSbGMeK0fkO",
        "colab": {
          "base_uri": "https://localhost:8080/"
        },
        "outputId": "47cab659-9dce-49e8-c94c-d5a6b2504e9e"
      },
      "execution_count": 33,
      "outputs": [
        {
          "output_type": "execute_result",
          "data": {
            "text/plain": [
              "['А', 'н', 'д', 'р', 'е', 'й']"
            ]
          },
          "metadata": {},
          "execution_count": 33
        }
      ]
    },
    {
      "cell_type": "markdown",
      "source": [
        "4. Преобразуйте переменную x в число с плавающей точкой и сохраните результат в переменной x_float."
      ],
      "metadata": {
        "id": "8MovfQl80ff2"
      }
    },
    {
      "cell_type": "code",
      "source": [
        "x_float = float(x)\n",
        "x_float"
      ],
      "metadata": {
        "id": "BygUCTsx0fbs",
        "colab": {
          "base_uri": "https://localhost:8080/"
        },
        "outputId": "5b636e5e-4f6e-4332-870a-1d0f44485f69"
      },
      "execution_count": 34,
      "outputs": [
        {
          "output_type": "execute_result",
          "data": {
            "text/plain": [
              "10.0"
            ]
          },
          "metadata": {},
          "execution_count": 34
        }
      ]
    },
    {
      "cell_type": "markdown",
      "source": [
        "5. Преобразуйте переменную y в строку и сохраните результат в переменной y_str."
      ],
      "metadata": {
        "id": "39rAkhP00fWS"
      }
    },
    {
      "cell_type": "code",
      "source": [
        "y_str = str(y)\n",
        "y_str"
      ],
      "metadata": {
        "id": "xK4s485t0fSH",
        "colab": {
          "base_uri": "https://localhost:8080/",
          "height": 0
        },
        "outputId": "66c54638-ceb3-452f-fa4b-ca2d1918b3b3"
      },
      "execution_count": 35,
      "outputs": [
        {
          "output_type": "execute_result",
          "data": {
            "text/plain": [
              "'5.5'"
            ],
            "application/vnd.google.colaboratory.intrinsic+json": {
              "type": "string"
            }
          },
          "metadata": {},
          "execution_count": 35
        }
      ]
    },
    {
      "cell_type": "markdown",
      "source": [
        "6. Преобразуйте переменную is_active в целое число и сохраните результат в переменной is_active_int."
      ],
      "metadata": {
        "id": "UKffmDbf0fNp"
      }
    },
    {
      "cell_type": "code",
      "source": [
        "is_active_int = int(is_active)\n",
        "type(is_active_int)"
      ],
      "metadata": {
        "id": "WNdg7s2L0fJf",
        "colab": {
          "base_uri": "https://localhost:8080/"
        },
        "outputId": "69196521-778c-448f-f8c5-74f5a535c04b"
      },
      "execution_count": 36,
      "outputs": [
        {
          "output_type": "execute_result",
          "data": {
            "text/plain": [
              "int"
            ]
          },
          "metadata": {},
          "execution_count": 36
        }
      ]
    },
    {
      "cell_type": "markdown",
      "source": [
        "7. Преобразуйте переменную is_admin в строку и сохраните результат в переменной is_admin_str."
      ],
      "metadata": {
        "id": "2NvPjdJq0fFV"
      }
    },
    {
      "cell_type": "code",
      "source": [
        "is_admin_str = str(is_admin)\n",
        "type(is_admin_str)"
      ],
      "metadata": {
        "id": "1E9Kq_zO0fBX",
        "colab": {
          "base_uri": "https://localhost:8080/"
        },
        "outputId": "3f7a4cf2-de68-4c09-9c76-a61886c875ba"
      },
      "execution_count": 37,
      "outputs": [
        {
          "output_type": "execute_result",
          "data": {
            "text/plain": [
              "str"
            ]
          },
          "metadata": {},
          "execution_count": 37
        }
      ]
    },
    {
      "cell_type": "markdown",
      "source": [
        "8. Преобразуйте переменную x в логическое значение и сохраните результат в переменной x_bool."
      ],
      "metadata": {
        "id": "eXNH4koC0e8D"
      }
    },
    {
      "cell_type": "code",
      "source": [
        "x_bool = bool(x)\n",
        "x_bool"
      ],
      "metadata": {
        "id": "6MA-t8cV0e3G",
        "colab": {
          "base_uri": "https://localhost:8080/"
        },
        "outputId": "b4469b21-66f3-4a2a-9deb-bbe601d0cf1d"
      },
      "execution_count": 38,
      "outputs": [
        {
          "output_type": "execute_result",
          "data": {
            "text/plain": [
              "True"
            ]
          },
          "metadata": {},
          "execution_count": 38
        }
      ]
    },
    {
      "cell_type": "markdown",
      "source": [
        "9. Преобразуйте переменную y в логическое значение и сохраните результат в переменной y_bool."
      ],
      "metadata": {
        "id": "i4n2WoD30ey2"
      }
    },
    {
      "cell_type": "code",
      "source": [
        "y_bool = bool(y)\n",
        "y_bool"
      ],
      "metadata": {
        "id": "dcbUJBK60eu9",
        "colab": {
          "base_uri": "https://localhost:8080/"
        },
        "outputId": "a9b61f6b-0fe9-4b04-cde5-2a103eecdb36"
      },
      "execution_count": 39,
      "outputs": [
        {
          "output_type": "execute_result",
          "data": {
            "text/plain": [
              "True"
            ]
          },
          "metadata": {},
          "execution_count": 39
        }
      ]
    },
    {
      "cell_type": "markdown",
      "source": [
        "10. Преобразуйте переменную name в логическое значение и сохраните результат в переменной name_bool."
      ],
      "metadata": {
        "id": "DUGf3oc90erQ"
      }
    },
    {
      "cell_type": "code",
      "source": [
        "name_bool = bool(name)\n",
        "name_bool"
      ],
      "metadata": {
        "id": "sb_a_hBT0emM",
        "colab": {
          "base_uri": "https://localhost:8080/"
        },
        "outputId": "aa14e518-6aa0-47bf-d7b8-d4df02d7e12b"
      },
      "execution_count": 40,
      "outputs": [
        {
          "output_type": "execute_result",
          "data": {
            "text/plain": [
              "True"
            ]
          },
          "metadata": {},
          "execution_count": 40
        }
      ]
    },
    {
      "cell_type": "markdown",
      "source": [
        "## 5. Арифметические операции"
      ],
      "metadata": {
        "id": "OY6vG-Sx0eg_"
      }
    },
    {
      "cell_type": "markdown",
      "source": [
        "1. Создайте переменную sum_xy и присвойте ей сумму x и y."
      ],
      "metadata": {
        "id": "Nr_6CrZ72u3N"
      }
    },
    {
      "cell_type": "code",
      "source": [
        "x = 10\n",
        "y = 5.5\n",
        "sum_xy = x + y\n",
        "sum_xy"
      ],
      "metadata": {
        "id": "6CQC0XUP0ebH",
        "colab": {
          "base_uri": "https://localhost:8080/"
        },
        "outputId": "391ed259-d7b0-4a6c-ffc4-c13ca5299562"
      },
      "execution_count": 41,
      "outputs": [
        {
          "output_type": "execute_result",
          "data": {
            "text/plain": [
              "15.5"
            ]
          },
          "metadata": {},
          "execution_count": 41
        }
      ]
    },
    {
      "cell_type": "markdown",
      "source": [
        "2. Создайте переменную diff_xy и присвойте ей разность x и y."
      ],
      "metadata": {
        "id": "7ITVt8CR0eM9"
      }
    },
    {
      "cell_type": "code",
      "source": [
        "diff_xy = x - y\n",
        "diff_xy"
      ],
      "metadata": {
        "id": "QaP1fXTm0eIK",
        "colab": {
          "base_uri": "https://localhost:8080/"
        },
        "outputId": "d64e3e32-cc24-4e0b-9739-e1b342dbe09e"
      },
      "execution_count": 42,
      "outputs": [
        {
          "output_type": "execute_result",
          "data": {
            "text/plain": [
              "4.5"
            ]
          },
          "metadata": {},
          "execution_count": 42
        }
      ]
    },
    {
      "cell_type": "markdown",
      "source": [
        "3. Создайте переменную prod_xy и присвойте ей произведение x и y."
      ],
      "metadata": {
        "id": "deTDsh8O0eEM"
      }
    },
    {
      "cell_type": "code",
      "source": [
        "prod_xy = x * y\n",
        "prod_xy"
      ],
      "metadata": {
        "id": "7_ZR3h7S0d_c",
        "colab": {
          "base_uri": "https://localhost:8080/"
        },
        "outputId": "46545d3a-95fb-4700-daaa-64ab0a7facf3"
      },
      "execution_count": 43,
      "outputs": [
        {
          "output_type": "execute_result",
          "data": {
            "text/plain": [
              "55.0"
            ]
          },
          "metadata": {},
          "execution_count": 43
        }
      ]
    },
    {
      "cell_type": "markdown",
      "source": [
        "4. Создайте переменную quotient_xy и присвойте ей результат деления x на y."
      ],
      "metadata": {
        "id": "S-ndNKpg0d6U"
      }
    },
    {
      "cell_type": "code",
      "source": [
        "quotient_xy = x / y\n",
        "quotient_xy"
      ],
      "metadata": {
        "id": "ONfMwaaX0d2c",
        "colab": {
          "base_uri": "https://localhost:8080/"
        },
        "outputId": "2b746609-39fc-420f-b3c2-f92497488777"
      },
      "execution_count": 44,
      "outputs": [
        {
          "output_type": "execute_result",
          "data": {
            "text/plain": [
              "1.8181818181818181"
            ]
          },
          "metadata": {},
          "execution_count": 44
        }
      ]
    },
    {
      "cell_type": "markdown",
      "source": [
        "5. Создайте переменную remainder_xy и присвойте ей остаток от деления x на y."
      ],
      "metadata": {
        "id": "YDosiiDS0dxd"
      }
    },
    {
      "cell_type": "code",
      "source": [
        "remainder_xy = x % y\n",
        "remainder_xy"
      ],
      "metadata": {
        "id": "UROTwnQJ0dtV",
        "colab": {
          "base_uri": "https://localhost:8080/"
        },
        "outputId": "cd1adfd5-6fc8-4e41-f1d1-5d9bde2a8fd5"
      },
      "execution_count": 45,
      "outputs": [
        {
          "output_type": "execute_result",
          "data": {
            "text/plain": [
              "4.5"
            ]
          },
          "metadata": {},
          "execution_count": 45
        }
      ]
    },
    {
      "cell_type": "markdown",
      "source": [
        "6. Создайте переменную power_xy и присвойте ей результат возведения x в степень y."
      ],
      "metadata": {
        "id": "SspNPUaN0dov"
      }
    },
    {
      "cell_type": "code",
      "source": [
        "power_xy = x ** y\n",
        "power_xy"
      ],
      "metadata": {
        "id": "r8PCB1cN0dkT",
        "colab": {
          "base_uri": "https://localhost:8080/"
        },
        "outputId": "b50f792a-a6fb-4dce-e70e-b00b3f0dc04b"
      },
      "execution_count": 46,
      "outputs": [
        {
          "output_type": "execute_result",
          "data": {
            "text/plain": [
              "316227.7660168379"
            ]
          },
          "metadata": {},
          "execution_count": 46
        }
      ]
    },
    {
      "cell_type": "markdown",
      "source": [
        "7. Создайте переменную floor_div_xy и присвойте ей результат целочисленного деления x на y."
      ],
      "metadata": {
        "id": "F4LyBwsO0dfQ"
      }
    },
    {
      "cell_type": "code",
      "source": [
        "floor_div_xy = x // y\n",
        "floor_div_xy"
      ],
      "metadata": {
        "id": "m2LQ5JsY0day",
        "colab": {
          "base_uri": "https://localhost:8080/"
        },
        "outputId": "f1769ec7-be4f-4f00-bd7c-8fa928b16aea"
      },
      "execution_count": 47,
      "outputs": [
        {
          "output_type": "execute_result",
          "data": {
            "text/plain": [
              "1.0"
            ]
          },
          "metadata": {},
          "execution_count": 47
        }
      ]
    },
    {
      "cell_type": "markdown",
      "source": [
        "8. Создайте переменную abs_diff и присвойте ей модуль разности y и x."
      ],
      "metadata": {
        "id": "CtY93q8r0dWC"
      }
    },
    {
      "cell_type": "code",
      "source": [
        "abs_diff = abs(y - x)\n",
        "abs_diff"
      ],
      "metadata": {
        "id": "4PS7te3-0dRq",
        "colab": {
          "base_uri": "https://localhost:8080/"
        },
        "outputId": "ee885c1f-0e34-48f2-eda6-be2662f5fd83"
      },
      "execution_count": 48,
      "outputs": [
        {
          "output_type": "execute_result",
          "data": {
            "text/plain": [
              "4.5"
            ]
          },
          "metadata": {},
          "execution_count": 48
        }
      ]
    },
    {
      "cell_type": "markdown",
      "source": [
        "9. Создайте переменную avg_xy и присвойте ей среднее арифметическое x и y."
      ],
      "metadata": {
        "id": "Ox3Fov8A0dNH"
      }
    },
    {
      "cell_type": "code",
      "source": [
        "avg_xy = (x + y) / 2\n",
        "avg_xy"
      ],
      "metadata": {
        "id": "BHQzLmmq0dIt",
        "colab": {
          "base_uri": "https://localhost:8080/"
        },
        "outputId": "1b63d5f0-4b47-46a3-9c3a-63b830f92014"
      },
      "execution_count": 49,
      "outputs": [
        {
          "output_type": "execute_result",
          "data": {
            "text/plain": [
              "7.75"
            ]
          },
          "metadata": {},
          "execution_count": 49
        }
      ]
    },
    {
      "cell_type": "markdown",
      "source": [
        "10. Создайте переменную sqrt_x и присвойте ей квадратный корень из x."
      ],
      "metadata": {
        "id": "Ruy-_bVJ0dEC"
      }
    },
    {
      "cell_type": "code",
      "source": [
        "sqrt_x = x ** 0.5\n",
        "sqrt_x"
      ],
      "metadata": {
        "id": "mYHqb6yx0c_n",
        "colab": {
          "base_uri": "https://localhost:8080/"
        },
        "outputId": "0f44c47a-56d3-4c2b-eb2c-1c57fdbf8336"
      },
      "execution_count": 50,
      "outputs": [
        {
          "output_type": "execute_result",
          "data": {
            "text/plain": [
              "3.1622776601683795"
            ]
          },
          "metadata": {},
          "execution_count": 50
        }
      ]
    },
    {
      "cell_type": "markdown",
      "source": [
        "## 6. Работа с числами"
      ],
      "metadata": {
        "id": "wRmNCcvh0c7L"
      }
    },
    {
      "cell_type": "markdown",
      "source": [
        "1. Проверьте, является ли x положительным числом."
      ],
      "metadata": {
        "id": "uTQ5iXOw3Pef"
      }
    },
    {
      "cell_type": "code",
      "source": [
        "print(\"Является ли X положительным числом? \\n\", x > 0)"
      ],
      "metadata": {
        "id": "4hUqaYfG0c19",
        "colab": {
          "base_uri": "https://localhost:8080/"
        },
        "outputId": "8e5f9434-7511-4f5a-afba-cb8c1d808098"
      },
      "execution_count": 51,
      "outputs": [
        {
          "output_type": "stream",
          "name": "stdout",
          "text": [
            "Является ли X положительным числом? \n",
            " True\n"
          ]
        }
      ]
    },
    {
      "cell_type": "markdown",
      "source": [
        "2. Проверьте, является ли y отрицательным числом."
      ],
      "metadata": {
        "id": "GwbbAEMa0cvL"
      }
    },
    {
      "cell_type": "code",
      "source": [
        "print(y < 0)"
      ],
      "metadata": {
        "id": "cTrWktse0cpC",
        "colab": {
          "base_uri": "https://localhost:8080/"
        },
        "outputId": "ce8e63a7-6664-4e5e-e9d8-8d50903deb39"
      },
      "execution_count": 52,
      "outputs": [
        {
          "output_type": "stream",
          "name": "stdout",
          "text": [
            "False\n"
          ]
        }
      ]
    },
    {
      "cell_type": "markdown",
      "source": [
        "3. Проверьте, является ли x чётным числом."
      ],
      "metadata": {
        "id": "uEinNJvd0ckz"
      }
    },
    {
      "cell_type": "code",
      "source": [
        "check_x = x % 2\n",
        "if check_x == 0:\n",
        "  print('Yes')\n",
        "else:\n",
        "  print(\"NOT\")"
      ],
      "metadata": {
        "id": "Q8ZSkxbC0cf9",
        "colab": {
          "base_uri": "https://localhost:8080/"
        },
        "outputId": "e8318fbf-be9e-43c6-91ae-90e7e7e7e809"
      },
      "execution_count": 53,
      "outputs": [
        {
          "output_type": "stream",
          "name": "stdout",
          "text": [
            "Yes\n"
          ]
        }
      ]
    },
    {
      "cell_type": "markdown",
      "source": [
        "4. Проверьте, является ли y нечётным числом.\n"
      ],
      "metadata": {
        "id": "FPI4iQ4h0cbb"
      }
    },
    {
      "cell_type": "code",
      "source": [
        "check_y = y % 2\n",
        "if check_y == 0:\n",
        "  print('Yes')\n",
        "else:\n",
        "  print(\"NOT\")"
      ],
      "metadata": {
        "id": "nbjv49Gv0cXD",
        "colab": {
          "base_uri": "https://localhost:8080/"
        },
        "outputId": "81ab9890-8eab-46d7-cad1-f8d4bbd55056"
      },
      "execution_count": 54,
      "outputs": [
        {
          "output_type": "stream",
          "name": "stdout",
          "text": [
            "NOT\n"
          ]
        }
      ]
    },
    {
      "cell_type": "markdown",
      "source": [
        "5. Проверьте, делится ли x на 3 без остатка."
      ],
      "metadata": {
        "id": "ZWca6qkZ0cTV"
      }
    },
    {
      "cell_type": "code",
      "source": [
        "Remains_x = x % 3\n",
        "if Remains_x == 0:\n",
        "  print('Yes')\n",
        "else:\n",
        "  print(\"NOT\")"
      ],
      "metadata": {
        "id": "yVxUxiA90cPM",
        "colab": {
          "base_uri": "https://localhost:8080/"
        },
        "outputId": "b411d6e3-4262-4ebd-dab8-9b6d51c4d9ed"
      },
      "execution_count": 55,
      "outputs": [
        {
          "output_type": "stream",
          "name": "stdout",
          "text": [
            "NOT\n"
          ]
        }
      ]
    },
    {
      "cell_type": "markdown",
      "source": [
        "6. Проверьте, делится ли y на 5 без остатка."
      ],
      "metadata": {
        "id": "v_x0f6IM0cKy"
      }
    },
    {
      "cell_type": "code",
      "source": [
        "Remains_y = y % 5\n",
        "if Remains_y == 0:\n",
        "  print()"
      ],
      "metadata": {
        "id": "vrGVnqc_0cGp"
      },
      "execution_count": 56,
      "outputs": []
    },
    {
      "cell_type": "markdown",
      "source": [
        "7. Проверьте, является ли x двузначным числом."
      ],
      "metadata": {
        "id": "4vSKlWmX0cCQ"
      }
    },
    {
      "cell_type": "code",
      "source": [
        "is_two_digit = (10 <= abs(x) <= 99) and isinstance(x, int)\n",
        "\n",
        "# Вывод результата\n",
        "print(f\"Число {x} является двузначным?\", is_two_digit)"
      ],
      "metadata": {
        "id": "IeC-tIF00b9s",
        "colab": {
          "base_uri": "https://localhost:8080/"
        },
        "outputId": "d4f49283-17a3-4f22-c0df-a8ce687348b1"
      },
      "execution_count": 57,
      "outputs": [
        {
          "output_type": "stream",
          "name": "stdout",
          "text": [
            "Число 10 является двузначным? True\n"
          ]
        }
      ]
    },
    {
      "cell_type": "markdown",
      "source": [
        "8. Проверьте, является ли y трёхзначным числом."
      ],
      "metadata": {
        "id": "OKB5b5ll0b4z"
      }
    },
    {
      "cell_type": "code",
      "source": [
        "is_three_digit = (100 <= abs(y) < 1000) and isinstance(y, int)\n",
        "\n",
        "print(f\"Число {y} является трехзначным?\", is_three_digit)"
      ],
      "metadata": {
        "id": "R5Ss2aY40b0R",
        "colab": {
          "base_uri": "https://localhost:8080/"
        },
        "outputId": "a84aaaae-c0b1-44b0-f41c-9b2edd5072a3"
      },
      "execution_count": 58,
      "outputs": [
        {
          "output_type": "stream",
          "name": "stdout",
          "text": [
            "Число 5.5 является трехзначным? False\n"
          ]
        }
      ]
    },
    {
      "cell_type": "markdown",
      "source": [
        "9. Проверьте, является ли x простым числом."
      ],
      "metadata": {
        "id": "TBogoOHJ0bv8"
      }
    },
    {
      "cell_type": "code",
      "source": [
        "z = 3\n",
        "\n",
        "def is_simple(n):\n",
        "  if n <= 1:\n",
        "    return False #простое число не может быть отрицательным и = 1\n",
        "  if n == 2:\n",
        "    return True # 2 - первое простое\n",
        "  if n % 2 == 0:\n",
        "    return False # так как все числа четные и имеют несколько делителей\n",
        "\n",
        "  for i in range(3, int(n**0.5) + 1, 2):\n",
        "    if n % i == 0:\n",
        "      return False # если число поделилось без остатка - то оно сложное\n",
        "  return True # в других случаях число будет простым\n",
        "\n",
        "\n",
        "\n",
        "print(f\"Число {z} простое?\\n\", is_simple(z))\n",
        "print(f\"Число {x} простое?\\n\", is_simple(x))"
      ],
      "metadata": {
        "id": "BhCbWgnr0brZ",
        "colab": {
          "base_uri": "https://localhost:8080/"
        },
        "outputId": "052b4047-bdd6-4d80-85d6-cd449bc5c3a5"
      },
      "execution_count": 59,
      "outputs": [
        {
          "output_type": "stream",
          "name": "stdout",
          "text": [
            "Число 3 простое?\n",
            " True\n",
            "Число 10 простое?\n",
            " False\n"
          ]
        }
      ]
    },
    {
      "cell_type": "markdown",
      "source": [
        "10. Проверьте, является ли 15 составным числом."
      ],
      "metadata": {
        "id": "-12PEg150bm3"
      }
    },
    {
      "cell_type": "code",
      "source": [
        "c = 10\n",
        "\n",
        "def is_prime(p):\n",
        "  # функция делает проверку, составное ли число?\n",
        "\n",
        "  if p <= 1:\n",
        "    return False # единица и отрицательные числа не являются составными числами\n",
        "  for i in range(2, int(p**0.5) + 1):\n",
        "    if p % i == 0:\n",
        "      return True\n",
        "  return False\n",
        "\n",
        "print(f\"Число {c} составное?\\n\", is_prime(c))"
      ],
      "metadata": {
        "id": "T2AuHSiY0bh5",
        "colab": {
          "base_uri": "https://localhost:8080/"
        },
        "outputId": "f1bdec13-f74b-4055-aa9a-2ce4c6651925"
      },
      "execution_count": 60,
      "outputs": [
        {
          "output_type": "stream",
          "name": "stdout",
          "text": [
            "Число 10 составное?\n",
            " True\n"
          ]
        }
      ]
    },
    {
      "cell_type": "markdown",
      "source": [
        "## 7. Работа со строками"
      ],
      "metadata": {
        "id": "WtBOPhFN0bb0"
      }
    },
    {
      "cell_type": "markdown",
      "source": [
        "1. Проверьте, начинается ли строка name с буквы A."
      ],
      "metadata": {
        "id": "WO8J0Qir3rOA"
      }
    },
    {
      "cell_type": "code",
      "source": [
        "if name[:1] == \"А\":\n",
        "  print(f\"{name} начинается с буквы 'А'\")\n"
      ],
      "metadata": {
        "id": "ppMBJDIr0bPh",
        "colab": {
          "base_uri": "https://localhost:8080/"
        },
        "outputId": "d6929acc-a584-4cd1-c513-79b9181c5901"
      },
      "execution_count": 215,
      "outputs": [
        {
          "output_type": "stream",
          "name": "stdout",
          "text": [
            "Андрей начинается с буквы 'А'\n"
          ]
        }
      ]
    },
    {
      "cell_type": "markdown",
      "source": [
        "2. Проверьте, заканчивается ли строка name на букву a."
      ],
      "metadata": {
        "id": "bh924JEV0bLC"
      }
    },
    {
      "cell_type": "code",
      "source": [
        "if name[-1] == \"й\":\n",
        "  print(f\"{name} закнчивается на букву {name[-1]}\")\n",
        "else:\n",
        "  print(\"Нет, не состоит\")"
      ],
      "metadata": {
        "id": "W4bkEY3M0bGY",
        "colab": {
          "base_uri": "https://localhost:8080/"
        },
        "outputId": "22b3e409-dcf8-4f3f-a226-ff3ec507bba8"
      },
      "execution_count": 66,
      "outputs": [
        {
          "output_type": "stream",
          "name": "stdout",
          "text": [
            "Андрей закнчивается на букву й\n"
          ]
        }
      ]
    },
    {
      "cell_type": "markdown",
      "source": [
        "3. Проверьте, содержит ли строка name букву e."
      ],
      "metadata": {
        "id": "peDLLv9o0bBy"
      }
    },
    {
      "cell_type": "code",
      "source": [
        "for i in list(name):\n",
        "  if i == \"е\":\n",
        "    print(\"Есть!\")\n",
        "    break"
      ],
      "metadata": {
        "id": "fJ1N7kQ10a89",
        "colab": {
          "base_uri": "https://localhost:8080/"
        },
        "outputId": "875a1bff-1255-4f7c-e433-00b130f48d84"
      },
      "execution_count": 223,
      "outputs": [
        {
          "output_type": "stream",
          "name": "stdout",
          "text": [
            "Есть!\n"
          ]
        }
      ]
    },
    {
      "cell_type": "code",
      "source": [
        "if \"е\" in name:\n",
        "  print(\"буква есть!\")\n",
        "else:\n",
        "  print(\"буквы нет\")"
      ],
      "metadata": {
        "colab": {
          "base_uri": "https://localhost:8080/"
        },
        "id": "cMzmVXr31Auh",
        "outputId": "bce74838-3c96-4318-eb19-f3e92e266e0e"
      },
      "execution_count": 226,
      "outputs": [
        {
          "output_type": "stream",
          "name": "stdout",
          "text": [
            "буква есть!\n"
          ]
        }
      ]
    },
    {
      "cell_type": "markdown",
      "source": [
        "4. Проверьте, содержит ли строка name цифры."
      ],
      "metadata": {
        "id": "2HWkXc9M0a3L"
      }
    },
    {
      "cell_type": "code",
      "source": [
        "name = \"Андрей 124\"\n",
        "contains_digit = any(char.isdigit() for char in name)\n",
        "print(\"Строка содержит цифры?\\n\\n\", contains_digit)"
      ],
      "metadata": {
        "id": "rartNEkT0ayJ",
        "colab": {
          "base_uri": "https://localhost:8080/"
        },
        "outputId": "4aec7f62-8175-4204-bd87-ebe3a09ebaf1"
      },
      "execution_count": 237,
      "outputs": [
        {
          "output_type": "stream",
          "name": "stdout",
          "text": [
            "Строка содержит цифры?\n",
            "\n",
            " True\n"
          ]
        }
      ]
    },
    {
      "cell_type": "markdown",
      "source": [
        "5. Проверьте, является ли строка name пустой."
      ],
      "metadata": {
        "id": "mTuieMGb0atm"
      }
    },
    {
      "cell_type": "code",
      "source": [
        "name_1 = \"   \"\n",
        "\n",
        "print(f\"В строке '{name_1}' содержится {len(name_1.strip())} символов, без учета пробелов.\")\n"
      ],
      "metadata": {
        "id": "cq-f3YhQ0apG",
        "colab": {
          "base_uri": "https://localhost:8080/"
        },
        "outputId": "3947c1dd-348a-400c-b800-c87f9acbcfbb"
      },
      "execution_count": 84,
      "outputs": [
        {
          "output_type": "stream",
          "name": "stdout",
          "text": [
            "В строке '   ' содержится 0 символов, без учета пробелов.\n"
          ]
        }
      ]
    },
    {
      "cell_type": "markdown",
      "source": [
        "6. Проверьте, является ли строка name палиндромом."
      ],
      "metadata": {
        "id": "1k3uUMmQ0akY"
      }
    },
    {
      "cell_type": "code",
      "source": [
        "sting_D = \"рвал дед лавр\"\n",
        "if sting_D == sting_D[::-1]:\n",
        "  print(\"Строка - полиндром\")\n",
        "else:\n",
        "  print(\"Строка - не полиндром\")"
      ],
      "metadata": {
        "id": "RuMPd6pU0afm",
        "colab": {
          "base_uri": "https://localhost:8080/"
        },
        "outputId": "90d5b0d6-4775-42e1-d037-e85e2afea1ea"
      },
      "execution_count": 188,
      "outputs": [
        {
          "output_type": "stream",
          "name": "stdout",
          "text": [
            "Строка - полиндром\n"
          ]
        }
      ]
    },
    {
      "cell_type": "markdown",
      "source": [
        "7. Замените все пробелы в строке name на символ -."
      ],
      "metadata": {
        "id": "4jHgxY4N0aat"
      }
    },
    {
      "cell_type": "code",
      "source": [
        "new_sting_D = sting_D.replace(\" \", \"-\")\n",
        "new_sting_D"
      ],
      "metadata": {
        "id": "GwONJ14e0aWO",
        "colab": {
          "base_uri": "https://localhost:8080/",
          "height": 36
        },
        "outputId": "5e13e8f2-d471-404a-fdcc-381392dfd357"
      },
      "execution_count": 189,
      "outputs": [
        {
          "output_type": "execute_result",
          "data": {
            "text/plain": [
              "'рвал-дед-лавр'"
            ],
            "application/vnd.google.colaboratory.intrinsic+json": {
              "type": "string"
            }
          },
          "metadata": {},
          "execution_count": 189
        }
      ]
    },
    {
      "cell_type": "markdown",
      "source": [
        "8. Разделите строку name на список слов."
      ],
      "metadata": {
        "id": "B4406Ohi0aRi"
      }
    },
    {
      "cell_type": "code",
      "source": [
        "sting_D = sting_D.split(\" \")\n",
        "sting_D"
      ],
      "metadata": {
        "id": "WT3rmGrK0aNE",
        "colab": {
          "base_uri": "https://localhost:8080/"
        },
        "outputId": "d5a4f7c7-9cb5-4b1f-962d-1af1d186cdf1"
      },
      "execution_count": 190,
      "outputs": [
        {
          "output_type": "execute_result",
          "data": {
            "text/plain": [
              "['рвал', 'дед', 'лавр']"
            ]
          },
          "metadata": {},
          "execution_count": 190
        }
      ]
    },
    {
      "cell_type": "markdown",
      "source": [
        "9. Объедините список слов в строку с пробелами."
      ],
      "metadata": {
        "id": "rtWv0NRR0aII"
      }
    },
    {
      "cell_type": "code",
      "source": [
        "result = ''\n",
        "for i in range(len(sting_D)):\n",
        "  result = result + sting_D[i] + \" \"\n",
        "print(result.rstrip(), type(result))\n",
        "\n",
        "result_2 = \" \".join(sting_D)\n",
        "print(result_2, type(result_2))"
      ],
      "metadata": {
        "id": "1xDBc6dK0aC6",
        "colab": {
          "base_uri": "https://localhost:8080/"
        },
        "outputId": "a6fe5585-d8dc-4686-b5f0-99c472593389"
      },
      "execution_count": 221,
      "outputs": [
        {
          "output_type": "stream",
          "name": "stdout",
          "text": [
            "рвал дед лавр <class 'str'>\n",
            "рвал дед лавр <class 'str'>\n"
          ]
        }
      ]
    },
    {
      "cell_type": "markdown",
      "source": [
        "10. Удалите все пробелы в строке name."
      ],
      "metadata": {
        "id": "fXLTRmiA0Z9y"
      }
    },
    {
      "cell_type": "code",
      "source": [
        "result_2 = result_2.replace(' ', '')\n",
        "result_2"
      ],
      "metadata": {
        "id": "T0oRieaA0Z4_",
        "colab": {
          "base_uri": "https://localhost:8080/",
          "height": 36
        },
        "outputId": "98e49ced-64a0-4b19-ac58-0221006d71cc"
      },
      "execution_count": 222,
      "outputs": [
        {
          "output_type": "execute_result",
          "data": {
            "text/plain": [
              "'рвалдедлавр'"
            ],
            "application/vnd.google.colaboratory.intrinsic+json": {
              "type": "string"
            }
          },
          "metadata": {},
          "execution_count": 222
        }
      ]
    },
    {
      "cell_type": "markdown",
      "source": [
        "## 8. Логические операции"
      ],
      "metadata": {
        "id": "iHTdvnvT0Z0m"
      }
    },
    {
      "cell_type": "markdown",
      "source": [
        "1. Проверьте, является ли x положительным и чётным числом."
      ],
      "metadata": {
        "id": "K_Zj87zp5IIY"
      }
    },
    {
      "cell_type": "code",
      "source": [],
      "metadata": {
        "id": "isfnUa9u0Zvw"
      },
      "execution_count": null,
      "outputs": []
    },
    {
      "cell_type": "markdown",
      "source": [
        "2. Проверьте, является ли y отрицательным или нечётным числом."
      ],
      "metadata": {
        "id": "CnJ3RxhP0ZrI"
      }
    },
    {
      "cell_type": "code",
      "source": [],
      "metadata": {
        "id": "UoqwGiqe0Zls"
      },
      "execution_count": null,
      "outputs": []
    },
    {
      "cell_type": "markdown",
      "source": [
        "3. Проверьте, является ли x двузначным и делится ли оно на 5."
      ],
      "metadata": {
        "id": "FIxC1R-N0ZhO"
      }
    },
    {
      "cell_type": "code",
      "source": [],
      "metadata": {
        "id": "D7ZwB02g0Zci"
      },
      "execution_count": null,
      "outputs": []
    },
    {
      "cell_type": "markdown",
      "source": [
        "4. Проверьте, является ли y трёхзначным и делится ли оно на 3."
      ],
      "metadata": {
        "id": "5q-qagut0ZYD"
      }
    },
    {
      "cell_type": "code",
      "source": [],
      "metadata": {
        "id": "fPjBW9V20ZTW"
      },
      "execution_count": null,
      "outputs": []
    },
    {
      "cell_type": "markdown",
      "source": [
        "5. Проверьте, является ли x простым и чётным числом."
      ],
      "metadata": {
        "id": "6k-XIwqU0ZPB"
      }
    },
    {
      "cell_type": "code",
      "source": [],
      "metadata": {
        "id": "kQbZCUhF0ZKS"
      },
      "execution_count": null,
      "outputs": []
    },
    {
      "cell_type": "markdown",
      "source": [
        "6. Проверьте, является ли y составным и нечётным числом."
      ],
      "metadata": {
        "id": "sv2Zp4Lj0ZFn"
      }
    },
    {
      "cell_type": "code",
      "source": [],
      "metadata": {
        "id": "X77zjauD0ZA_"
      },
      "execution_count": null,
      "outputs": []
    },
    {
      "cell_type": "markdown",
      "source": [
        "7. Проверьте, является ли x положительным или нулём."
      ],
      "metadata": {
        "id": "m94uGX5C0Y7o"
      }
    },
    {
      "cell_type": "code",
      "source": [],
      "metadata": {
        "id": "3qeXdmAD0Y2v"
      },
      "execution_count": null,
      "outputs": []
    },
    {
      "cell_type": "markdown",
      "source": [
        "8. Проверьте, является ли y отрицательным или нулём."
      ],
      "metadata": {
        "id": "kTbawrKZ0Yx6"
      }
    },
    {
      "cell_type": "code",
      "source": [],
      "metadata": {
        "id": "EEGAmMrf0YtE"
      },
      "execution_count": null,
      "outputs": []
    },
    {
      "cell_type": "markdown",
      "source": [
        "9. Проверьте, является ли x двузначным или трёхзначным числом."
      ],
      "metadata": {
        "id": "nfJvZCq_0Yot"
      }
    },
    {
      "cell_type": "code",
      "source": [],
      "metadata": {
        "id": "qY6ms1Cc0Yj_"
      },
      "execution_count": null,
      "outputs": []
    },
    {
      "cell_type": "markdown",
      "source": [
        "10. Проверьте, является ли y однозначным или двузначным числом."
      ],
      "metadata": {
        "id": "G35JftU-0YeD"
      }
    },
    {
      "cell_type": "code",
      "source": [],
      "metadata": {
        "id": "uIdvEW2v0YW-"
      },
      "execution_count": null,
      "outputs": []
    },
    {
      "cell_type": "markdown",
      "source": [],
      "metadata": {
        "id": "RtGqCiHb0YSW"
      }
    },
    {
      "cell_type": "code",
      "source": [],
      "metadata": {
        "id": "TzVa-hDr0YNp"
      },
      "execution_count": null,
      "outputs": []
    },
    {
      "cell_type": "markdown",
      "source": [
        "## 9. Преобразование и форматирование"
      ],
      "metadata": {
        "id": "0HefplgM5fn9"
      }
    },
    {
      "cell_type": "markdown",
      "source": [
        "1. Преобразуйте число x в строку и добавьте к нему строку \" is a number\"."
      ],
      "metadata": {
        "id": "W-jO9nCu0YJN"
      }
    },
    {
      "cell_type": "code",
      "source": [],
      "metadata": {
        "id": "jk13bMvQ0YEJ"
      },
      "execution_count": null,
      "outputs": []
    },
    {
      "cell_type": "markdown",
      "source": [
        "2. Преобразуйте число y в строку и добавьте к нему строку \" is a float\"."
      ],
      "metadata": {
        "id": "ab4FUHiq0X_E"
      }
    },
    {
      "cell_type": "code",
      "source": [],
      "metadata": {
        "id": "pmO7c6q20X6f"
      },
      "execution_count": null,
      "outputs": []
    },
    {
      "cell_type": "markdown",
      "source": [
        "3. Преобразуйте строку name в верхний регистр и добавьте к ней строку \" IS MY NAME\"."
      ],
      "metadata": {
        "id": "Yyu3UTAS0X1v"
      }
    },
    {
      "cell_type": "code",
      "source": [],
      "metadata": {
        "id": "cNG6P6Ab0XxW"
      },
      "execution_count": null,
      "outputs": []
    },
    {
      "cell_type": "markdown",
      "source": [
        "4. Преобразуйте строку name в нижний регистр и добавьте к ней строку \" is my name\"."
      ],
      "metadata": {
        "id": "gAPpUlyz0Xs1"
      }
    },
    {
      "cell_type": "code",
      "source": [],
      "metadata": {
        "id": "j29-bTdI0Xob"
      },
      "execution_count": null,
      "outputs": []
    },
    {
      "cell_type": "markdown",
      "source": [
        "5. Преобразуйте число x в строку и добавьте к нему строку \" squared is \" + str(x ** 2)."
      ],
      "metadata": {
        "id": "4lmEy4bU0XkM"
      }
    },
    {
      "cell_type": "code",
      "source": [],
      "metadata": {
        "id": "vu9XVg4_0Xft"
      },
      "execution_count": null,
      "outputs": []
    },
    {
      "cell_type": "markdown",
      "source": [
        "6. Преобразуйте число y в строку и добавьте к нему строку \" divided by 2 is \" + str(y / 2)."
      ],
      "metadata": {
        "id": "m0kVATc90XbJ"
      }
    },
    {
      "cell_type": "code",
      "source": [],
      "metadata": {
        "id": "h2Vjq8ZV0XWt"
      },
      "execution_count": null,
      "outputs": []
    },
    {
      "cell_type": "markdown",
      "source": [
        "7. Преобразуйте строку name в список символов и выведите его."
      ],
      "metadata": {
        "id": "yQKqoaTa0XSF"
      }
    },
    {
      "cell_type": "code",
      "source": [],
      "metadata": {
        "id": "-fyJqxu90XNg"
      },
      "execution_count": null,
      "outputs": []
    },
    {
      "cell_type": "markdown",
      "source": [
        "8. Преобразуйте список символов обратно в строку и выведите её."
      ],
      "metadata": {
        "id": "jHwhVHf-0XIw"
      }
    },
    {
      "cell_type": "code",
      "source": [],
      "metadata": {
        "id": "zr7ylXt90XDy"
      },
      "execution_count": null,
      "outputs": []
    },
    {
      "cell_type": "markdown",
      "source": [
        "9. Преобразуйте число x в логическое значение и выведите его."
      ],
      "metadata": {
        "id": "6PIgi_cP0W_W"
      }
    },
    {
      "cell_type": "code",
      "source": [],
      "metadata": {
        "id": "sXqLifmW0W6b"
      },
      "execution_count": null,
      "outputs": []
    },
    {
      "cell_type": "markdown",
      "source": [
        "10. Преобразуйте строку name в логическое значение и выведите его."
      ],
      "metadata": {
        "id": "plun-YIA0W1Z"
      }
    },
    {
      "cell_type": "code",
      "source": [],
      "metadata": {
        "id": "gHciJbQY0Wv3"
      },
      "execution_count": null,
      "outputs": []
    },
    {
      "cell_type": "markdown",
      "source": [
        "## 10. Простые задачи"
      ],
      "metadata": {
        "id": "HC4GfhqF0Wqx"
      }
    },
    {
      "cell_type": "markdown",
      "source": [
        "1. Создайте переменную age и присвойте ей ваш возраст."
      ],
      "metadata": {
        "id": "d5BMJPab55bk"
      }
    },
    {
      "cell_type": "code",
      "source": [],
      "metadata": {
        "id": "KKug2MVe0WmF"
      },
      "execution_count": null,
      "outputs": []
    },
    {
      "cell_type": "markdown",
      "source": [
        "2. Создайте переменную year и присвойте ей текущий год."
      ],
      "metadata": {
        "id": "T4o3-h6Q0Wgu"
      }
    },
    {
      "cell_type": "code",
      "source": [],
      "metadata": {
        "id": "6bppVA3I0Wbm"
      },
      "execution_count": null,
      "outputs": []
    },
    {
      "cell_type": "markdown",
      "source": [
        "3. Создайте переменную birth_year и присвойте ей год вашего рождения."
      ],
      "metadata": {
        "id": "P6PEuJ4i0WWV"
      }
    },
    {
      "cell_type": "code",
      "source": [],
      "metadata": {
        "id": "L6x7vZOT0WRR"
      },
      "execution_count": null,
      "outputs": []
    },
    {
      "cell_type": "markdown",
      "source": [
        "4. Создайте переменную age_in_5_years и присвойте ей ваш возраст через 5 лет."
      ],
      "metadata": {
        "id": "dBInpISY0WL5"
      }
    },
    {
      "cell_type": "code",
      "source": [],
      "metadata": {
        "id": "hLjzsN9c0WHG"
      },
      "execution_count": null,
      "outputs": []
    },
    {
      "cell_type": "markdown",
      "source": [
        "5. Создайте переменную days_in_year и присвойте ей количество дней в году."
      ],
      "metadata": {
        "id": "akQJkT-o0WCL"
      }
    },
    {
      "cell_type": "code",
      "source": [],
      "metadata": {
        "id": "BMsoZdKb0V9X"
      },
      "execution_count": null,
      "outputs": []
    },
    {
      "cell_type": "markdown",
      "source": [
        "6. Создайте переменную seconds_in_minute и присвойте ей количество секунд в минуте."
      ],
      "metadata": {
        "id": "b271feBp0V2h"
      }
    },
    {
      "cell_type": "code",
      "source": [],
      "metadata": {
        "id": "bV5uJzCL0VwB"
      },
      "execution_count": null,
      "outputs": []
    },
    {
      "cell_type": "markdown",
      "source": [
        "7. Создайте переменную minutes_in_hour и присвойте ей количество минут в часе."
      ],
      "metadata": {
        "id": "PRlo9wgp0VqD"
      }
    },
    {
      "cell_type": "code",
      "source": [],
      "metadata": {
        "id": "NbgTGBh20Vk8"
      },
      "execution_count": null,
      "outputs": []
    },
    {
      "cell_type": "markdown",
      "source": [
        "8. Создайте переменную hours_in_day и присвойте ей количество часов в сутках."
      ],
      "metadata": {
        "id": "r8vMgTSc0VfK"
      }
    },
    {
      "cell_type": "code",
      "source": [],
      "metadata": {
        "id": "rNubwTmx0VaT"
      },
      "execution_count": null,
      "outputs": []
    },
    {
      "cell_type": "markdown",
      "source": [
        "9. Создайте переменную seconds_in_day и присвойте ей количество секунд в сутках."
      ],
      "metadata": {
        "id": "qKO-THFR0VVR"
      }
    },
    {
      "cell_type": "code",
      "source": [],
      "metadata": {
        "id": "4-HOEOMp0VQa"
      },
      "execution_count": null,
      "outputs": []
    },
    {
      "cell_type": "markdown",
      "source": [
        "10. Создайте переменную days_in_week и присвойте ей количество дней в неделе.\n"
      ],
      "metadata": {
        "id": "RVchpp9y0VKV"
      }
    },
    {
      "cell_type": "code",
      "source": [],
      "metadata": {
        "id": "X-0KSOuf0VDm"
      },
      "execution_count": null,
      "outputs": []
    },
    {
      "cell_type": "markdown",
      "source": [
        "## 11. Работа с числами и строками"
      ],
      "metadata": {
        "id": "v3FvSY_t6U1U"
      }
    },
    {
      "cell_type": "markdown",
      "source": [
        "1. Создайте переменную num_str и присвойте ей строку \"123\"."
      ],
      "metadata": {
        "id": "xGaoWC7j6XRN"
      }
    },
    {
      "cell_type": "code",
      "source": [],
      "metadata": {
        "id": "Sq3D7-l46ZcJ"
      },
      "execution_count": null,
      "outputs": []
    },
    {
      "cell_type": "markdown",
      "source": [
        "2. Преобразуйте строку num_str в целое число и сохраните результат в переменной num_int."
      ],
      "metadata": {
        "id": "oqZMo6_Y6hgc"
      }
    },
    {
      "cell_type": "code",
      "source": [],
      "metadata": {
        "id": "-0YKMEiT6g5s"
      },
      "execution_count": null,
      "outputs": []
    },
    {
      "cell_type": "markdown",
      "source": [
        "3. Преобразуйте строку num_str в число с плавающей точкой и сохраните результат в переменной num_float.\n"
      ],
      "metadata": {
        "id": "EUWa693a6g1i"
      }
    },
    {
      "cell_type": "code",
      "source": [],
      "metadata": {
        "id": "kD_g-xvb6gxR"
      },
      "execution_count": null,
      "outputs": []
    },
    {
      "cell_type": "markdown",
      "source": [
        "4. Создайте переменную float_str и присвойте ей строку \"45.67\"."
      ],
      "metadata": {
        "id": "fEig3W7V6gtN"
      }
    },
    {
      "cell_type": "code",
      "source": [],
      "metadata": {
        "id": "CguKEky-6go0"
      },
      "execution_count": null,
      "outputs": []
    },
    {
      "cell_type": "markdown",
      "source": [
        "5. Преобразуйте строку float_str в число с плавающей точкой и сохраните результат в переменной float_num.\n"
      ],
      "metadata": {
        "id": "f06YAxju6gka"
      }
    },
    {
      "cell_type": "code",
      "source": [],
      "metadata": {
        "id": "1Xsdwi2P6gf9"
      },
      "execution_count": null,
      "outputs": []
    },
    {
      "cell_type": "markdown",
      "source": [
        "6. Создайте переменную bool_str и присвойте ей строку \"True\"."
      ],
      "metadata": {
        "id": "Nzzmo0PF6gb8"
      }
    },
    {
      "cell_type": "code",
      "source": [],
      "metadata": {
        "id": "3hlDrAQe6gXI"
      },
      "execution_count": null,
      "outputs": []
    },
    {
      "cell_type": "markdown",
      "source": [
        "7. Преобразуйте строку bool_str в логическое значение и сохраните результат в переменной bool_val.\n"
      ],
      "metadata": {
        "id": "rMBU2Mn56gL7"
      }
    },
    {
      "cell_type": "code",
      "source": [],
      "metadata": {
        "id": "-SoRPZDM6gHi"
      },
      "execution_count": null,
      "outputs": []
    },
    {
      "cell_type": "markdown",
      "source": [
        "8. Создайте переменную int_str и присвойте ей строку \"100\"."
      ],
      "metadata": {
        "id": "qFKEA-nb6gDa"
      }
    },
    {
      "cell_type": "code",
      "source": [],
      "metadata": {
        "id": "TTqJRlQD6f_T"
      },
      "execution_count": null,
      "outputs": []
    },
    {
      "cell_type": "markdown",
      "source": [
        "9. Преобразуйте строку int_str в целое число и сохраните результат в переменной int_num."
      ],
      "metadata": {
        "id": "BciJiqy66f7R"
      }
    },
    {
      "cell_type": "code",
      "source": [],
      "metadata": {
        "id": "PWOvpNbX6f24"
      },
      "execution_count": null,
      "outputs": []
    },
    {
      "cell_type": "markdown",
      "source": [
        "10. Создайте переменную str_num и присвойте ей строку \"3.14\"."
      ],
      "metadata": {
        "id": "JqK9njwI6fxO"
      }
    },
    {
      "cell_type": "code",
      "source": [],
      "metadata": {
        "id": "JX_AmOXp6frR"
      },
      "execution_count": null,
      "outputs": []
    },
    {
      "cell_type": "markdown",
      "source": [
        "11. Преобразуйте строку str_num в число с плавающей точкой и сохраните результат в переменной float_num.\n"
      ],
      "metadata": {
        "id": "MRWX9Una6fkm"
      }
    },
    {
      "cell_type": "code",
      "source": [],
      "metadata": {
        "id": "vntvzQVC6fUr"
      },
      "execution_count": null,
      "outputs": []
    },
    {
      "cell_type": "markdown",
      "source": [
        "12. Создайте переменную bool_num и присвойте ей строку \"0\"."
      ],
      "metadata": {
        "id": "7rlfVWfS6fQt"
      }
    },
    {
      "cell_type": "code",
      "source": [],
      "metadata": {
        "id": "PwrnYHiQ6fMe"
      },
      "execution_count": null,
      "outputs": []
    },
    {
      "cell_type": "markdown",
      "source": [
        "13. Преобразуйте строку bool_num в логическое значение и сохраните результат в переменной bool_val.\n"
      ],
      "metadata": {
        "id": "x_v9rBgj6fGw"
      }
    },
    {
      "cell_type": "code",
      "source": [],
      "metadata": {
        "id": "BO1WWOh66fCU"
      },
      "execution_count": null,
      "outputs": []
    },
    {
      "cell_type": "markdown",
      "source": [
        "14. Создайте переменную empty_str и присвойте ей пустую строку \"\".\n"
      ],
      "metadata": {
        "id": "obypeaV06e9m"
      }
    },
    {
      "cell_type": "code",
      "source": [],
      "metadata": {
        "id": "sW4OvXf96e5N"
      },
      "execution_count": null,
      "outputs": []
    },
    {
      "cell_type": "markdown",
      "source": [
        "15. Преобразуйте строку empty_str в логическое значение и сохраните результат в переменной bool_val.\n"
      ],
      "metadata": {
        "id": "cxKDZ4yk6e0Y"
      }
    },
    {
      "cell_type": "code",
      "source": [],
      "metadata": {
        "id": "l5jLbzEK6ev4"
      },
      "execution_count": null,
      "outputs": []
    },
    {
      "cell_type": "markdown",
      "source": [
        "16. Создайте переменную zero_str и присвойте ей строку \"0\".\n"
      ],
      "metadata": {
        "id": "7v14uzM_6er3"
      }
    },
    {
      "cell_type": "code",
      "source": [],
      "metadata": {
        "id": "NTmR1Dt26enr"
      },
      "execution_count": null,
      "outputs": []
    },
    {
      "cell_type": "markdown",
      "source": [
        "17. Преобразуйте строку zero_str в логическое значение и сохраните результат в переменной bool_val.\n"
      ],
      "metadata": {
        "id": "VMXiYMDU6eiM"
      }
    },
    {
      "cell_type": "code",
      "source": [],
      "metadata": {
        "id": "V4asz1fM6ed5"
      },
      "execution_count": null,
      "outputs": []
    },
    {
      "cell_type": "markdown",
      "source": [
        "18. Создайте переменную one_str и присвойте ей строку \"1\"."
      ],
      "metadata": {
        "id": "vKoHCw8m6eZA"
      }
    },
    {
      "cell_type": "code",
      "source": [],
      "metadata": {
        "id": "bxXmpWra6eUp"
      },
      "execution_count": null,
      "outputs": []
    },
    {
      "cell_type": "markdown",
      "source": [
        "19. Преобразуйте строку one_str в логическое значение и сохраните результат в переменной bool_val.\n"
      ],
      "metadata": {
        "id": "MoSnpnyq6eQL"
      }
    },
    {
      "cell_type": "code",
      "source": [],
      "metadata": {
        "id": "u2gf_Jw26eLw"
      },
      "execution_count": null,
      "outputs": []
    },
    {
      "cell_type": "markdown",
      "source": [
        "20. Создайте переменную true_str и присвойте ей строку \"True\"."
      ],
      "metadata": {
        "id": "1cn0KFff6eHq"
      }
    },
    {
      "cell_type": "code",
      "source": [],
      "metadata": {
        "id": "lfPM39qR6eC0"
      },
      "execution_count": null,
      "outputs": []
    },
    {
      "cell_type": "markdown",
      "source": [
        "21. Преобразуйте строку true_str в логическое значение и сохраните результат в переменной bool_val.\n"
      ],
      "metadata": {
        "id": "NsP6rHdL6d_A"
      }
    },
    {
      "cell_type": "code",
      "source": [],
      "metadata": {
        "id": "NW1gJ5F26d7b"
      },
      "execution_count": null,
      "outputs": []
    },
    {
      "cell_type": "markdown",
      "source": [
        "22. Создайте переменную false_str и присвойте ей строку \"False\".\n"
      ],
      "metadata": {
        "id": "AdIjGlfz6d3u"
      }
    },
    {
      "cell_type": "code",
      "source": [],
      "metadata": {
        "id": "nF6727wh6dx8"
      },
      "execution_count": null,
      "outputs": []
    },
    {
      "cell_type": "markdown",
      "source": [
        "23. Преобразуйте строку false_str в логическое значение и сохраните результат в переменной bool_val.\n"
      ],
      "metadata": {
        "id": "w3Zy2iGR6dtE"
      }
    },
    {
      "cell_type": "code",
      "source": [],
      "metadata": {
        "id": "OrURyTeV6do5"
      },
      "execution_count": null,
      "outputs": []
    },
    {
      "cell_type": "markdown",
      "source": [
        "24. Создайте переменную none_str и присвойте ей строку \"None\"."
      ],
      "metadata": {
        "id": "rBtno9y-6djl"
      }
    },
    {
      "cell_type": "code",
      "source": [],
      "metadata": {
        "id": "tR-pN6086dfQ"
      },
      "execution_count": null,
      "outputs": []
    },
    {
      "cell_type": "markdown",
      "source": [
        "25. Преобразуйте строку none_str в логическое значение и сохраните результат в переменной bool_val.\n"
      ],
      "metadata": {
        "id": "yWwZPnK26da7"
      }
    },
    {
      "cell_type": "code",
      "source": [],
      "metadata": {
        "id": "KaTEv9uR6dWk"
      },
      "execution_count": null,
      "outputs": []
    },
    {
      "cell_type": "markdown",
      "source": [
        "26. Создайте переменную space_str и присвойте ей строку \" \"."
      ],
      "metadata": {
        "id": "AbAB-n0B6dST"
      }
    },
    {
      "cell_type": "code",
      "source": [],
      "metadata": {
        "id": "7dlYKCZh6dOO"
      },
      "execution_count": null,
      "outputs": []
    },
    {
      "cell_type": "markdown",
      "source": [
        "27. Преобразуйте строку space_str в логическое значение и сохраните результат в переменной bool_val.\n"
      ],
      "metadata": {
        "id": "ajsFd22M6dJg"
      }
    },
    {
      "cell_type": "code",
      "source": [],
      "metadata": {
        "id": "l32jm5ev6dE7"
      },
      "execution_count": null,
      "outputs": []
    },
    {
      "cell_type": "markdown",
      "source": [
        "28. Создайте переменную newline_str и присвойте ей строку \"\\n\".\n"
      ],
      "metadata": {
        "id": "qBexr03I6dAK"
      }
    },
    {
      "cell_type": "code",
      "source": [],
      "metadata": {
        "id": "k8XXPgCz6c7c"
      },
      "execution_count": null,
      "outputs": []
    },
    {
      "cell_type": "markdown",
      "source": [
        "29. Преобразуйте строку newline_str в логическое значение и сохраните результат в переменной bool_val.\n"
      ],
      "metadata": {
        "id": "AXCdCcFP6c35"
      }
    },
    {
      "cell_type": "code",
      "source": [],
      "metadata": {
        "id": "iU2AljDA6cy8"
      },
      "execution_count": null,
      "outputs": []
    },
    {
      "cell_type": "markdown",
      "source": [
        "30. Создайте переменную tab_str и присвойте ей строку \"\\t\"."
      ],
      "metadata": {
        "id": "NacmxXzG6cuR"
      }
    },
    {
      "cell_type": "code",
      "source": [],
      "metadata": {
        "id": "Ic0KayJX6cpr"
      },
      "execution_count": null,
      "outputs": []
    },
    {
      "cell_type": "markdown",
      "source": [
        "31. Преобразуйте строку tab_str в логическое значение и сохраните результат в переменной bool_val.\n"
      ],
      "metadata": {
        "id": "_y7QMsEs6clw"
      }
    },
    {
      "cell_type": "code",
      "source": [],
      "metadata": {
        "id": "EG9hwqhN6cgg"
      },
      "execution_count": null,
      "outputs": []
    },
    {
      "cell_type": "markdown",
      "source": [
        "32. Создайте переменную comma_str и присвойте ей строку \",\"."
      ],
      "metadata": {
        "id": "bivDsmK66cck"
      }
    },
    {
      "cell_type": "code",
      "source": [],
      "metadata": {
        "id": "D7FdNoUS6cXn"
      },
      "execution_count": null,
      "outputs": []
    },
    {
      "cell_type": "markdown",
      "source": [
        "33. Преобразуйте строку comma_str в логическое значение и сохраните результат в переменной bool_val.\n"
      ],
      "metadata": {
        "id": "nE2oVZif6cTA"
      }
    },
    {
      "cell_type": "code",
      "source": [],
      "metadata": {
        "id": "LBiVnVD06cNu"
      },
      "execution_count": null,
      "outputs": []
    },
    {
      "cell_type": "markdown",
      "source": [
        "34. Создайте переменную dot_str и присвойте ей строку \".\"."
      ],
      "metadata": {
        "id": "xQL8CUE06cJU"
      }
    },
    {
      "cell_type": "code",
      "source": [],
      "metadata": {
        "id": "YCOBa7PD6cFX"
      },
      "execution_count": null,
      "outputs": []
    },
    {
      "cell_type": "markdown",
      "source": [
        "35. Преобразуйте строку dot_str в логическое значение и сохраните результат в переменной bool_val.\n"
      ],
      "metadata": {
        "id": "i41ffVHT6cAh"
      }
    },
    {
      "cell_type": "code",
      "source": [],
      "metadata": {
        "id": "L5TOfA9D6b8k"
      },
      "execution_count": null,
      "outputs": []
    },
    {
      "cell_type": "markdown",
      "source": [
        "36. Создайте переменную colon_str и присвойте ей строку \":\"."
      ],
      "metadata": {
        "id": "8TEfkc406b5C"
      }
    },
    {
      "cell_type": "code",
      "source": [],
      "metadata": {
        "id": "hdXDDz9H6bz9"
      },
      "execution_count": null,
      "outputs": []
    },
    {
      "cell_type": "markdown",
      "source": [
        "37. Преобразуйте строку colon_str в логическое значение и сохраните результат в переменной bool_val.\n"
      ],
      "metadata": {
        "id": "IGKvvqkE6buS"
      }
    },
    {
      "cell_type": "code",
      "source": [],
      "metadata": {
        "id": "fV1Bw1XI6bpT"
      },
      "execution_count": null,
      "outputs": []
    },
    {
      "cell_type": "markdown",
      "source": [
        "38. Создайте переменную semicolon_str и присвойте ей строку \";\"."
      ],
      "metadata": {
        "id": "HVBRdd9J6blP"
      }
    },
    {
      "cell_type": "code",
      "source": [],
      "metadata": {
        "id": "iQrMG7rj6bgI"
      },
      "execution_count": null,
      "outputs": []
    },
    {
      "cell_type": "markdown",
      "source": [
        "39. Преобразуйте строку semicolon_str в логическое значение и сохраните результат в переменной bool_val.\n"
      ],
      "metadata": {
        "id": "RuZ9zula6bcA"
      }
    },
    {
      "cell_type": "code",
      "source": [],
      "metadata": {
        "id": "H6b3u8mw6bXB"
      },
      "execution_count": null,
      "outputs": []
    },
    {
      "cell_type": "markdown",
      "source": [
        "40. Создайте переменную exclamation_str и присвойте ей строку \"!\"."
      ],
      "metadata": {
        "id": "0mbjaMs36bSf"
      }
    },
    {
      "cell_type": "code",
      "source": [],
      "metadata": {
        "id": "BPsUfJTs6bO8"
      },
      "execution_count": null,
      "outputs": []
    },
    {
      "cell_type": "markdown",
      "source": [
        "41. Преобразуйте строку exclamation_str в логическое значение и сохраните результат в переменной bool_val.\n"
      ],
      "metadata": {
        "id": "F2jjuiBV6bHg"
      }
    },
    {
      "cell_type": "code",
      "source": [],
      "metadata": {
        "id": "YfvujuBi6bC5"
      },
      "execution_count": null,
      "outputs": []
    },
    {
      "cell_type": "markdown",
      "source": [
        "42. Создайте переменную question_str и присвойте ей строку \"?\".\n"
      ],
      "metadata": {
        "id": "Ao7WsjPc6a-Q"
      }
    },
    {
      "cell_type": "code",
      "source": [],
      "metadata": {
        "id": "TX2fmCet6a6I"
      },
      "execution_count": null,
      "outputs": []
    },
    {
      "cell_type": "markdown",
      "source": [
        "43. Преобразуйте строку question_str в логическое значение и сохраните результат в переменной bool_val.\n"
      ],
      "metadata": {
        "id": "WjrN9Frb6a1Q"
      }
    },
    {
      "cell_type": "code",
      "source": [],
      "metadata": {
        "id": "tZ4prdYy6awM"
      },
      "execution_count": null,
      "outputs": []
    },
    {
      "cell_type": "markdown",
      "source": [
        "44. Создайте переменную quote_str и присвойте ей строку \"'\"."
      ],
      "metadata": {
        "id": "kGlsLDiK6asr"
      }
    },
    {
      "cell_type": "code",
      "source": [],
      "metadata": {
        "id": "jkwrwdS66anO"
      },
      "execution_count": null,
      "outputs": []
    },
    {
      "cell_type": "markdown",
      "source": [
        "45. Преобразуйте строку quote_str в логическое значение и сохраните результат в переменной bool_val.\n"
      ],
      "metadata": {
        "id": "EurkyOSz6aiO"
      }
    },
    {
      "cell_type": "code",
      "source": [],
      "metadata": {
        "id": "IXiYUDIe6adV"
      },
      "execution_count": null,
      "outputs": []
    },
    {
      "cell_type": "markdown",
      "source": [
        "46. Создайте переменную double_quote_str и присвойте ей строку \"\\\"\"."
      ],
      "metadata": {
        "id": "cdm0QNMg6aWk"
      }
    },
    {
      "cell_type": "code",
      "source": [],
      "metadata": {
        "id": "sgp3_G2l8q8r"
      },
      "execution_count": null,
      "outputs": []
    },
    {
      "cell_type": "markdown",
      "source": [
        "47. Преобразуйте строку double_quote_str в логическое значение и сохраните результат в переменной bool_val.\n"
      ],
      "metadata": {
        "id": "YRGptCvS8q1U"
      }
    },
    {
      "cell_type": "code",
      "source": [],
      "metadata": {
        "id": "uof9zO2L8qsj"
      },
      "execution_count": null,
      "outputs": []
    },
    {
      "cell_type": "markdown",
      "source": [
        "48. Создайте переменную backslash_str и присвойте ей строку \"\\\\\"."
      ],
      "metadata": {
        "id": "QPuL-hER8qkw"
      }
    },
    {
      "cell_type": "code",
      "source": [],
      "metadata": {
        "id": "1452yonb8qYG"
      },
      "execution_count": null,
      "outputs": []
    },
    {
      "cell_type": "markdown",
      "source": [
        "49. Преобразуйте строку backslash_str в логическое значение и сохраните результат в переменной bool_val.\n"
      ],
      "metadata": {
        "id": "wL9HLsxW8qPO"
      }
    },
    {
      "cell_type": "code",
      "source": [],
      "metadata": {
        "id": "zgT2ldeo8qJK"
      },
      "execution_count": null,
      "outputs": []
    },
    {
      "cell_type": "markdown",
      "source": [
        "50. Создайте переменную slash_str и присвойте ей строку \"/\".\n"
      ],
      "metadata": {
        "id": "9csc_m3l8qAl"
      }
    },
    {
      "cell_type": "code",
      "source": [],
      "metadata": {
        "id": "P1bUFp408p54"
      },
      "execution_count": null,
      "outputs": []
    },
    {
      "cell_type": "markdown",
      "source": [
        "51. Преобразуйте строку slash_str в логическое значение и сохраните результат в переменной bool_val.\n"
      ],
      "metadata": {
        "id": "MpqeKSN98pyO"
      }
    },
    {
      "cell_type": "code",
      "source": [],
      "metadata": {
        "id": "H8uCF6a48pps"
      },
      "execution_count": null,
      "outputs": []
    },
    {
      "cell_type": "markdown",
      "source": [
        "52. Создайте переменную pipe_str и присвойте ей строку \"|\"."
      ],
      "metadata": {
        "id": "i_DkW_Nq8pgF"
      }
    },
    {
      "cell_type": "code",
      "source": [],
      "metadata": {
        "id": "JO9rT-xp8pZD"
      },
      "execution_count": null,
      "outputs": []
    },
    {
      "cell_type": "markdown",
      "source": [
        "53. Преобразуйте строку pipe_str в логическое значение и сохраните результат в переменной bool_val.\n"
      ],
      "metadata": {
        "id": "tJjb5jDX8pNY"
      }
    },
    {
      "cell_type": "code",
      "source": [],
      "metadata": {
        "id": "WhjpCXoD8onC"
      },
      "execution_count": null,
      "outputs": []
    },
    {
      "cell_type": "markdown",
      "source": [
        "54. Создайте переменную tilde_str и присвойте ей строку \"~\"."
      ],
      "metadata": {
        "id": "NEv7qmn58mmh"
      }
    },
    {
      "cell_type": "code",
      "source": [],
      "metadata": {
        "id": "UHjy3bA48m-b"
      },
      "execution_count": null,
      "outputs": []
    },
    {
      "cell_type": "markdown",
      "source": [
        "55. Преобразуйте строку tilde_str в логическое значение и сохраните результат в переменной bool_val.\n"
      ],
      "metadata": {
        "id": "Gy4ptCYt8n7I"
      }
    },
    {
      "cell_type": "code",
      "source": [],
      "metadata": {
        "id": "JtsRAV5Y9BzB"
      },
      "execution_count": null,
      "outputs": []
    },
    {
      "cell_type": "markdown",
      "source": [
        "56. Создайте переменную asterisk_str и присвойте ей строку \"*\"."
      ],
      "metadata": {
        "id": "G2SYhvV29BWd"
      }
    },
    {
      "cell_type": "code",
      "source": [],
      "metadata": {
        "id": "tQKmXRHc6aOK"
      },
      "execution_count": null,
      "outputs": []
    }
  ]
}