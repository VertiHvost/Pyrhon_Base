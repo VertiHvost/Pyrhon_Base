{
  "nbformat": 4,
  "nbformat_minor": 0,
  "metadata": {
    "colab": {
      "provenance": [],
      "authorship_tag": "ABX9TyPw7I77UAQn5I/+MQTqH8LO",
      "include_colab_link": true
    },
    "kernelspec": {
      "name": "python3",
      "display_name": "Python 3"
    },
    "language_info": {
      "name": "python"
    }
  },
  "cells": [
    {
      "cell_type": "markdown",
      "metadata": {
        "id": "view-in-github",
        "colab_type": "text"
      },
      "source": [
        "<a href=\"https://colab.research.google.com/github/VertiHvost/Pyrhon_Base/blob/main/Working_out_Variables_and_simple_data_types_156_Task.ipynb\" target=\"_parent\"><img src=\"https://colab.research.google.com/assets/colab-badge.svg\" alt=\"Open In Colab\"/></a>"
      ]
    },
    {
      "cell_type": "markdown",
      "source": [
        "### Переменные и простые типы данных"
      ],
      "metadata": {
        "id": "cmGwOi340JcL"
      }
    },
    {
      "cell_type": "markdown",
      "source": [
        "## 1. Числовые типы данных (int, float)"
      ],
      "metadata": {
        "id": "iO8-_pIM0MDs"
      }
    },
    {
      "cell_type": "markdown",
      "source": [
        "1. Создайте переменную x и присвойте ей значение 10."
      ],
      "metadata": {
        "id": "AAfuRgih0RgF"
      }
    },
    {
      "cell_type": "code",
      "source": [
        "x = 10\n",
        "x"
      ],
      "metadata": {
        "id": "bYtY-wx_bPtD",
        "colab": {
          "base_uri": "https://localhost:8080/"
        },
        "outputId": "c0da74e4-c83d-4402-f75d-57032b7a5fe9"
      },
      "execution_count": 19,
      "outputs": [
        {
          "output_type": "execute_result",
          "data": {
            "text/plain": [
              "10"
            ]
          },
          "metadata": {},
          "execution_count": 19
        }
      ]
    },
    {
      "cell_type": "markdown",
      "source": [
        "2. Создайте переменную y и присвойте ей значение 5.5."
      ],
      "metadata": {
        "id": "HkBbb0u-0kuH"
      }
    },
    {
      "cell_type": "code",
      "source": [
        "y = 5.5\n",
        "y"
      ],
      "metadata": {
        "id": "8Ji-IxUd0kHA",
        "colab": {
          "base_uri": "https://localhost:8080/"
        },
        "outputId": "7c6edd7b-884a-4580-d276-762322809a5b"
      },
      "execution_count": 28,
      "outputs": [
        {
          "output_type": "execute_result",
          "data": {
            "text/plain": [
              "5.5"
            ]
          },
          "metadata": {},
          "execution_count": 28
        }
      ]
    },
    {
      "cell_type": "markdown",
      "source": [
        "3. Создайте переменную z и присвойте ей сумму x и y.\n"
      ],
      "metadata": {
        "id": "8V2-MYnO0kDX"
      }
    },
    {
      "cell_type": "code",
      "source": [
        "z = y + x\n",
        "z"
      ],
      "metadata": {
        "id": "hk_T76TG0j90",
        "colab": {
          "base_uri": "https://localhost:8080/"
        },
        "outputId": "99cc85de-9d84-45f3-ff27-63e5d1da43ec"
      },
      "execution_count": 29,
      "outputs": [
        {
          "output_type": "execute_result",
          "data": {
            "text/plain": [
              "15.5"
            ]
          },
          "metadata": {},
          "execution_count": 29
        }
      ]
    },
    {
      "cell_type": "markdown",
      "source": [
        "4. Создайте переменную w и присвойте ей произведение x и y."
      ],
      "metadata": {
        "id": "rLklfJkl0j5h"
      }
    },
    {
      "cell_type": "code",
      "source": [
        "w = y * x\n",
        "w"
      ],
      "metadata": {
        "id": "8Wy8Kj3N0j1L",
        "colab": {
          "base_uri": "https://localhost:8080/"
        },
        "outputId": "9ac26bed-f406-432c-875b-cd8ee5812840"
      },
      "execution_count": 30,
      "outputs": [
        {
          "output_type": "execute_result",
          "data": {
            "text/plain": [
              "55.0"
            ]
          },
          "metadata": {},
          "execution_count": 30
        }
      ]
    },
    {
      "cell_type": "markdown",
      "source": [
        "5. Создайте переменную a и присвойте ей результат деления x на y."
      ],
      "metadata": {
        "id": "Z1iyRd2m0jxG"
      }
    },
    {
      "cell_type": "code",
      "source": [
        "a = x / y\n",
        "print(a)"
      ],
      "metadata": {
        "id": "CMcjnvnW0jr3",
        "colab": {
          "base_uri": "https://localhost:8080/"
        },
        "outputId": "070de217-b9f5-40a1-8f3a-654be677906b"
      },
      "execution_count": 31,
      "outputs": [
        {
          "output_type": "stream",
          "name": "stdout",
          "text": [
            "1.8181818181818181\n"
          ]
        }
      ]
    },
    {
      "cell_type": "markdown",
      "source": [
        "6. Создайте переменную b и присвойте ей результат возведения x в квадрат."
      ],
      "metadata": {
        "id": "QtG-4nbY0jn0"
      }
    },
    {
      "cell_type": "code",
      "source": [
        "b = x**2\n",
        "b"
      ],
      "metadata": {
        "id": "osnl_4ou0jiY",
        "colab": {
          "base_uri": "https://localhost:8080/"
        },
        "outputId": "039dfd66-e3fb-4acc-f28d-37295365cda8"
      },
      "execution_count": 32,
      "outputs": [
        {
          "output_type": "execute_result",
          "data": {
            "text/plain": [
              "100"
            ]
          },
          "metadata": {},
          "execution_count": 32
        }
      ]
    },
    {
      "cell_type": "markdown",
      "source": [
        "7. Создайте переменную c и присвойте ей результат деления y на x с округлением до одного знака после запятой."
      ],
      "metadata": {
        "id": "EcS8ip790jeY"
      }
    },
    {
      "cell_type": "code",
      "source": [
        "c =  y / x\n",
        "\n",
        "print(\"Способ 1: \", \"{:.1f}\".format(c))\n",
        "print(\"Способ 2: \", \"%.1f\" % c)\n",
        "print(\"Способ 3: \", round(c,1))"
      ],
      "metadata": {
        "id": "TNCCz5n10jYy",
        "colab": {
          "base_uri": "https://localhost:8080/"
        },
        "outputId": "b930ccb9-1e51-460f-a139-3bbfbe3b8f25"
      },
      "execution_count": 55,
      "outputs": [
        {
          "output_type": "stream",
          "name": "stdout",
          "text": [
            "Способ 1:  0.6\n",
            "Способ 2:  0.6\n",
            "Способ 3:  0.6\n"
          ]
        }
      ]
    },
    {
      "cell_type": "markdown",
      "source": [
        "8. Создайте переменную d и присвойте ей результат целочисленного деления x на y."
      ],
      "metadata": {
        "id": "nNLEsDLt0jU6"
      }
    },
    {
      "cell_type": "code",
      "source": [
        "d = x // y\n",
        "d"
      ],
      "metadata": {
        "id": "ZVJKGsLP0jPy",
        "colab": {
          "base_uri": "https://localhost:8080/"
        },
        "outputId": "6b06c005-1452-4e0e-9cb6-2dff2fc59c17"
      },
      "execution_count": 64,
      "outputs": [
        {
          "output_type": "execute_result",
          "data": {
            "text/plain": [
              "1.0"
            ]
          },
          "metadata": {},
          "execution_count": 64
        }
      ]
    },
    {
      "cell_type": "markdown",
      "source": [
        "9. Создайте переменную e и присвойте ей остаток от деления x на y."
      ],
      "metadata": {
        "id": "5CF9GFGD0jL1"
      }
    },
    {
      "cell_type": "code",
      "source": [
        "e = x % y\n",
        "e"
      ],
      "metadata": {
        "id": "iielDJo50jHM",
        "colab": {
          "base_uri": "https://localhost:8080/"
        },
        "outputId": "3af58f91-44a9-4169-f86e-1b662766ba90"
      },
      "execution_count": 66,
      "outputs": [
        {
          "output_type": "execute_result",
          "data": {
            "text/plain": [
              "4.5"
            ]
          },
          "metadata": {},
          "execution_count": 66
        }
      ]
    },
    {
      "cell_type": "markdown",
      "source": [
        "10. Создайте переменную f и присвойте ей результат сложения x, y и z."
      ],
      "metadata": {
        "id": "QhkopWUF0jDG"
      }
    },
    {
      "cell_type": "code",
      "source": [
        "f = x + y + z\n",
        "f"
      ],
      "metadata": {
        "id": "VkA31r-g0i_b",
        "colab": {
          "base_uri": "https://localhost:8080/"
        },
        "outputId": "7cbc24bc-836e-45ec-d84d-68dcc91766db"
      },
      "execution_count": 67,
      "outputs": [
        {
          "output_type": "execute_result",
          "data": {
            "text/plain": [
              "31.0"
            ]
          },
          "metadata": {},
          "execution_count": 67
        }
      ]
    },
    {
      "cell_type": "markdown",
      "source": [
        "## 2. Строки (str)"
      ],
      "metadata": {
        "id": "IAZX-LyM0i6M"
      }
    },
    {
      "cell_type": "markdown",
      "source": [
        "1. Создайте переменную name и присвойте ей ваше имя."
      ],
      "metadata": {
        "id": "zBUPhcyu1BUB"
      }
    },
    {
      "cell_type": "code",
      "source": [
        "name = \"Андрей\"\n",
        "name"
      ],
      "metadata": {
        "id": "VxQcX8VV0i1e",
        "colab": {
          "base_uri": "https://localhost:8080/",
          "height": 36
        },
        "outputId": "983eb638-ce4d-444f-d022-d8a5c782de9c"
      },
      "execution_count": 89,
      "outputs": [
        {
          "output_type": "execute_result",
          "data": {
            "text/plain": [
              "'Андрей'"
            ],
            "application/vnd.google.colaboratory.intrinsic+json": {
              "type": "string"
            }
          },
          "metadata": {},
          "execution_count": 89
        }
      ]
    },
    {
      "cell_type": "markdown",
      "source": [
        "2. Создайте переменную greeting и присвойте ей строку \"Hello, \" + name."
      ],
      "metadata": {
        "id": "Px7nNWeN0ixk"
      }
    },
    {
      "cell_type": "code",
      "source": [
        "greeting = \"Hello, \" + name\n",
        "greeting"
      ],
      "metadata": {
        "id": "P0ATelwo0isc",
        "colab": {
          "base_uri": "https://localhost:8080/",
          "height": 36
        },
        "outputId": "eaf30829-317e-4509-c613-facae986e0e3"
      },
      "execution_count": 71,
      "outputs": [
        {
          "output_type": "execute_result",
          "data": {
            "text/plain": [
              "'Hello, Андрей'"
            ],
            "application/vnd.google.colaboratory.intrinsic+json": {
              "type": "string"
            }
          },
          "metadata": {},
          "execution_count": 71
        }
      ]
    },
    {
      "cell_type": "markdown",
      "source": [
        "3. Создайте переменную message и присвойте ей строку \"My name is \" + name."
      ],
      "metadata": {
        "id": "wjQ7RJhB0io7"
      }
    },
    {
      "cell_type": "code",
      "source": [
        "message = \"My name is \" + name\n",
        "print(message)"
      ],
      "metadata": {
        "id": "7fcn_9y80ijl",
        "colab": {
          "base_uri": "https://localhost:8080/"
        },
        "outputId": "d2467665-f056-47a0-a6fb-4627727bc6ff"
      },
      "execution_count": 74,
      "outputs": [
        {
          "output_type": "stream",
          "name": "stdout",
          "text": [
            "My name is Андрей\n"
          ]
        }
      ]
    },
    {
      "cell_type": "markdown",
      "source": [
        "4. Создайте переменную length и присвойте ей длину строки name."
      ],
      "metadata": {
        "id": "cyLXh8Fm0if9"
      }
    },
    {
      "cell_type": "code",
      "source": [
        "length = len(name)\n",
        "length"
      ],
      "metadata": {
        "id": "ccmNitri0iaq",
        "colab": {
          "base_uri": "https://localhost:8080/"
        },
        "outputId": "8ea01d35-e76b-4c8b-a046-a81a55d8db36"
      },
      "execution_count": 76,
      "outputs": [
        {
          "output_type": "execute_result",
          "data": {
            "text/plain": [
              "6"
            ]
          },
          "metadata": {},
          "execution_count": 76
        }
      ]
    },
    {
      "cell_type": "markdown",
      "source": [
        "5. Создайте переменную upper_name и присвойте ей строку name в верхнем регистре."
      ],
      "metadata": {
        "id": "hDcyc6xL0iWo"
      }
    },
    {
      "cell_type": "code",
      "source": [
        "upper_name = name.upper()\n",
        "upper_name"
      ],
      "metadata": {
        "id": "ABtBo3ll0iRQ",
        "colab": {
          "base_uri": "https://localhost:8080/",
          "height": 36
        },
        "outputId": "5b3e9a1a-8da1-4fea-d3e7-3833873eadea"
      },
      "execution_count": 78,
      "outputs": [
        {
          "output_type": "execute_result",
          "data": {
            "text/plain": [
              "'АНДРЕЙ'"
            ],
            "application/vnd.google.colaboratory.intrinsic+json": {
              "type": "string"
            }
          },
          "metadata": {},
          "execution_count": 78
        }
      ]
    },
    {
      "cell_type": "markdown",
      "source": [
        "6. Создайте переменную lower_name и присвойте ей строку name в нижнем регистре."
      ],
      "metadata": {
        "id": "Cq_G5PQU0iMD"
      }
    },
    {
      "cell_type": "code",
      "source": [
        "lower_name = name.lower()\n",
        "print(lower_name)"
      ],
      "metadata": {
        "id": "UzmBBx4I0iHM",
        "colab": {
          "base_uri": "https://localhost:8080/"
        },
        "outputId": "cf14cc5a-7cea-44c7-8c5e-d0ac23677b8c"
      },
      "execution_count": 82,
      "outputs": [
        {
          "output_type": "stream",
          "name": "stdout",
          "text": [
            "андрей\n"
          ]
        }
      ]
    },
    {
      "cell_type": "markdown",
      "source": [
        "7. Создайте переменную first_letter и присвойте ей первый символ строки name."
      ],
      "metadata": {
        "id": "C4awfxiT0iCW"
      }
    },
    {
      "cell_type": "code",
      "source": [
        "ferst_letter = name[0]\n",
        "print(ferst_letter)"
      ],
      "metadata": {
        "id": "Pd75KozI0h9Y",
        "colab": {
          "base_uri": "https://localhost:8080/"
        },
        "outputId": "f48b86b1-b29c-407a-a78f-8678e75a9b36"
      },
      "execution_count": 90,
      "outputs": [
        {
          "output_type": "stream",
          "name": "stdout",
          "text": [
            "А\n"
          ]
        }
      ]
    },
    {
      "cell_type": "markdown",
      "source": [
        "8. Создайте переменную last_letter и присвойте ей последний символ строки name."
      ],
      "metadata": {
        "id": "tN9qxDuZ0h6W"
      }
    },
    {
      "cell_type": "code",
      "source": [
        "last_letter = name[-1]\n",
        "last_letter"
      ],
      "metadata": {
        "id": "3k8qs6ju0h0b",
        "colab": {
          "base_uri": "https://localhost:8080/",
          "height": 36
        },
        "outputId": "096675c3-c1e6-43ed-f1da-3ce97754c686"
      },
      "execution_count": 92,
      "outputs": [
        {
          "output_type": "execute_result",
          "data": {
            "text/plain": [
              "'й'"
            ],
            "application/vnd.google.colaboratory.intrinsic+json": {
              "type": "string"
            }
          },
          "metadata": {},
          "execution_count": 92
        }
      ]
    },
    {
      "cell_type": "markdown",
      "source": [
        "9. Создайте переменную reversed_name и присвойте ей строку name в обратном порядке."
      ],
      "metadata": {
        "id": "mgQPV2bt0hwY"
      }
    },
    {
      "cell_type": "code",
      "source": [
        "reversed_name = name[::-1]\n",
        "print(reversed_name)"
      ],
      "metadata": {
        "id": "bZvJPSs30hr2",
        "colab": {
          "base_uri": "https://localhost:8080/"
        },
        "outputId": "9aca396f-c7f2-4eac-bc25-00652117b106"
      },
      "execution_count": 109,
      "outputs": [
        {
          "output_type": "stream",
          "name": "stdout",
          "text": [
            "йерднА\n"
          ]
        }
      ]
    },
    {
      "cell_type": "markdown",
      "source": [
        "10. Создайте переменную name_length и присвойте ей строку \"Your name has \" + str(len(name)) + \" letters\"."
      ],
      "metadata": {
        "id": "Av6ZbddQ0hoV"
      }
    },
    {
      "cell_type": "code",
      "source": [
        "name_length = \"Your name has \" + str(len(name)) + \" letters\"\n",
        "print(name_length)"
      ],
      "metadata": {
        "id": "ne-L3IfW0hji",
        "colab": {
          "base_uri": "https://localhost:8080/"
        },
        "outputId": "88d18a6e-d244-482e-9df4-aab494492db5"
      },
      "execution_count": 110,
      "outputs": [
        {
          "output_type": "stream",
          "name": "stdout",
          "text": [
            "Your name has 6 letters\n"
          ]
        }
      ]
    },
    {
      "cell_type": "markdown",
      "source": [
        "## 3. Логический тип данных (bool)"
      ],
      "metadata": {
        "id": "j7W6oARV1fM7"
      }
    },
    {
      "cell_type": "markdown",
      "source": [
        "1. Создайте переменную is_active и присвойте ей значение True."
      ],
      "metadata": {
        "id": "n_qfe_Tu0hea"
      }
    },
    {
      "cell_type": "code",
      "source": [
        "is_active = True\n",
        "is_active"
      ],
      "metadata": {
        "id": "FsBW2Lk00hZ4",
        "colab": {
          "base_uri": "https://localhost:8080/"
        },
        "outputId": "0d20861d-2368-434e-9a2f-ec802c78a422"
      },
      "execution_count": 112,
      "outputs": [
        {
          "output_type": "execute_result",
          "data": {
            "text/plain": [
              "True"
            ]
          },
          "metadata": {},
          "execution_count": 112
        }
      ]
    },
    {
      "cell_type": "markdown",
      "source": [
        "2. Создайте переменную is_admin и присвойте ей значение False."
      ],
      "metadata": {
        "id": "hNRYkvxW0hV5"
      }
    },
    {
      "cell_type": "code",
      "source": [
        "is_admin = False\n",
        "is_admin"
      ],
      "metadata": {
        "id": "s550mLOe0hQ4",
        "colab": {
          "base_uri": "https://localhost:8080/"
        },
        "outputId": "16c73a37-1d64-4b13-8393-6e71fe1d936b"
      },
      "execution_count": 113,
      "outputs": [
        {
          "output_type": "execute_result",
          "data": {
            "text/plain": [
              "False"
            ]
          },
          "metadata": {},
          "execution_count": 113
        }
      ]
    },
    {
      "cell_type": "markdown",
      "source": [
        "3. Создайте переменную is_equal и присвойте ей результат сравнения x и y на равенство."
      ],
      "metadata": {
        "id": "X9DdjX8X0hLg"
      }
    },
    {
      "cell_type": "code",
      "source": [
        "is_equal = x == y\n",
        "is_equal"
      ],
      "metadata": {
        "id": "tz6eiNhj0hAe",
        "colab": {
          "base_uri": "https://localhost:8080/"
        },
        "outputId": "09857a2a-2b8d-481a-d952-88742cafbb43"
      },
      "execution_count": 116,
      "outputs": [
        {
          "output_type": "execute_result",
          "data": {
            "text/plain": [
              "False"
            ]
          },
          "metadata": {},
          "execution_count": 116
        }
      ]
    },
    {
      "cell_type": "markdown",
      "source": [
        "4. Создайте переменную is_greater и присвойте ей результат сравнения x и y (x > y)."
      ],
      "metadata": {
        "id": "ty7aq6Ok0g6U"
      }
    },
    {
      "cell_type": "code",
      "source": [
        "is_greater = x > y\n",
        "is_greater"
      ],
      "metadata": {
        "id": "NzWG8-AJ0g10",
        "colab": {
          "base_uri": "https://localhost:8080/"
        },
        "outputId": "b1c67311-bc4f-48ba-982c-05a2df7c0fec"
      },
      "execution_count": 118,
      "outputs": [
        {
          "output_type": "execute_result",
          "data": {
            "text/plain": [
              "True"
            ]
          },
          "metadata": {},
          "execution_count": 118
        }
      ]
    },
    {
      "cell_type": "markdown",
      "source": [
        "5. Создайте переменную is_less и присвойте ей результат сравнения x и y (x < y)."
      ],
      "metadata": {
        "id": "15Gz1j1U0gxA"
      }
    },
    {
      "cell_type": "code",
      "source": [
        "is_less = x < y\n",
        "is_less"
      ],
      "metadata": {
        "id": "5Jm_YYN90gsi",
        "colab": {
          "base_uri": "https://localhost:8080/"
        },
        "outputId": "ead58c42-368b-48c0-f47a-c0da7f22c2f6"
      },
      "execution_count": 119,
      "outputs": [
        {
          "output_type": "execute_result",
          "data": {
            "text/plain": [
              "False"
            ]
          },
          "metadata": {},
          "execution_count": 119
        }
      ]
    },
    {
      "cell_type": "markdown",
      "source": [
        "6. Создайте переменную is_not_equal и присвойте ей результат сравнения x и y на неравенство."
      ],
      "metadata": {
        "id": "o-UyoI0a0gnq"
      }
    },
    {
      "cell_type": "code",
      "source": [
        "is_not_equal = x != y\n",
        "is_not_equal"
      ],
      "metadata": {
        "id": "xejGzK_f0giM",
        "colab": {
          "base_uri": "https://localhost:8080/"
        },
        "outputId": "b492a41d-2b2f-442e-f858-cd8e876be08b"
      },
      "execution_count": 120,
      "outputs": [
        {
          "output_type": "execute_result",
          "data": {
            "text/plain": [
              "True"
            ]
          },
          "metadata": {},
          "execution_count": 120
        }
      ]
    },
    {
      "cell_type": "markdown",
      "source": [
        "7. Создайте переменную is_positive и присвойте ей результат проверки, является ли x положительным числом."
      ],
      "metadata": {
        "id": "m5q5wzQ20gdu"
      }
    },
    {
      "cell_type": "code",
      "source": [
        "is_positive = x > 0\n",
        "is_positive"
      ],
      "metadata": {
        "id": "6zSQ3uyX0gZF",
        "colab": {
          "base_uri": "https://localhost:8080/"
        },
        "outputId": "3b3a88fd-1317-4bb2-acbf-84b7dcf51740"
      },
      "execution_count": 122,
      "outputs": [
        {
          "output_type": "execute_result",
          "data": {
            "text/plain": [
              "True"
            ]
          },
          "metadata": {},
          "execution_count": 122
        }
      ]
    },
    {
      "cell_type": "markdown",
      "source": [
        "8. Создайте переменную is_negative и присвойте ей результат проверки, является ли y отрицательным числом."
      ],
      "metadata": {
        "id": "aHKuO0ET0gVp"
      }
    },
    {
      "cell_type": "code",
      "source": [
        "is_negative = y < 0\n",
        "is_negative"
      ],
      "metadata": {
        "id": "TJlOzdTz0gRT",
        "colab": {
          "base_uri": "https://localhost:8080/"
        },
        "outputId": "3d28de5e-ac9b-4433-9e10-b94f977895aa"
      },
      "execution_count": 123,
      "outputs": [
        {
          "output_type": "execute_result",
          "data": {
            "text/plain": [
              "False"
            ]
          },
          "metadata": {},
          "execution_count": 123
        }
      ]
    },
    {
      "cell_type": "markdown",
      "source": [
        "9. Создайте переменную is_zero и присвойте ей результат проверки, равно ли x нулю."
      ],
      "metadata": {
        "id": "xUpKKN440gM6"
      }
    },
    {
      "cell_type": "code",
      "source": [
        "is_zero = x == 0\n",
        "is_zero"
      ],
      "metadata": {
        "id": "F8VCB7K00gHc",
        "colab": {
          "base_uri": "https://localhost:8080/"
        },
        "outputId": "be2f1281-61ae-4dea-b71a-f8f76358fa0f"
      },
      "execution_count": 124,
      "outputs": [
        {
          "output_type": "execute_result",
          "data": {
            "text/plain": [
              "False"
            ]
          },
          "metadata": {},
          "execution_count": 124
        }
      ]
    },
    {
      "cell_type": "markdown",
      "source": [
        "10. Создайте переменную is_even и присвойте ей результат проверки, является ли x чётным числом."
      ],
      "metadata": {
        "id": "lOVUDuZC0gD8"
      }
    },
    {
      "cell_type": "code",
      "source": [
        "is_even = x % 2\n",
        "print(is_even == 0)"
      ],
      "metadata": {
        "id": "fcmGAwzU0f-j",
        "colab": {
          "base_uri": "https://localhost:8080/"
        },
        "outputId": "45a68287-acf9-434e-8a82-7aed1ac80a45"
      },
      "execution_count": 132,
      "outputs": [
        {
          "output_type": "stream",
          "name": "stdout",
          "text": [
            "True\n"
          ]
        }
      ]
    },
    {
      "cell_type": "markdown",
      "source": [
        "## 4. Преобразование типов данных"
      ],
      "metadata": {
        "id": "jYMFL_A31-iG"
      }
    },
    {
      "cell_type": "markdown",
      "source": [
        "1. Преобразуйте переменную x в строку и сохраните результат в переменной x_str."
      ],
      "metadata": {
        "id": "z5SVqtWL0f7C"
      }
    },
    {
      "cell_type": "code",
      "source": [
        "x_str = str(x)\n",
        "print(\"Тип: \", type(x_str),  \"\\nЗначение: \", x_str)"
      ],
      "metadata": {
        "id": "Lo_B8TJE0f1r",
        "colab": {
          "base_uri": "https://localhost:8080/"
        },
        "outputId": "495fe923-2459-4df4-a49a-31372ab27528"
      },
      "execution_count": 145,
      "outputs": [
        {
          "output_type": "stream",
          "name": "stdout",
          "text": [
            "Тип:  <class 'str'> \n",
            "Значение:  10\n"
          ]
        }
      ]
    },
    {
      "cell_type": "markdown",
      "source": [
        "2. Преобразуйте переменную y в целое число и сохраните результат в переменной y_int."
      ],
      "metadata": {
        "id": "XrbA1tE_0fyH"
      }
    },
    {
      "cell_type": "code",
      "source": [
        "y_int = int(y)\n",
        "y_int"
      ],
      "metadata": {
        "id": "lIb1X2nB0ft8",
        "colab": {
          "base_uri": "https://localhost:8080/"
        },
        "outputId": "1097ec4b-faf1-4858-82ec-98a66ccd82d9"
      },
      "execution_count": 147,
      "outputs": [
        {
          "output_type": "execute_result",
          "data": {
            "text/plain": [
              "5"
            ]
          },
          "metadata": {},
          "execution_count": 147
        }
      ]
    },
    {
      "cell_type": "markdown",
      "source": [
        "3. Преобразуйте переменную name в список символов и сохраните результат в переменной name_list."
      ],
      "metadata": {
        "id": "_6B1f8Zr0fpc"
      }
    },
    {
      "cell_type": "code",
      "source": [
        "name_list = list(name)\n",
        "name_list"
      ],
      "metadata": {
        "id": "KKSbGMeK0fkO",
        "colab": {
          "base_uri": "https://localhost:8080/"
        },
        "outputId": "0b9d2350-29fc-4e05-f786-63df84b7da21"
      },
      "execution_count": 149,
      "outputs": [
        {
          "output_type": "execute_result",
          "data": {
            "text/plain": [
              "['А', 'н', 'д', 'р', 'е', 'й']"
            ]
          },
          "metadata": {},
          "execution_count": 149
        }
      ]
    },
    {
      "cell_type": "markdown",
      "source": [
        "4. Преобразуйте переменную x в число с плавающей точкой и сохраните результат в переменной x_float."
      ],
      "metadata": {
        "id": "8MovfQl80ff2"
      }
    },
    {
      "cell_type": "code",
      "source": [
        "x_float = float(x)\n",
        "x_float"
      ],
      "metadata": {
        "id": "BygUCTsx0fbs",
        "colab": {
          "base_uri": "https://localhost:8080/"
        },
        "outputId": "410852dc-f891-4656-8c36-89012071f053"
      },
      "execution_count": 150,
      "outputs": [
        {
          "output_type": "execute_result",
          "data": {
            "text/plain": [
              "10.0"
            ]
          },
          "metadata": {},
          "execution_count": 150
        }
      ]
    },
    {
      "cell_type": "markdown",
      "source": [
        "5. Преобразуйте переменную y в строку и сохраните результат в переменной y_str."
      ],
      "metadata": {
        "id": "39rAkhP00fWS"
      }
    },
    {
      "cell_type": "code",
      "source": [
        "y_str = str(y)\n",
        "y_str"
      ],
      "metadata": {
        "id": "xK4s485t0fSH",
        "colab": {
          "base_uri": "https://localhost:8080/",
          "height": 36
        },
        "outputId": "ab97d19b-6631-4631-dbb6-c8224e82eaa7"
      },
      "execution_count": 151,
      "outputs": [
        {
          "output_type": "execute_result",
          "data": {
            "text/plain": [
              "'5.5'"
            ],
            "application/vnd.google.colaboratory.intrinsic+json": {
              "type": "string"
            }
          },
          "metadata": {},
          "execution_count": 151
        }
      ]
    },
    {
      "cell_type": "markdown",
      "source": [
        "6. Преобразуйте переменную is_active в целое число и сохраните результат в переменной is_active_int."
      ],
      "metadata": {
        "id": "UKffmDbf0fNp"
      }
    },
    {
      "cell_type": "code",
      "source": [
        "is_active_int = int(is_active)\n",
        "type(is_active_int)"
      ],
      "metadata": {
        "id": "WNdg7s2L0fJf",
        "colab": {
          "base_uri": "https://localhost:8080/"
        },
        "outputId": "71ff030d-0c74-43f6-a14a-59583aaf95aa"
      },
      "execution_count": 154,
      "outputs": [
        {
          "output_type": "execute_result",
          "data": {
            "text/plain": [
              "int"
            ]
          },
          "metadata": {},
          "execution_count": 154
        }
      ]
    },
    {
      "cell_type": "markdown",
      "source": [
        "7. Преобразуйте переменную is_admin в строку и сохраните результат в переменной is_admin_str."
      ],
      "metadata": {
        "id": "2NvPjdJq0fFV"
      }
    },
    {
      "cell_type": "code",
      "source": [
        "is_admin_str = str(is_admin)\n",
        "type(is_admin_str)"
      ],
      "metadata": {
        "id": "1E9Kq_zO0fBX",
        "colab": {
          "base_uri": "https://localhost:8080/"
        },
        "outputId": "6a10c8e6-7b66-43df-f6cf-469c8f3846a7"
      },
      "execution_count": 156,
      "outputs": [
        {
          "output_type": "execute_result",
          "data": {
            "text/plain": [
              "str"
            ]
          },
          "metadata": {},
          "execution_count": 156
        }
      ]
    },
    {
      "cell_type": "markdown",
      "source": [
        "8. Преобразуйте переменную x в логическое значение и сохраните результат в переменной x_bool."
      ],
      "metadata": {
        "id": "eXNH4koC0e8D"
      }
    },
    {
      "cell_type": "code",
      "source": [
        "x_bool = bool(x)\n",
        "x_bool"
      ],
      "metadata": {
        "id": "6MA-t8cV0e3G",
        "colab": {
          "base_uri": "https://localhost:8080/"
        },
        "outputId": "a3ea610a-0f5c-4827-b451-9aae70a0b803"
      },
      "execution_count": 161,
      "outputs": [
        {
          "output_type": "execute_result",
          "data": {
            "text/plain": [
              "True"
            ]
          },
          "metadata": {},
          "execution_count": 161
        }
      ]
    },
    {
      "cell_type": "markdown",
      "source": [
        "9. Преобразуйте переменную y в логическое значение и сохраните результат в переменной y_bool."
      ],
      "metadata": {
        "id": "i4n2WoD30ey2"
      }
    },
    {
      "cell_type": "code",
      "source": [
        "y_bool = bool(y)\n",
        "y_bool"
      ],
      "metadata": {
        "id": "dcbUJBK60eu9",
        "colab": {
          "base_uri": "https://localhost:8080/"
        },
        "outputId": "84e3d45a-9b77-4dbb-b638-38194cf2e9ad"
      },
      "execution_count": 163,
      "outputs": [
        {
          "output_type": "execute_result",
          "data": {
            "text/plain": [
              "True"
            ]
          },
          "metadata": {},
          "execution_count": 163
        }
      ]
    },
    {
      "cell_type": "markdown",
      "source": [
        "10. Преобразуйте переменную name в логическое значение и сохраните результат в переменной name_bool."
      ],
      "metadata": {
        "id": "DUGf3oc90erQ"
      }
    },
    {
      "cell_type": "code",
      "source": [
        "name_bool = bool(name)\n",
        "name_bool"
      ],
      "metadata": {
        "id": "sb_a_hBT0emM",
        "colab": {
          "base_uri": "https://localhost:8080/"
        },
        "outputId": "883101ca-76e3-4519-bdf1-283f7c64d285"
      },
      "execution_count": 172,
      "outputs": [
        {
          "output_type": "execute_result",
          "data": {
            "text/plain": [
              "True"
            ]
          },
          "metadata": {},
          "execution_count": 172
        }
      ]
    },
    {
      "cell_type": "markdown",
      "source": [
        "## 5. Арифметические операции"
      ],
      "metadata": {
        "id": "OY6vG-Sx0eg_"
      }
    },
    {
      "cell_type": "markdown",
      "source": [
        "1. Создайте переменную sum_xy и присвойте ей сумму x и y."
      ],
      "metadata": {
        "id": "Nr_6CrZ72u3N"
      }
    },
    {
      "cell_type": "code",
      "source": [
        "x = 10\n",
        "y = 5.5\n",
        "sum_xy = x + y\n",
        "sum_xy"
      ],
      "metadata": {
        "id": "6CQC0XUP0ebH",
        "colab": {
          "base_uri": "https://localhost:8080/"
        },
        "outputId": "115d74a4-69e5-4c89-f15d-5cf3a233a0cc"
      },
      "execution_count": 3,
      "outputs": [
        {
          "output_type": "execute_result",
          "data": {
            "text/plain": [
              "15.5"
            ]
          },
          "metadata": {},
          "execution_count": 3
        }
      ]
    },
    {
      "cell_type": "markdown",
      "source": [
        "2. Создайте переменную diff_xy и присвойте ей разность x и y."
      ],
      "metadata": {
        "id": "7ITVt8CR0eM9"
      }
    },
    {
      "cell_type": "code",
      "source": [
        "diff_xy = x - y\n",
        "diff_xy"
      ],
      "metadata": {
        "id": "QaP1fXTm0eIK",
        "colab": {
          "base_uri": "https://localhost:8080/"
        },
        "outputId": "f20a76de-0cf3-4f86-b262-85702a6be6b5"
      },
      "execution_count": 4,
      "outputs": [
        {
          "output_type": "execute_result",
          "data": {
            "text/plain": [
              "4.5"
            ]
          },
          "metadata": {},
          "execution_count": 4
        }
      ]
    },
    {
      "cell_type": "markdown",
      "source": [
        "3. Создайте переменную prod_xy и присвойте ей произведение x и y."
      ],
      "metadata": {
        "id": "deTDsh8O0eEM"
      }
    },
    {
      "cell_type": "code",
      "source": [
        "prod_xy = x * y\n",
        "prod_xy"
      ],
      "metadata": {
        "id": "7_ZR3h7S0d_c",
        "colab": {
          "base_uri": "https://localhost:8080/"
        },
        "outputId": "76e2c151-f261-4121-d608-164957812f61"
      },
      "execution_count": 6,
      "outputs": [
        {
          "output_type": "execute_result",
          "data": {
            "text/plain": [
              "55.0"
            ]
          },
          "metadata": {},
          "execution_count": 6
        }
      ]
    },
    {
      "cell_type": "markdown",
      "source": [
        "4. Создайте переменную quotient_xy и присвойте ей результат деления x на y."
      ],
      "metadata": {
        "id": "S-ndNKpg0d6U"
      }
    },
    {
      "cell_type": "code",
      "source": [
        "quotient_xy = x / y\n",
        "quotient_xy"
      ],
      "metadata": {
        "id": "ONfMwaaX0d2c",
        "colab": {
          "base_uri": "https://localhost:8080/"
        },
        "outputId": "bd2f8769-1acf-46fb-bc87-fe35ef74d749"
      },
      "execution_count": 7,
      "outputs": [
        {
          "output_type": "execute_result",
          "data": {
            "text/plain": [
              "1.8181818181818181"
            ]
          },
          "metadata": {},
          "execution_count": 7
        }
      ]
    },
    {
      "cell_type": "markdown",
      "source": [
        "5. Создайте переменную remainder_xy и присвойте ей остаток от деления x на y."
      ],
      "metadata": {
        "id": "YDosiiDS0dxd"
      }
    },
    {
      "cell_type": "code",
      "source": [
        "remainder_xy = x % y\n",
        "remainder_xy"
      ],
      "metadata": {
        "id": "UROTwnQJ0dtV",
        "colab": {
          "base_uri": "https://localhost:8080/"
        },
        "outputId": "4bab33e0-160a-4ea4-cf92-75a32ad7547f"
      },
      "execution_count": 9,
      "outputs": [
        {
          "output_type": "execute_result",
          "data": {
            "text/plain": [
              "4.5"
            ]
          },
          "metadata": {},
          "execution_count": 9
        }
      ]
    },
    {
      "cell_type": "markdown",
      "source": [
        "6. Создайте переменную power_xy и присвойте ей результат возведения x в степень y."
      ],
      "metadata": {
        "id": "SspNPUaN0dov"
      }
    },
    {
      "cell_type": "code",
      "source": [
        "power_xy = x ** y\n",
        "power_xy"
      ],
      "metadata": {
        "id": "r8PCB1cN0dkT",
        "colab": {
          "base_uri": "https://localhost:8080/"
        },
        "outputId": "fef825b0-ed3d-4a54-e92a-fe033ee9ad91"
      },
      "execution_count": 11,
      "outputs": [
        {
          "output_type": "execute_result",
          "data": {
            "text/plain": [
              "316227.7660168379"
            ]
          },
          "metadata": {},
          "execution_count": 11
        }
      ]
    },
    {
      "cell_type": "markdown",
      "source": [
        "7. Создайте переменную floor_div_xy и присвойте ей результат целочисленного деления x на y."
      ],
      "metadata": {
        "id": "F4LyBwsO0dfQ"
      }
    },
    {
      "cell_type": "code",
      "source": [
        "floor_div_xy = x // y\n",
        "floor_div_xy"
      ],
      "metadata": {
        "id": "m2LQ5JsY0day",
        "colab": {
          "base_uri": "https://localhost:8080/"
        },
        "outputId": "de968894-2a0a-4192-b016-ff6704f2acba"
      },
      "execution_count": 13,
      "outputs": [
        {
          "output_type": "execute_result",
          "data": {
            "text/plain": [
              "1.0"
            ]
          },
          "metadata": {},
          "execution_count": 13
        }
      ]
    },
    {
      "cell_type": "markdown",
      "source": [
        "8. Создайте переменную abs_diff и присвойте ей модуль разности y и x."
      ],
      "metadata": {
        "id": "CtY93q8r0dWC"
      }
    },
    {
      "cell_type": "code",
      "source": [
        "abs_diff = abs(y - x)\n",
        "abs_diff"
      ],
      "metadata": {
        "id": "4PS7te3-0dRq",
        "colab": {
          "base_uri": "https://localhost:8080/"
        },
        "outputId": "08bdb2cb-3927-487c-ff6e-64edc3a713ea"
      },
      "execution_count": 17,
      "outputs": [
        {
          "output_type": "execute_result",
          "data": {
            "text/plain": [
              "4.5"
            ]
          },
          "metadata": {},
          "execution_count": 17
        }
      ]
    },
    {
      "cell_type": "markdown",
      "source": [
        "9. Создайте переменную avg_xy и присвойте ей среднее арифметическое x и y."
      ],
      "metadata": {
        "id": "Ox3Fov8A0dNH"
      }
    },
    {
      "cell_type": "code",
      "source": [
        "avg_xy = (x + y) / 2\n",
        "avg_xy"
      ],
      "metadata": {
        "id": "BHQzLmmq0dIt"
      },
      "execution_count": null,
      "outputs": []
    },
    {
      "cell_type": "markdown",
      "source": [
        "10. Создайте переменную sqrt_x и присвойте ей квадратный корень из x."
      ],
      "metadata": {
        "id": "Ruy-_bVJ0dEC"
      }
    },
    {
      "cell_type": "code",
      "source": [
        "sqrt_x = x ** 0.5\n",
        "sqrt_x"
      ],
      "metadata": {
        "id": "mYHqb6yx0c_n",
        "colab": {
          "base_uri": "https://localhost:8080/"
        },
        "outputId": "f48224d3-5ddc-46e4-ec57-605adb3f8bdc"
      },
      "execution_count": 18,
      "outputs": [
        {
          "output_type": "execute_result",
          "data": {
            "text/plain": [
              "3.1622776601683795"
            ]
          },
          "metadata": {},
          "execution_count": 18
        }
      ]
    },
    {
      "cell_type": "markdown",
      "source": [
        "## 6. Работа с числами"
      ],
      "metadata": {
        "id": "wRmNCcvh0c7L"
      }
    },
    {
      "cell_type": "markdown",
      "source": [
        "1. Проверьте, является ли x положительным числом."
      ],
      "metadata": {
        "id": "uTQ5iXOw3Pef"
      }
    },
    {
      "cell_type": "code",
      "source": [],
      "metadata": {
        "id": "4hUqaYfG0c19"
      },
      "execution_count": null,
      "outputs": []
    },
    {
      "cell_type": "markdown",
      "source": [
        "2. Проверьте, является ли y отрицательным числом."
      ],
      "metadata": {
        "id": "GwbbAEMa0cvL"
      }
    },
    {
      "cell_type": "code",
      "source": [],
      "metadata": {
        "id": "cTrWktse0cpC"
      },
      "execution_count": null,
      "outputs": []
    },
    {
      "cell_type": "markdown",
      "source": [
        "3. Проверьте, является ли x чётным числом."
      ],
      "metadata": {
        "id": "uEinNJvd0ckz"
      }
    },
    {
      "cell_type": "code",
      "source": [],
      "metadata": {
        "id": "Q8ZSkxbC0cf9"
      },
      "execution_count": null,
      "outputs": []
    },
    {
      "cell_type": "markdown",
      "source": [
        "4. Проверьте, является ли y нечётным числом.\n"
      ],
      "metadata": {
        "id": "FPI4iQ4h0cbb"
      }
    },
    {
      "cell_type": "code",
      "source": [],
      "metadata": {
        "id": "nbjv49Gv0cXD"
      },
      "execution_count": null,
      "outputs": []
    },
    {
      "cell_type": "markdown",
      "source": [
        "5. Проверьте, делится ли x на 3 без остатка."
      ],
      "metadata": {
        "id": "ZWca6qkZ0cTV"
      }
    },
    {
      "cell_type": "code",
      "source": [],
      "metadata": {
        "id": "yVxUxiA90cPM"
      },
      "execution_count": null,
      "outputs": []
    },
    {
      "cell_type": "markdown",
      "source": [
        "6. Проверьте, делится ли y на 5 без остатка."
      ],
      "metadata": {
        "id": "v_x0f6IM0cKy"
      }
    },
    {
      "cell_type": "code",
      "source": [],
      "metadata": {
        "id": "vrGVnqc_0cGp"
      },
      "execution_count": null,
      "outputs": []
    },
    {
      "cell_type": "markdown",
      "source": [
        "7. Проверьте, является ли x двузначным числом."
      ],
      "metadata": {
        "id": "4vSKlWmX0cCQ"
      }
    },
    {
      "cell_type": "code",
      "source": [],
      "metadata": {
        "id": "IeC-tIF00b9s"
      },
      "execution_count": null,
      "outputs": []
    },
    {
      "cell_type": "markdown",
      "source": [
        "8. Проверьте, является ли y трёхзначным числом."
      ],
      "metadata": {
        "id": "OKB5b5ll0b4z"
      }
    },
    {
      "cell_type": "code",
      "source": [],
      "metadata": {
        "id": "R5Ss2aY40b0R"
      },
      "execution_count": null,
      "outputs": []
    },
    {
      "cell_type": "markdown",
      "source": [
        "9. Проверьте, является ли x простым числом."
      ],
      "metadata": {
        "id": "TBogoOHJ0bv8"
      }
    },
    {
      "cell_type": "code",
      "source": [],
      "metadata": {
        "id": "BhCbWgnr0brZ"
      },
      "execution_count": null,
      "outputs": []
    },
    {
      "cell_type": "markdown",
      "source": [
        "10. Проверьте, является ли y составным числом."
      ],
      "metadata": {
        "id": "-12PEg150bm3"
      }
    },
    {
      "cell_type": "code",
      "source": [],
      "metadata": {
        "id": "T2AuHSiY0bh5"
      },
      "execution_count": null,
      "outputs": []
    },
    {
      "cell_type": "markdown",
      "source": [
        "## 7. Работа со строками"
      ],
      "metadata": {
        "id": "WtBOPhFN0bb0"
      }
    },
    {
      "cell_type": "markdown",
      "source": [
        "1. Проверьте, начинается ли строка name с буквы A."
      ],
      "metadata": {
        "id": "WO8J0Qir3rOA"
      }
    },
    {
      "cell_type": "code",
      "source": [],
      "metadata": {
        "id": "ppMBJDIr0bPh"
      },
      "execution_count": null,
      "outputs": []
    },
    {
      "cell_type": "markdown",
      "source": [
        "2. Проверьте, заканчивается ли строка name на букву a."
      ],
      "metadata": {
        "id": "bh924JEV0bLC"
      }
    },
    {
      "cell_type": "code",
      "source": [],
      "metadata": {
        "id": "W4bkEY3M0bGY"
      },
      "execution_count": null,
      "outputs": []
    },
    {
      "cell_type": "markdown",
      "source": [
        "3. Проверьте, содержит ли строка name букву e."
      ],
      "metadata": {
        "id": "peDLLv9o0bBy"
      }
    },
    {
      "cell_type": "code",
      "source": [],
      "metadata": {
        "id": "fJ1N7kQ10a89"
      },
      "execution_count": null,
      "outputs": []
    },
    {
      "cell_type": "markdown",
      "source": [
        "4. Проверьте, содержит ли строка name цифры."
      ],
      "metadata": {
        "id": "2HWkXc9M0a3L"
      }
    },
    {
      "cell_type": "code",
      "source": [],
      "metadata": {
        "id": "rartNEkT0ayJ"
      },
      "execution_count": null,
      "outputs": []
    },
    {
      "cell_type": "markdown",
      "source": [
        "5. Проверьте, является ли строка name пустой."
      ],
      "metadata": {
        "id": "mTuieMGb0atm"
      }
    },
    {
      "cell_type": "code",
      "source": [],
      "metadata": {
        "id": "cq-f3YhQ0apG"
      },
      "execution_count": null,
      "outputs": []
    },
    {
      "cell_type": "markdown",
      "source": [
        "6. Проверьте, является ли строка name палиндромом."
      ],
      "metadata": {
        "id": "1k3uUMmQ0akY"
      }
    },
    {
      "cell_type": "code",
      "source": [],
      "metadata": {
        "id": "RuMPd6pU0afm"
      },
      "execution_count": null,
      "outputs": []
    },
    {
      "cell_type": "markdown",
      "source": [
        "7. Замените все пробелы в строке name на символ -."
      ],
      "metadata": {
        "id": "4jHgxY4N0aat"
      }
    },
    {
      "cell_type": "code",
      "source": [],
      "metadata": {
        "id": "GwONJ14e0aWO"
      },
      "execution_count": null,
      "outputs": []
    },
    {
      "cell_type": "markdown",
      "source": [
        "8. Разделите строку name на список слов."
      ],
      "metadata": {
        "id": "B4406Ohi0aRi"
      }
    },
    {
      "cell_type": "code",
      "source": [],
      "metadata": {
        "id": "WT3rmGrK0aNE"
      },
      "execution_count": null,
      "outputs": []
    },
    {
      "cell_type": "markdown",
      "source": [
        "9. Объедините список слов в строку с пробелами."
      ],
      "metadata": {
        "id": "rtWv0NRR0aII"
      }
    },
    {
      "cell_type": "code",
      "source": [],
      "metadata": {
        "id": "1xDBc6dK0aC6"
      },
      "execution_count": null,
      "outputs": []
    },
    {
      "cell_type": "markdown",
      "source": [
        "10. Удалите все пробелы в строке name."
      ],
      "metadata": {
        "id": "fXLTRmiA0Z9y"
      }
    },
    {
      "cell_type": "code",
      "source": [],
      "metadata": {
        "id": "T0oRieaA0Z4_"
      },
      "execution_count": null,
      "outputs": []
    },
    {
      "cell_type": "markdown",
      "source": [
        "## 8. Логические операции"
      ],
      "metadata": {
        "id": "iHTdvnvT0Z0m"
      }
    },
    {
      "cell_type": "markdown",
      "source": [
        "1. Проверьте, является ли x положительным и чётным числом."
      ],
      "metadata": {
        "id": "K_Zj87zp5IIY"
      }
    },
    {
      "cell_type": "code",
      "source": [],
      "metadata": {
        "id": "isfnUa9u0Zvw"
      },
      "execution_count": null,
      "outputs": []
    },
    {
      "cell_type": "markdown",
      "source": [
        "2. Проверьте, является ли y отрицательным или нечётным числом."
      ],
      "metadata": {
        "id": "CnJ3RxhP0ZrI"
      }
    },
    {
      "cell_type": "code",
      "source": [],
      "metadata": {
        "id": "UoqwGiqe0Zls"
      },
      "execution_count": null,
      "outputs": []
    },
    {
      "cell_type": "markdown",
      "source": [
        "3. Проверьте, является ли x двузначным и делится ли оно на 5."
      ],
      "metadata": {
        "id": "FIxC1R-N0ZhO"
      }
    },
    {
      "cell_type": "code",
      "source": [],
      "metadata": {
        "id": "D7ZwB02g0Zci"
      },
      "execution_count": null,
      "outputs": []
    },
    {
      "cell_type": "markdown",
      "source": [
        "4. Проверьте, является ли y трёхзначным и делится ли оно на 3."
      ],
      "metadata": {
        "id": "5q-qagut0ZYD"
      }
    },
    {
      "cell_type": "code",
      "source": [],
      "metadata": {
        "id": "fPjBW9V20ZTW"
      },
      "execution_count": null,
      "outputs": []
    },
    {
      "cell_type": "markdown",
      "source": [
        "5. Проверьте, является ли x простым и чётным числом."
      ],
      "metadata": {
        "id": "6k-XIwqU0ZPB"
      }
    },
    {
      "cell_type": "code",
      "source": [],
      "metadata": {
        "id": "kQbZCUhF0ZKS"
      },
      "execution_count": null,
      "outputs": []
    },
    {
      "cell_type": "markdown",
      "source": [
        "6. Проверьте, является ли y составным и нечётным числом."
      ],
      "metadata": {
        "id": "sv2Zp4Lj0ZFn"
      }
    },
    {
      "cell_type": "code",
      "source": [],
      "metadata": {
        "id": "X77zjauD0ZA_"
      },
      "execution_count": null,
      "outputs": []
    },
    {
      "cell_type": "markdown",
      "source": [
        "7. Проверьте, является ли x положительным или нулём."
      ],
      "metadata": {
        "id": "m94uGX5C0Y7o"
      }
    },
    {
      "cell_type": "code",
      "source": [],
      "metadata": {
        "id": "3qeXdmAD0Y2v"
      },
      "execution_count": null,
      "outputs": []
    },
    {
      "cell_type": "markdown",
      "source": [
        "8. Проверьте, является ли y отрицательным или нулём."
      ],
      "metadata": {
        "id": "kTbawrKZ0Yx6"
      }
    },
    {
      "cell_type": "code",
      "source": [],
      "metadata": {
        "id": "EEGAmMrf0YtE"
      },
      "execution_count": null,
      "outputs": []
    },
    {
      "cell_type": "markdown",
      "source": [
        "9. Проверьте, является ли x двузначным или трёхзначным числом."
      ],
      "metadata": {
        "id": "nfJvZCq_0Yot"
      }
    },
    {
      "cell_type": "code",
      "source": [],
      "metadata": {
        "id": "qY6ms1Cc0Yj_"
      },
      "execution_count": null,
      "outputs": []
    },
    {
      "cell_type": "markdown",
      "source": [
        "10. Проверьте, является ли y однозначным или двузначным числом."
      ],
      "metadata": {
        "id": "G35JftU-0YeD"
      }
    },
    {
      "cell_type": "code",
      "source": [],
      "metadata": {
        "id": "uIdvEW2v0YW-"
      },
      "execution_count": null,
      "outputs": []
    },
    {
      "cell_type": "markdown",
      "source": [],
      "metadata": {
        "id": "RtGqCiHb0YSW"
      }
    },
    {
      "cell_type": "code",
      "source": [],
      "metadata": {
        "id": "TzVa-hDr0YNp"
      },
      "execution_count": null,
      "outputs": []
    },
    {
      "cell_type": "markdown",
      "source": [
        "## 9. Преобразование и форматирование"
      ],
      "metadata": {
        "id": "0HefplgM5fn9"
      }
    },
    {
      "cell_type": "markdown",
      "source": [
        "1. Преобразуйте число x в строку и добавьте к нему строку \" is a number\"."
      ],
      "metadata": {
        "id": "W-jO9nCu0YJN"
      }
    },
    {
      "cell_type": "code",
      "source": [],
      "metadata": {
        "id": "jk13bMvQ0YEJ"
      },
      "execution_count": null,
      "outputs": []
    },
    {
      "cell_type": "markdown",
      "source": [
        "2. Преобразуйте число y в строку и добавьте к нему строку \" is a float\"."
      ],
      "metadata": {
        "id": "ab4FUHiq0X_E"
      }
    },
    {
      "cell_type": "code",
      "source": [],
      "metadata": {
        "id": "pmO7c6q20X6f"
      },
      "execution_count": null,
      "outputs": []
    },
    {
      "cell_type": "markdown",
      "source": [
        "3. Преобразуйте строку name в верхний регистр и добавьте к ней строку \" IS MY NAME\"."
      ],
      "metadata": {
        "id": "Yyu3UTAS0X1v"
      }
    },
    {
      "cell_type": "code",
      "source": [],
      "metadata": {
        "id": "cNG6P6Ab0XxW"
      },
      "execution_count": null,
      "outputs": []
    },
    {
      "cell_type": "markdown",
      "source": [
        "4. Преобразуйте строку name в нижний регистр и добавьте к ней строку \" is my name\"."
      ],
      "metadata": {
        "id": "gAPpUlyz0Xs1"
      }
    },
    {
      "cell_type": "code",
      "source": [],
      "metadata": {
        "id": "j29-bTdI0Xob"
      },
      "execution_count": null,
      "outputs": []
    },
    {
      "cell_type": "markdown",
      "source": [
        "5. Преобразуйте число x в строку и добавьте к нему строку \" squared is \" + str(x ** 2)."
      ],
      "metadata": {
        "id": "4lmEy4bU0XkM"
      }
    },
    {
      "cell_type": "code",
      "source": [],
      "metadata": {
        "id": "vu9XVg4_0Xft"
      },
      "execution_count": null,
      "outputs": []
    },
    {
      "cell_type": "markdown",
      "source": [
        "6. Преобразуйте число y в строку и добавьте к нему строку \" divided by 2 is \" + str(y / 2)."
      ],
      "metadata": {
        "id": "m0kVATc90XbJ"
      }
    },
    {
      "cell_type": "code",
      "source": [],
      "metadata": {
        "id": "h2Vjq8ZV0XWt"
      },
      "execution_count": null,
      "outputs": []
    },
    {
      "cell_type": "markdown",
      "source": [
        "7. Преобразуйте строку name в список символов и выведите его."
      ],
      "metadata": {
        "id": "yQKqoaTa0XSF"
      }
    },
    {
      "cell_type": "code",
      "source": [],
      "metadata": {
        "id": "-fyJqxu90XNg"
      },
      "execution_count": null,
      "outputs": []
    },
    {
      "cell_type": "markdown",
      "source": [
        "8. Преобразуйте список символов обратно в строку и выведите её."
      ],
      "metadata": {
        "id": "jHwhVHf-0XIw"
      }
    },
    {
      "cell_type": "code",
      "source": [],
      "metadata": {
        "id": "zr7ylXt90XDy"
      },
      "execution_count": null,
      "outputs": []
    },
    {
      "cell_type": "markdown",
      "source": [
        "9. Преобразуйте число x в логическое значение и выведите его."
      ],
      "metadata": {
        "id": "6PIgi_cP0W_W"
      }
    },
    {
      "cell_type": "code",
      "source": [],
      "metadata": {
        "id": "sXqLifmW0W6b"
      },
      "execution_count": null,
      "outputs": []
    },
    {
      "cell_type": "markdown",
      "source": [
        "10. Преобразуйте строку name в логическое значение и выведите его."
      ],
      "metadata": {
        "id": "plun-YIA0W1Z"
      }
    },
    {
      "cell_type": "code",
      "source": [],
      "metadata": {
        "id": "gHciJbQY0Wv3"
      },
      "execution_count": null,
      "outputs": []
    },
    {
      "cell_type": "markdown",
      "source": [
        "## 10. Простые задачи"
      ],
      "metadata": {
        "id": "HC4GfhqF0Wqx"
      }
    },
    {
      "cell_type": "markdown",
      "source": [
        "1. Создайте переменную age и присвойте ей ваш возраст."
      ],
      "metadata": {
        "id": "d5BMJPab55bk"
      }
    },
    {
      "cell_type": "code",
      "source": [],
      "metadata": {
        "id": "KKug2MVe0WmF"
      },
      "execution_count": null,
      "outputs": []
    },
    {
      "cell_type": "markdown",
      "source": [
        "2. Создайте переменную year и присвойте ей текущий год."
      ],
      "metadata": {
        "id": "T4o3-h6Q0Wgu"
      }
    },
    {
      "cell_type": "code",
      "source": [],
      "metadata": {
        "id": "6bppVA3I0Wbm"
      },
      "execution_count": null,
      "outputs": []
    },
    {
      "cell_type": "markdown",
      "source": [
        "3. Создайте переменную birth_year и присвойте ей год вашего рождения."
      ],
      "metadata": {
        "id": "P6PEuJ4i0WWV"
      }
    },
    {
      "cell_type": "code",
      "source": [],
      "metadata": {
        "id": "L6x7vZOT0WRR"
      },
      "execution_count": null,
      "outputs": []
    },
    {
      "cell_type": "markdown",
      "source": [
        "4. Создайте переменную age_in_5_years и присвойте ей ваш возраст через 5 лет."
      ],
      "metadata": {
        "id": "dBInpISY0WL5"
      }
    },
    {
      "cell_type": "code",
      "source": [],
      "metadata": {
        "id": "hLjzsN9c0WHG"
      },
      "execution_count": null,
      "outputs": []
    },
    {
      "cell_type": "markdown",
      "source": [
        "5. Создайте переменную days_in_year и присвойте ей количество дней в году."
      ],
      "metadata": {
        "id": "akQJkT-o0WCL"
      }
    },
    {
      "cell_type": "code",
      "source": [],
      "metadata": {
        "id": "BMsoZdKb0V9X"
      },
      "execution_count": null,
      "outputs": []
    },
    {
      "cell_type": "markdown",
      "source": [
        "6. Создайте переменную seconds_in_minute и присвойте ей количество секунд в минуте."
      ],
      "metadata": {
        "id": "b271feBp0V2h"
      }
    },
    {
      "cell_type": "code",
      "source": [],
      "metadata": {
        "id": "bV5uJzCL0VwB"
      },
      "execution_count": null,
      "outputs": []
    },
    {
      "cell_type": "markdown",
      "source": [
        "7. Создайте переменную minutes_in_hour и присвойте ей количество минут в часе."
      ],
      "metadata": {
        "id": "PRlo9wgp0VqD"
      }
    },
    {
      "cell_type": "code",
      "source": [],
      "metadata": {
        "id": "NbgTGBh20Vk8"
      },
      "execution_count": null,
      "outputs": []
    },
    {
      "cell_type": "markdown",
      "source": [
        "8. Создайте переменную hours_in_day и присвойте ей количество часов в сутках."
      ],
      "metadata": {
        "id": "r8vMgTSc0VfK"
      }
    },
    {
      "cell_type": "code",
      "source": [],
      "metadata": {
        "id": "rNubwTmx0VaT"
      },
      "execution_count": null,
      "outputs": []
    },
    {
      "cell_type": "markdown",
      "source": [
        "9. Создайте переменную seconds_in_day и присвойте ей количество секунд в сутках."
      ],
      "metadata": {
        "id": "qKO-THFR0VVR"
      }
    },
    {
      "cell_type": "code",
      "source": [],
      "metadata": {
        "id": "4-HOEOMp0VQa"
      },
      "execution_count": null,
      "outputs": []
    },
    {
      "cell_type": "markdown",
      "source": [
        "10. Создайте переменную days_in_week и присвойте ей количество дней в неделе.\n"
      ],
      "metadata": {
        "id": "RVchpp9y0VKV"
      }
    },
    {
      "cell_type": "code",
      "source": [],
      "metadata": {
        "id": "X-0KSOuf0VDm"
      },
      "execution_count": null,
      "outputs": []
    },
    {
      "cell_type": "markdown",
      "source": [
        "## 11. Работа с числами и строками"
      ],
      "metadata": {
        "id": "v3FvSY_t6U1U"
      }
    },
    {
      "cell_type": "markdown",
      "source": [
        "1. Создайте переменную num_str и присвойте ей строку \"123\"."
      ],
      "metadata": {
        "id": "xGaoWC7j6XRN"
      }
    },
    {
      "cell_type": "code",
      "source": [],
      "metadata": {
        "id": "Sq3D7-l46ZcJ"
      },
      "execution_count": null,
      "outputs": []
    },
    {
      "cell_type": "markdown",
      "source": [
        "2. Преобразуйте строку num_str в целое число и сохраните результат в переменной num_int."
      ],
      "metadata": {
        "id": "oqZMo6_Y6hgc"
      }
    },
    {
      "cell_type": "code",
      "source": [],
      "metadata": {
        "id": "-0YKMEiT6g5s"
      },
      "execution_count": null,
      "outputs": []
    },
    {
      "cell_type": "markdown",
      "source": [
        "3. Преобразуйте строку num_str в число с плавающей точкой и сохраните результат в переменной num_float.\n"
      ],
      "metadata": {
        "id": "EUWa693a6g1i"
      }
    },
    {
      "cell_type": "code",
      "source": [],
      "metadata": {
        "id": "kD_g-xvb6gxR"
      },
      "execution_count": null,
      "outputs": []
    },
    {
      "cell_type": "markdown",
      "source": [
        "4. Создайте переменную float_str и присвойте ей строку \"45.67\"."
      ],
      "metadata": {
        "id": "fEig3W7V6gtN"
      }
    },
    {
      "cell_type": "code",
      "source": [],
      "metadata": {
        "id": "CguKEky-6go0"
      },
      "execution_count": null,
      "outputs": []
    },
    {
      "cell_type": "markdown",
      "source": [
        "5. Преобразуйте строку float_str в число с плавающей точкой и сохраните результат в переменной float_num.\n"
      ],
      "metadata": {
        "id": "f06YAxju6gka"
      }
    },
    {
      "cell_type": "code",
      "source": [],
      "metadata": {
        "id": "1Xsdwi2P6gf9"
      },
      "execution_count": null,
      "outputs": []
    },
    {
      "cell_type": "markdown",
      "source": [
        "6. Создайте переменную bool_str и присвойте ей строку \"True\"."
      ],
      "metadata": {
        "id": "Nzzmo0PF6gb8"
      }
    },
    {
      "cell_type": "code",
      "source": [],
      "metadata": {
        "id": "3hlDrAQe6gXI"
      },
      "execution_count": null,
      "outputs": []
    },
    {
      "cell_type": "markdown",
      "source": [
        "7. Преобразуйте строку bool_str в логическое значение и сохраните результат в переменной bool_val.\n"
      ],
      "metadata": {
        "id": "rMBU2Mn56gL7"
      }
    },
    {
      "cell_type": "code",
      "source": [],
      "metadata": {
        "id": "-SoRPZDM6gHi"
      },
      "execution_count": null,
      "outputs": []
    },
    {
      "cell_type": "markdown",
      "source": [
        "8. Создайте переменную int_str и присвойте ей строку \"100\"."
      ],
      "metadata": {
        "id": "qFKEA-nb6gDa"
      }
    },
    {
      "cell_type": "code",
      "source": [],
      "metadata": {
        "id": "TTqJRlQD6f_T"
      },
      "execution_count": null,
      "outputs": []
    },
    {
      "cell_type": "markdown",
      "source": [
        "9. Преобразуйте строку int_str в целое число и сохраните результат в переменной int_num."
      ],
      "metadata": {
        "id": "BciJiqy66f7R"
      }
    },
    {
      "cell_type": "code",
      "source": [],
      "metadata": {
        "id": "PWOvpNbX6f24"
      },
      "execution_count": null,
      "outputs": []
    },
    {
      "cell_type": "markdown",
      "source": [
        "10. Создайте переменную str_num и присвойте ей строку \"3.14\"."
      ],
      "metadata": {
        "id": "JqK9njwI6fxO"
      }
    },
    {
      "cell_type": "code",
      "source": [],
      "metadata": {
        "id": "JX_AmOXp6frR"
      },
      "execution_count": null,
      "outputs": []
    },
    {
      "cell_type": "markdown",
      "source": [
        "11. Преобразуйте строку str_num в число с плавающей точкой и сохраните результат в переменной float_num.\n"
      ],
      "metadata": {
        "id": "MRWX9Una6fkm"
      }
    },
    {
      "cell_type": "code",
      "source": [],
      "metadata": {
        "id": "vntvzQVC6fUr"
      },
      "execution_count": null,
      "outputs": []
    },
    {
      "cell_type": "markdown",
      "source": [
        "12. Создайте переменную bool_num и присвойте ей строку \"0\"."
      ],
      "metadata": {
        "id": "7rlfVWfS6fQt"
      }
    },
    {
      "cell_type": "code",
      "source": [],
      "metadata": {
        "id": "PwrnYHiQ6fMe"
      },
      "execution_count": null,
      "outputs": []
    },
    {
      "cell_type": "markdown",
      "source": [
        "13. Преобразуйте строку bool_num в логическое значение и сохраните результат в переменной bool_val.\n"
      ],
      "metadata": {
        "id": "x_v9rBgj6fGw"
      }
    },
    {
      "cell_type": "code",
      "source": [],
      "metadata": {
        "id": "BO1WWOh66fCU"
      },
      "execution_count": null,
      "outputs": []
    },
    {
      "cell_type": "markdown",
      "source": [
        "14. Создайте переменную empty_str и присвойте ей пустую строку \"\".\n"
      ],
      "metadata": {
        "id": "obypeaV06e9m"
      }
    },
    {
      "cell_type": "code",
      "source": [],
      "metadata": {
        "id": "sW4OvXf96e5N"
      },
      "execution_count": null,
      "outputs": []
    },
    {
      "cell_type": "markdown",
      "source": [
        "15. Преобразуйте строку empty_str в логическое значение и сохраните результат в переменной bool_val.\n"
      ],
      "metadata": {
        "id": "cxKDZ4yk6e0Y"
      }
    },
    {
      "cell_type": "code",
      "source": [],
      "metadata": {
        "id": "l5jLbzEK6ev4"
      },
      "execution_count": null,
      "outputs": []
    },
    {
      "cell_type": "markdown",
      "source": [
        "16. Создайте переменную zero_str и присвойте ей строку \"0\".\n"
      ],
      "metadata": {
        "id": "7v14uzM_6er3"
      }
    },
    {
      "cell_type": "code",
      "source": [],
      "metadata": {
        "id": "NTmR1Dt26enr"
      },
      "execution_count": null,
      "outputs": []
    },
    {
      "cell_type": "markdown",
      "source": [
        "17. Преобразуйте строку zero_str в логическое значение и сохраните результат в переменной bool_val.\n"
      ],
      "metadata": {
        "id": "VMXiYMDU6eiM"
      }
    },
    {
      "cell_type": "code",
      "source": [],
      "metadata": {
        "id": "V4asz1fM6ed5"
      },
      "execution_count": null,
      "outputs": []
    },
    {
      "cell_type": "markdown",
      "source": [
        "18. Создайте переменную one_str и присвойте ей строку \"1\"."
      ],
      "metadata": {
        "id": "vKoHCw8m6eZA"
      }
    },
    {
      "cell_type": "code",
      "source": [],
      "metadata": {
        "id": "bxXmpWra6eUp"
      },
      "execution_count": null,
      "outputs": []
    },
    {
      "cell_type": "markdown",
      "source": [
        "19. Преобразуйте строку one_str в логическое значение и сохраните результат в переменной bool_val.\n"
      ],
      "metadata": {
        "id": "MoSnpnyq6eQL"
      }
    },
    {
      "cell_type": "code",
      "source": [],
      "metadata": {
        "id": "u2gf_Jw26eLw"
      },
      "execution_count": null,
      "outputs": []
    },
    {
      "cell_type": "markdown",
      "source": [
        "20. Создайте переменную true_str и присвойте ей строку \"True\"."
      ],
      "metadata": {
        "id": "1cn0KFff6eHq"
      }
    },
    {
      "cell_type": "code",
      "source": [],
      "metadata": {
        "id": "lfPM39qR6eC0"
      },
      "execution_count": null,
      "outputs": []
    },
    {
      "cell_type": "markdown",
      "source": [
        "21. Преобразуйте строку true_str в логическое значение и сохраните результат в переменной bool_val.\n"
      ],
      "metadata": {
        "id": "NsP6rHdL6d_A"
      }
    },
    {
      "cell_type": "code",
      "source": [],
      "metadata": {
        "id": "NW1gJ5F26d7b"
      },
      "execution_count": null,
      "outputs": []
    },
    {
      "cell_type": "markdown",
      "source": [
        "22. Создайте переменную false_str и присвойте ей строку \"False\".\n"
      ],
      "metadata": {
        "id": "AdIjGlfz6d3u"
      }
    },
    {
      "cell_type": "code",
      "source": [],
      "metadata": {
        "id": "nF6727wh6dx8"
      },
      "execution_count": null,
      "outputs": []
    },
    {
      "cell_type": "markdown",
      "source": [
        "23. Преобразуйте строку false_str в логическое значение и сохраните результат в переменной bool_val.\n"
      ],
      "metadata": {
        "id": "w3Zy2iGR6dtE"
      }
    },
    {
      "cell_type": "code",
      "source": [],
      "metadata": {
        "id": "OrURyTeV6do5"
      },
      "execution_count": null,
      "outputs": []
    },
    {
      "cell_type": "markdown",
      "source": [
        "24. Создайте переменную none_str и присвойте ей строку \"None\"."
      ],
      "metadata": {
        "id": "rBtno9y-6djl"
      }
    },
    {
      "cell_type": "code",
      "source": [],
      "metadata": {
        "id": "tR-pN6086dfQ"
      },
      "execution_count": null,
      "outputs": []
    },
    {
      "cell_type": "markdown",
      "source": [
        "25. Преобразуйте строку none_str в логическое значение и сохраните результат в переменной bool_val.\n"
      ],
      "metadata": {
        "id": "yWwZPnK26da7"
      }
    },
    {
      "cell_type": "code",
      "source": [],
      "metadata": {
        "id": "KaTEv9uR6dWk"
      },
      "execution_count": null,
      "outputs": []
    },
    {
      "cell_type": "markdown",
      "source": [
        "26. Создайте переменную space_str и присвойте ей строку \" \"."
      ],
      "metadata": {
        "id": "AbAB-n0B6dST"
      }
    },
    {
      "cell_type": "code",
      "source": [],
      "metadata": {
        "id": "7dlYKCZh6dOO"
      },
      "execution_count": null,
      "outputs": []
    },
    {
      "cell_type": "markdown",
      "source": [
        "27. Преобразуйте строку space_str в логическое значение и сохраните результат в переменной bool_val.\n"
      ],
      "metadata": {
        "id": "ajsFd22M6dJg"
      }
    },
    {
      "cell_type": "code",
      "source": [],
      "metadata": {
        "id": "l32jm5ev6dE7"
      },
      "execution_count": null,
      "outputs": []
    },
    {
      "cell_type": "markdown",
      "source": [
        "28. Создайте переменную newline_str и присвойте ей строку \"\\n\".\n"
      ],
      "metadata": {
        "id": "qBexr03I6dAK"
      }
    },
    {
      "cell_type": "code",
      "source": [],
      "metadata": {
        "id": "k8XXPgCz6c7c"
      },
      "execution_count": null,
      "outputs": []
    },
    {
      "cell_type": "markdown",
      "source": [
        "29. Преобразуйте строку newline_str в логическое значение и сохраните результат в переменной bool_val.\n"
      ],
      "metadata": {
        "id": "AXCdCcFP6c35"
      }
    },
    {
      "cell_type": "code",
      "source": [],
      "metadata": {
        "id": "iU2AljDA6cy8"
      },
      "execution_count": null,
      "outputs": []
    },
    {
      "cell_type": "markdown",
      "source": [
        "30. Создайте переменную tab_str и присвойте ей строку \"\\t\"."
      ],
      "metadata": {
        "id": "NacmxXzG6cuR"
      }
    },
    {
      "cell_type": "code",
      "source": [],
      "metadata": {
        "id": "Ic0KayJX6cpr"
      },
      "execution_count": null,
      "outputs": []
    },
    {
      "cell_type": "markdown",
      "source": [
        "31. Преобразуйте строку tab_str в логическое значение и сохраните результат в переменной bool_val.\n"
      ],
      "metadata": {
        "id": "_y7QMsEs6clw"
      }
    },
    {
      "cell_type": "code",
      "source": [],
      "metadata": {
        "id": "EG9hwqhN6cgg"
      },
      "execution_count": null,
      "outputs": []
    },
    {
      "cell_type": "markdown",
      "source": [
        "32. Создайте переменную comma_str и присвойте ей строку \",\"."
      ],
      "metadata": {
        "id": "bivDsmK66cck"
      }
    },
    {
      "cell_type": "code",
      "source": [],
      "metadata": {
        "id": "D7FdNoUS6cXn"
      },
      "execution_count": null,
      "outputs": []
    },
    {
      "cell_type": "markdown",
      "source": [
        "33. Преобразуйте строку comma_str в логическое значение и сохраните результат в переменной bool_val.\n"
      ],
      "metadata": {
        "id": "nE2oVZif6cTA"
      }
    },
    {
      "cell_type": "code",
      "source": [],
      "metadata": {
        "id": "LBiVnVD06cNu"
      },
      "execution_count": null,
      "outputs": []
    },
    {
      "cell_type": "markdown",
      "source": [
        "34. Создайте переменную dot_str и присвойте ей строку \".\"."
      ],
      "metadata": {
        "id": "xQL8CUE06cJU"
      }
    },
    {
      "cell_type": "code",
      "source": [],
      "metadata": {
        "id": "YCOBa7PD6cFX"
      },
      "execution_count": null,
      "outputs": []
    },
    {
      "cell_type": "markdown",
      "source": [
        "35. Преобразуйте строку dot_str в логическое значение и сохраните результат в переменной bool_val.\n"
      ],
      "metadata": {
        "id": "i41ffVHT6cAh"
      }
    },
    {
      "cell_type": "code",
      "source": [],
      "metadata": {
        "id": "L5TOfA9D6b8k"
      },
      "execution_count": null,
      "outputs": []
    },
    {
      "cell_type": "markdown",
      "source": [
        "36. Создайте переменную colon_str и присвойте ей строку \":\"."
      ],
      "metadata": {
        "id": "8TEfkc406b5C"
      }
    },
    {
      "cell_type": "code",
      "source": [],
      "metadata": {
        "id": "hdXDDz9H6bz9"
      },
      "execution_count": null,
      "outputs": []
    },
    {
      "cell_type": "markdown",
      "source": [
        "37. Преобразуйте строку colon_str в логическое значение и сохраните результат в переменной bool_val.\n"
      ],
      "metadata": {
        "id": "IGKvvqkE6buS"
      }
    },
    {
      "cell_type": "code",
      "source": [],
      "metadata": {
        "id": "fV1Bw1XI6bpT"
      },
      "execution_count": null,
      "outputs": []
    },
    {
      "cell_type": "markdown",
      "source": [
        "38. Создайте переменную semicolon_str и присвойте ей строку \";\"."
      ],
      "metadata": {
        "id": "HVBRdd9J6blP"
      }
    },
    {
      "cell_type": "code",
      "source": [],
      "metadata": {
        "id": "iQrMG7rj6bgI"
      },
      "execution_count": null,
      "outputs": []
    },
    {
      "cell_type": "markdown",
      "source": [
        "39. Преобразуйте строку semicolon_str в логическое значение и сохраните результат в переменной bool_val.\n"
      ],
      "metadata": {
        "id": "RuZ9zula6bcA"
      }
    },
    {
      "cell_type": "code",
      "source": [],
      "metadata": {
        "id": "H6b3u8mw6bXB"
      },
      "execution_count": null,
      "outputs": []
    },
    {
      "cell_type": "markdown",
      "source": [
        "40. Создайте переменную exclamation_str и присвойте ей строку \"!\"."
      ],
      "metadata": {
        "id": "0mbjaMs36bSf"
      }
    },
    {
      "cell_type": "code",
      "source": [],
      "metadata": {
        "id": "BPsUfJTs6bO8"
      },
      "execution_count": null,
      "outputs": []
    },
    {
      "cell_type": "markdown",
      "source": [
        "41. Преобразуйте строку exclamation_str в логическое значение и сохраните результат в переменной bool_val.\n"
      ],
      "metadata": {
        "id": "F2jjuiBV6bHg"
      }
    },
    {
      "cell_type": "code",
      "source": [],
      "metadata": {
        "id": "YfvujuBi6bC5"
      },
      "execution_count": null,
      "outputs": []
    },
    {
      "cell_type": "markdown",
      "source": [
        "42. Создайте переменную question_str и присвойте ей строку \"?\".\n"
      ],
      "metadata": {
        "id": "Ao7WsjPc6a-Q"
      }
    },
    {
      "cell_type": "code",
      "source": [],
      "metadata": {
        "id": "TX2fmCet6a6I"
      },
      "execution_count": null,
      "outputs": []
    },
    {
      "cell_type": "markdown",
      "source": [
        "43. Преобразуйте строку question_str в логическое значение и сохраните результат в переменной bool_val.\n"
      ],
      "metadata": {
        "id": "WjrN9Frb6a1Q"
      }
    },
    {
      "cell_type": "code",
      "source": [],
      "metadata": {
        "id": "tZ4prdYy6awM"
      },
      "execution_count": null,
      "outputs": []
    },
    {
      "cell_type": "markdown",
      "source": [
        "44. Создайте переменную quote_str и присвойте ей строку \"'\"."
      ],
      "metadata": {
        "id": "kGlsLDiK6asr"
      }
    },
    {
      "cell_type": "code",
      "source": [],
      "metadata": {
        "id": "jkwrwdS66anO"
      },
      "execution_count": null,
      "outputs": []
    },
    {
      "cell_type": "markdown",
      "source": [
        "45. Преобразуйте строку quote_str в логическое значение и сохраните результат в переменной bool_val.\n"
      ],
      "metadata": {
        "id": "EurkyOSz6aiO"
      }
    },
    {
      "cell_type": "code",
      "source": [],
      "metadata": {
        "id": "IXiYUDIe6adV"
      },
      "execution_count": null,
      "outputs": []
    },
    {
      "cell_type": "markdown",
      "source": [
        "46. Создайте переменную double_quote_str и присвойте ей строку \"\\\"\"."
      ],
      "metadata": {
        "id": "cdm0QNMg6aWk"
      }
    },
    {
      "cell_type": "code",
      "source": [],
      "metadata": {
        "id": "sgp3_G2l8q8r"
      },
      "execution_count": null,
      "outputs": []
    },
    {
      "cell_type": "markdown",
      "source": [
        "47. Преобразуйте строку double_quote_str в логическое значение и сохраните результат в переменной bool_val.\n"
      ],
      "metadata": {
        "id": "YRGptCvS8q1U"
      }
    },
    {
      "cell_type": "code",
      "source": [],
      "metadata": {
        "id": "uof9zO2L8qsj"
      },
      "execution_count": null,
      "outputs": []
    },
    {
      "cell_type": "markdown",
      "source": [
        "48. Создайте переменную backslash_str и присвойте ей строку \"\\\\\"."
      ],
      "metadata": {
        "id": "QPuL-hER8qkw"
      }
    },
    {
      "cell_type": "code",
      "source": [],
      "metadata": {
        "id": "1452yonb8qYG"
      },
      "execution_count": null,
      "outputs": []
    },
    {
      "cell_type": "markdown",
      "source": [
        "49. Преобразуйте строку backslash_str в логическое значение и сохраните результат в переменной bool_val.\n"
      ],
      "metadata": {
        "id": "wL9HLsxW8qPO"
      }
    },
    {
      "cell_type": "code",
      "source": [],
      "metadata": {
        "id": "zgT2ldeo8qJK"
      },
      "execution_count": null,
      "outputs": []
    },
    {
      "cell_type": "markdown",
      "source": [
        "50. Создайте переменную slash_str и присвойте ей строку \"/\".\n"
      ],
      "metadata": {
        "id": "9csc_m3l8qAl"
      }
    },
    {
      "cell_type": "code",
      "source": [],
      "metadata": {
        "id": "P1bUFp408p54"
      },
      "execution_count": null,
      "outputs": []
    },
    {
      "cell_type": "markdown",
      "source": [
        "51. Преобразуйте строку slash_str в логическое значение и сохраните результат в переменной bool_val.\n"
      ],
      "metadata": {
        "id": "MpqeKSN98pyO"
      }
    },
    {
      "cell_type": "code",
      "source": [],
      "metadata": {
        "id": "H8uCF6a48pps"
      },
      "execution_count": null,
      "outputs": []
    },
    {
      "cell_type": "markdown",
      "source": [
        "52. Создайте переменную pipe_str и присвойте ей строку \"|\"."
      ],
      "metadata": {
        "id": "i_DkW_Nq8pgF"
      }
    },
    {
      "cell_type": "code",
      "source": [],
      "metadata": {
        "id": "JO9rT-xp8pZD"
      },
      "execution_count": null,
      "outputs": []
    },
    {
      "cell_type": "markdown",
      "source": [
        "53. Преобразуйте строку pipe_str в логическое значение и сохраните результат в переменной bool_val.\n"
      ],
      "metadata": {
        "id": "tJjb5jDX8pNY"
      }
    },
    {
      "cell_type": "code",
      "source": [],
      "metadata": {
        "id": "WhjpCXoD8onC"
      },
      "execution_count": null,
      "outputs": []
    },
    {
      "cell_type": "markdown",
      "source": [
        "54. Создайте переменную tilde_str и присвойте ей строку \"~\"."
      ],
      "metadata": {
        "id": "NEv7qmn58mmh"
      }
    },
    {
      "cell_type": "code",
      "source": [],
      "metadata": {
        "id": "UHjy3bA48m-b"
      },
      "execution_count": null,
      "outputs": []
    },
    {
      "cell_type": "markdown",
      "source": [
        "55. Преобразуйте строку tilde_str в логическое значение и сохраните результат в переменной bool_val.\n"
      ],
      "metadata": {
        "id": "Gy4ptCYt8n7I"
      }
    },
    {
      "cell_type": "code",
      "source": [],
      "metadata": {
        "id": "JtsRAV5Y9BzB"
      },
      "execution_count": null,
      "outputs": []
    },
    {
      "cell_type": "markdown",
      "source": [
        "56. Создайте переменную asterisk_str и присвойте ей строку \"*\"."
      ],
      "metadata": {
        "id": "G2SYhvV29BWd"
      }
    },
    {
      "cell_type": "code",
      "source": [],
      "metadata": {
        "id": "tQKmXRHc6aOK"
      },
      "execution_count": null,
      "outputs": []
    }
  ]
}