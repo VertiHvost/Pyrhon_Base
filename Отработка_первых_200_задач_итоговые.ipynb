{
  "nbformat": 4,
  "nbformat_minor": 0,
  "metadata": {
    "colab": {
      "provenance": [],
      "authorship_tag": "ABX9TyPTVaFNE/Mlr4Rp2Efgtk/1",
      "include_colab_link": true
    },
    "kernelspec": {
      "name": "python3",
      "display_name": "Python 3"
    },
    "language_info": {
      "name": "python"
    }
  },
  "cells": [
    {
      "cell_type": "markdown",
      "metadata": {
        "id": "view-in-github",
        "colab_type": "text"
      },
      "source": [
        "<a href=\"https://colab.research.google.com/github/VertiHvost/Pyrhon_Base/blob/main/%D0%9E%D1%82%D1%80%D0%B0%D0%B1%D0%BE%D1%82%D0%BA%D0%B0_%D0%BF%D0%B5%D1%80%D0%B2%D1%8B%D1%85_200_%D0%B7%D0%B0%D0%B4%D0%B0%D1%87_%D0%B8%D1%82%D0%BE%D0%B3%D0%BE%D0%B2%D1%8B%D0%B5.ipynb\" target=\"_parent\"><img src=\"https://colab.research.google.com/assets/colab-badge.svg\" alt=\"Open In Colab\"/></a>"
      ]
    },
    {
      "cell_type": "markdown",
      "source": [
        "###Блок №1 переменные и типы данных"
      ],
      "metadata": {
        "id": "eqVOeAbSPZec"
      }
    },
    {
      "cell_type": "markdown",
      "source": [
        "1. Создайте переменную x и присвойте ей значение 10."
      ],
      "metadata": {
        "id": "xgyCE7qhQCAc"
      }
    },
    {
      "cell_type": "code",
      "source": [
        "x=10\n",
        "print(x)"
      ],
      "metadata": {
        "colab": {
          "base_uri": "https://localhost:8080/"
        },
        "id": "5msF7JDAQBjE",
        "outputId": "7e99e24c-1b71-49c6-aae0-9fc1c638878f"
      },
      "execution_count": 5,
      "outputs": [
        {
          "output_type": "stream",
          "name": "stdout",
          "text": [
            "10\n"
          ]
        }
      ]
    },
    {
      "cell_type": "markdown",
      "source": [
        "2. Создайте переменную y и присвойте ей значение 5.5."
      ],
      "metadata": {
        "id": "WYcdFl64QGa7"
      }
    },
    {
      "cell_type": "code",
      "execution_count": 6,
      "metadata": {
        "id": "lOmq8UXHeiee",
        "colab": {
          "base_uri": "https://localhost:8080/"
        },
        "outputId": "058b6899-f57e-4b44-fbfb-9a34696d67c9"
      },
      "outputs": [
        {
          "output_type": "stream",
          "name": "stdout",
          "text": [
            "5.5\n"
          ]
        }
      ],
      "source": [
        "y = 5.5\n",
        "print(y)"
      ]
    },
    {
      "cell_type": "markdown",
      "source": [
        "3. Создайте переменную name и присвойте ей ваше имя."
      ],
      "metadata": {
        "id": "_MiCoG0-QHmT"
      }
    },
    {
      "cell_type": "code",
      "source": [
        "name = \"Андрей\"\n",
        "print(name)"
      ],
      "metadata": {
        "id": "AFF7RdMke_Is",
        "colab": {
          "base_uri": "https://localhost:8080/"
        },
        "outputId": "037457c4-8d29-416d-a3c1-edf21b3c4f73"
      },
      "execution_count": 7,
      "outputs": [
        {
          "output_type": "stream",
          "name": "stdout",
          "text": [
            "Андрей\n"
          ]
        }
      ]
    },
    {
      "cell_type": "markdown",
      "source": [
        "4. Поменяйте значения переменных x и y местами."
      ],
      "metadata": {
        "id": "Il6P2mVySkoD"
      }
    },
    {
      "cell_type": "code",
      "source": [],
      "metadata": {
        "id": "sFqesxEOSmid"
      },
      "execution_count": null,
      "outputs": []
    },
    {
      "cell_type": "markdown",
      "source": [
        "5. Создайте переменную is_active и присвойте ей значение True."
      ],
      "metadata": {
        "id": "THLmMTg2Sn1T"
      }
    },
    {
      "cell_type": "code",
      "source": [],
      "metadata": {
        "id": "czGAMWcqTYob"
      },
      "execution_count": null,
      "outputs": []
    },
    {
      "cell_type": "markdown",
      "source": [
        "6. Выведите тип данных переменной x."
      ],
      "metadata": {
        "id": "2NTuqqWKTgHD"
      }
    },
    {
      "cell_type": "code",
      "source": [],
      "metadata": {
        "id": "leDeoFfNSmgE"
      },
      "execution_count": null,
      "outputs": []
    },
    {
      "cell_type": "markdown",
      "source": [
        "7. Преобразуйте переменную x в строку."
      ],
      "metadata": {
        "id": "7wBIVTCrSptT"
      }
    },
    {
      "cell_type": "code",
      "source": [],
      "metadata": {
        "id": "c2bTbNroSmdj"
      },
      "execution_count": null,
      "outputs": []
    },
    {
      "cell_type": "markdown",
      "source": [
        "8. Преобразуйте переменную y в целое число."
      ],
      "metadata": {
        "id": "qZbQH53_SrbT"
      }
    },
    {
      "cell_type": "code",
      "source": [],
      "metadata": {
        "id": "6Yoxg42OSmbM"
      },
      "execution_count": null,
      "outputs": []
    },
    {
      "cell_type": "markdown",
      "source": [
        "9. Создайте переменную z и присвойте ей результат сложения x и y."
      ],
      "metadata": {
        "id": "zjRHUKCtSsPL"
      }
    },
    {
      "cell_type": "code",
      "source": [],
      "metadata": {
        "id": "X8TLJrU9SmYr"
      },
      "execution_count": null,
      "outputs": []
    },
    {
      "cell_type": "markdown",
      "source": [
        "10. Создайте переменную w и присвойте ей результат умножения x на y."
      ],
      "metadata": {
        "id": "nUreKGZXSs0z"
      }
    },
    {
      "cell_type": "code",
      "source": [],
      "metadata": {
        "id": "hPLoE7EvSmWM"
      },
      "execution_count": null,
      "outputs": []
    },
    {
      "cell_type": "markdown",
      "source": [
        "### Блок 2. Ввод и вывод"
      ],
      "metadata": {
        "id": "QWuTR_u3T_lD"
      }
    },
    {
      "cell_type": "markdown",
      "source": [
        "11. Запросите у пользователя его имя и выведите его."
      ],
      "metadata": {
        "id": "IVjX4GRfStQj"
      }
    },
    {
      "cell_type": "code",
      "source": [],
      "metadata": {
        "id": "flWSfOGKSmT7"
      },
      "execution_count": null,
      "outputs": []
    },
    {
      "cell_type": "markdown",
      "source": [
        "12. Запросите у пользователя его возраст и выведите его."
      ],
      "metadata": {
        "id": "Czi8taJhS4db"
      }
    },
    {
      "cell_type": "code",
      "source": [],
      "metadata": {
        "id": "Fi6MLYKGS4I8"
      },
      "execution_count": null,
      "outputs": []
    },
    {
      "cell_type": "markdown",
      "source": [
        "13. Запросите у пользователя два числа и выведите их сумму."
      ],
      "metadata": {
        "id": "fMQsjKuXS4Dz"
      }
    },
    {
      "cell_type": "code",
      "source": [],
      "metadata": {
        "id": "kiIBV6FMS3_L"
      },
      "execution_count": null,
      "outputs": []
    },
    {
      "cell_type": "markdown",
      "source": [
        "14. Запросите у пользователя число и выведите его квадрат."
      ],
      "metadata": {
        "id": "5EqZr5uHS37e"
      }
    },
    {
      "cell_type": "code",
      "source": [],
      "metadata": {
        "id": "WDYN7oLMS33E"
      },
      "execution_count": null,
      "outputs": []
    },
    {
      "cell_type": "markdown",
      "source": [
        "15. Запросите у пользователя строку и выведите её длину."
      ],
      "metadata": {
        "id": "vf2IYqF-S3ys"
      }
    },
    {
      "cell_type": "code",
      "source": [],
      "metadata": {
        "id": "TL8CROxoS3uN"
      },
      "execution_count": null,
      "outputs": []
    },
    {
      "cell_type": "markdown",
      "source": [
        "16. Запросите у пользователя два числа и выведите их произведение."
      ],
      "metadata": {
        "id": "s4skJw4yS3qF"
      }
    },
    {
      "cell_type": "code",
      "source": [],
      "metadata": {
        "id": "tTBZ8Of9S3jj"
      },
      "execution_count": null,
      "outputs": []
    },
    {
      "cell_type": "markdown",
      "source": [
        "17. Запросите у пользователя число и выведите его квадратный корень."
      ],
      "metadata": {
        "id": "ZHQvBmyfS3ez"
      }
    },
    {
      "cell_type": "code",
      "source": [],
      "metadata": {
        "id": "MVfsOAiMS3Z7"
      },
      "execution_count": null,
      "outputs": []
    },
    {
      "cell_type": "markdown",
      "source": [
        "18. Запросите у пользователя строку и выведите её в верхнем регистре."
      ],
      "metadata": {
        "id": "upwO_xMCS3VL"
      }
    },
    {
      "cell_type": "code",
      "source": [],
      "metadata": {
        "id": "xmjy-d0gS3Qj"
      },
      "execution_count": null,
      "outputs": []
    },
    {
      "cell_type": "markdown",
      "source": [
        "19. Запросите у пользователя строку и выведите её в нижнем регистре."
      ],
      "metadata": {
        "id": "HFSS4ta5S3Mb"
      }
    },
    {
      "cell_type": "code",
      "source": [],
      "metadata": {
        "id": "tNYWnggkS3H7"
      },
      "execution_count": null,
      "outputs": []
    },
    {
      "cell_type": "markdown",
      "source": [
        "20. Запросите у пользователя строку и выведите её в обратном порядке."
      ],
      "metadata": {
        "id": "j49sVCyIS3Dz"
      }
    },
    {
      "cell_type": "code",
      "source": [],
      "metadata": {
        "id": "Zdfu5kemS2_L"
      },
      "execution_count": null,
      "outputs": []
    },
    {
      "cell_type": "markdown",
      "source": [
        "### Блок 3. Условные операторы"
      ],
      "metadata": {
        "id": "NVqoAxXNUovL"
      }
    },
    {
      "cell_type": "markdown",
      "source": [
        "21. Проверьте, является ли число положительным."
      ],
      "metadata": {
        "id": "SDtN9C5JS26r"
      }
    },
    {
      "cell_type": "code",
      "source": [],
      "metadata": {
        "id": "pu6mByoLS22D"
      },
      "execution_count": null,
      "outputs": []
    },
    {
      "cell_type": "markdown",
      "source": [
        "22. Сравните два числа и выведите большее."
      ],
      "metadata": {
        "id": "FOW0VL9TS2xc"
      }
    },
    {
      "cell_type": "code",
      "source": [],
      "metadata": {
        "id": "9g0EPUrrS2s1"
      },
      "execution_count": null,
      "outputs": []
    },
    {
      "cell_type": "markdown",
      "source": [
        "23. Проверьте, является ли число чётным."
      ],
      "metadata": {
        "id": "o9RzKDJ0S2nj"
      }
    },
    {
      "cell_type": "code",
      "source": [],
      "metadata": {
        "id": "o7NLb1nSS2iz"
      },
      "execution_count": null,
      "outputs": []
    },
    {
      "cell_type": "markdown",
      "source": [
        "24. Проверьте, делится ли число на 3 без остатка."
      ],
      "metadata": {
        "id": "_hZhr5sxS2e9"
      }
    },
    {
      "cell_type": "code",
      "source": [],
      "metadata": {
        "id": "jcs9qK_LS2Z7"
      },
      "execution_count": null,
      "outputs": []
    },
    {
      "cell_type": "markdown",
      "source": [
        "25. Сравните два числа и выведите меньшее."
      ],
      "metadata": {
        "id": "EWbfUPWvS2U7"
      }
    },
    {
      "cell_type": "code",
      "source": [],
      "metadata": {
        "id": "0z-zpmL3S2Pb"
      },
      "execution_count": null,
      "outputs": []
    },
    {
      "cell_type": "markdown",
      "source": [
        "26. Проверьте, является ли строка пустой."
      ],
      "metadata": {
        "id": "CjomePHOS2Br"
      }
    },
    {
      "cell_type": "code",
      "source": [],
      "metadata": {
        "id": "ed53eibtS19L"
      },
      "execution_count": null,
      "outputs": []
    },
    {
      "cell_type": "markdown",
      "source": [
        "27. Проверьте, является ли строка палиндромом."
      ],
      "metadata": {
        "id": "C-4zaZ8oS14j"
      }
    },
    {
      "cell_type": "code",
      "source": [],
      "metadata": {
        "id": "bwuv9p6cS10D"
      },
      "execution_count": null,
      "outputs": []
    },
    {
      "cell_type": "markdown",
      "source": [
        "28. Проверьте, является ли год високосным."
      ],
      "metadata": {
        "id": "19xXxQWIS1vb"
      }
    },
    {
      "cell_type": "code",
      "source": [],
      "metadata": {
        "id": "vRTwxvYjS1q7"
      },
      "execution_count": null,
      "outputs": []
    },
    {
      "cell_type": "markdown",
      "source": [
        "29. Проверьте, является ли число двузначным."
      ],
      "metadata": {
        "id": "wHEEwqPkS1mj"
      }
    },
    {
      "cell_type": "code",
      "source": [],
      "metadata": {
        "id": "BwtEQFAAS1hc"
      },
      "execution_count": null,
      "outputs": []
    },
    {
      "cell_type": "markdown",
      "source": [
        "30. Проверьте, является ли число трёхзначным."
      ],
      "metadata": {
        "id": "fxPzf2fcS1dF"
      }
    },
    {
      "cell_type": "code",
      "source": [],
      "metadata": {
        "id": "IXg4aJBKS1Yt"
      },
      "execution_count": null,
      "outputs": []
    },
    {
      "cell_type": "markdown",
      "source": [
        "### Блок 4. Циклы"
      ],
      "metadata": {
        "id": "v8li_nqvVVsj"
      }
    },
    {
      "cell_type": "markdown",
      "source": [
        "31. Выведите числа от 1 до 10."
      ],
      "metadata": {
        "id": "BrvHRCqjS1Ub"
      }
    },
    {
      "cell_type": "code",
      "source": [],
      "metadata": {
        "id": "Q5eY7DkTS1QM"
      },
      "execution_count": null,
      "outputs": []
    },
    {
      "cell_type": "markdown",
      "source": [
        "32. Выведите числа от 10 до 1."
      ],
      "metadata": {
        "id": "OHq7l44nS1MU"
      }
    },
    {
      "cell_type": "code",
      "source": [],
      "metadata": {
        "id": "BKLM3SEtS1IL"
      },
      "execution_count": null,
      "outputs": []
    },
    {
      "cell_type": "markdown",
      "source": [
        "33. Выведите все чётные числа от 1 до 20."
      ],
      "metadata": {
        "id": "y4JMk1L0S1EE"
      }
    },
    {
      "cell_type": "code",
      "source": [],
      "metadata": {
        "id": "R0XEjca6S0_k"
      },
      "execution_count": null,
      "outputs": []
    },
    {
      "cell_type": "markdown",
      "source": [
        "34. Выведите все нечётные числа от 1 до 20."
      ],
      "metadata": {
        "id": "M4k6jTSJS07L"
      }
    },
    {
      "cell_type": "code",
      "source": [],
      "metadata": {
        "id": "J8rrhDh_S021"
      },
      "execution_count": null,
      "outputs": []
    },
    {
      "cell_type": "markdown",
      "source": [
        "35. Выведите сумму чисел от 1 до 100."
      ],
      "metadata": {
        "id": "McdqIlv5S0yb"
      }
    },
    {
      "cell_type": "code",
      "source": [],
      "metadata": {
        "id": "1eEi2-ULS0tz"
      },
      "execution_count": null,
      "outputs": []
    },
    {
      "cell_type": "markdown",
      "source": [
        "36. Выведите таблицу умножения на 5."
      ],
      "metadata": {
        "id": "eaNUFvE4S0pb"
      }
    },
    {
      "cell_type": "code",
      "source": [],
      "metadata": {
        "id": "Xfa9zV6cS0k7"
      },
      "execution_count": null,
      "outputs": []
    },
    {
      "cell_type": "markdown",
      "source": [
        "37. Выведите все числа, кратные 3, от 1 до 50."
      ],
      "metadata": {
        "id": "RZxVBhVKS0gc"
      }
    },
    {
      "cell_type": "code",
      "source": [],
      "metadata": {
        "id": "flScPqJjS0bM"
      },
      "execution_count": null,
      "outputs": []
    },
    {
      "cell_type": "markdown",
      "source": [
        "38. Выведите все числа, кратные 5, от 1 до 100."
      ],
      "metadata": {
        "id": "Io3WuNUAS0W7"
      }
    },
    {
      "cell_type": "code",
      "source": [],
      "metadata": {
        "id": "wTZxx7WuS0Sr"
      },
      "execution_count": null,
      "outputs": []
    },
    {
      "cell_type": "markdown",
      "source": [
        "39. Выведите все простые числа от 1 до 50."
      ],
      "metadata": {
        "id": "eJm5gf4oS0OD"
      }
    },
    {
      "cell_type": "code",
      "source": [],
      "metadata": {
        "id": "OWcZK8ewS0Jr"
      },
      "execution_count": null,
      "outputs": []
    },
    {
      "cell_type": "markdown",
      "source": [
        "40. Выведите факториал числа 5."
      ],
      "metadata": {
        "id": "NJhCW1XnS0Fk"
      }
    },
    {
      "cell_type": "code",
      "source": [],
      "metadata": {
        "id": "J6667neMS0BM"
      },
      "execution_count": null,
      "outputs": []
    },
    {
      "cell_type": "markdown",
      "source": [
        "### Блок 5. Списки"
      ],
      "metadata": {
        "id": "fiT7QQgmV3Kb"
      }
    },
    {
      "cell_type": "markdown",
      "source": [
        "41. Создайте список из 5 чисел."
      ],
      "metadata": {
        "id": "zHjH5cfXSz8u"
      }
    },
    {
      "cell_type": "code",
      "source": [],
      "metadata": {
        "id": "Q0wjgld2Sz4l"
      },
      "execution_count": null,
      "outputs": []
    },
    {
      "cell_type": "markdown",
      "source": [
        "42. Создайте список из 5 строк."
      ],
      "metadata": {
        "id": "3O1QHEFMSz0T"
      }
    },
    {
      "cell_type": "code",
      "source": [],
      "metadata": {
        "id": "d32MCYLXSzvj"
      },
      "execution_count": null,
      "outputs": []
    },
    {
      "cell_type": "markdown",
      "source": [
        "43. Добавьте элемент в конец списка."
      ],
      "metadata": {
        "id": "RqhsdxIQSzrD"
      }
    },
    {
      "cell_type": "code",
      "source": [],
      "metadata": {
        "id": "dYZcu-f5Szmz"
      },
      "execution_count": null,
      "outputs": []
    },
    {
      "cell_type": "markdown",
      "source": [
        "44. Удалите последний элемент списка."
      ],
      "metadata": {
        "id": "frs4JvtRSziD"
      }
    },
    {
      "cell_type": "code",
      "source": [],
      "metadata": {
        "id": "gC6d_T4wSzdb"
      },
      "execution_count": null,
      "outputs": []
    },
    {
      "cell_type": "markdown",
      "source": [
        "45. Удалите первый элемент списка."
      ],
      "metadata": {
        "id": "1S6OmkqdSzY7"
      }
    },
    {
      "cell_type": "code",
      "source": [],
      "metadata": {
        "id": "8oGQK9p-SzT7"
      },
      "execution_count": null,
      "outputs": []
    },
    {
      "cell_type": "markdown",
      "source": [
        "46. Найдите длину списка."
      ],
      "metadata": {
        "id": "tN2zYHzYSzPs"
      }
    },
    {
      "cell_type": "code",
      "source": [],
      "metadata": {
        "id": "SfMIjT2bSzK0"
      },
      "execution_count": null,
      "outputs": []
    },
    {
      "cell_type": "markdown",
      "source": [
        "47. Проверьте, есть ли элемент в списке."
      ],
      "metadata": {
        "id": "nn4N9ccQSzGr"
      }
    },
    {
      "cell_type": "code",
      "source": [],
      "metadata": {
        "id": "lpwoWEiVSzCL"
      },
      "execution_count": null,
      "outputs": []
    },
    {
      "cell_type": "markdown",
      "source": [
        "48. Найдите индекс элемента в списке."
      ],
      "metadata": {
        "id": "rcYjDWO9Sy9j"
      }
    },
    {
      "cell_type": "code",
      "source": [],
      "metadata": {
        "id": "8kjukofrSy4b"
      },
      "execution_count": null,
      "outputs": []
    },
    {
      "cell_type": "markdown",
      "source": [
        "49. Отсортируйте список по возрастанию."
      ],
      "metadata": {
        "id": "DipNS6WYSyzr"
      }
    },
    {
      "cell_type": "code",
      "source": [],
      "metadata": {
        "id": "Zrx3vAAhSyvb"
      },
      "execution_count": null,
      "outputs": []
    },
    {
      "cell_type": "markdown",
      "source": [
        "50. Отсортируйте список по убыванию."
      ],
      "metadata": {
        "id": "LfflHEfxSyq8"
      }
    },
    {
      "cell_type": "code",
      "source": [],
      "metadata": {
        "id": "rv5jzkUbSymc"
      },
      "execution_count": null,
      "outputs": []
    },
    {
      "cell_type": "markdown",
      "source": [
        "### Блок 6. Строки"
      ],
      "metadata": {
        "id": "687MVJPVSyiD"
      }
    },
    {
      "cell_type": "markdown",
      "source": [
        "51. Создайте строку и выведите её длину."
      ],
      "metadata": {
        "id": "5kz7syHWW8fD"
      }
    },
    {
      "cell_type": "code",
      "source": [],
      "metadata": {
        "id": "ujU3HEJCSydL"
      },
      "execution_count": null,
      "outputs": []
    },
    {
      "cell_type": "markdown",
      "source": [
        "52. Проверьте, начинается ли строка с определённого символа."
      ],
      "metadata": {
        "id": "wV6y43AvSyYr"
      }
    },
    {
      "cell_type": "code",
      "source": [],
      "metadata": {
        "id": "93PAzCrQSyT7"
      },
      "execution_count": null,
      "outputs": []
    },
    {
      "cell_type": "markdown",
      "source": [
        "53. Проверьте, заканчивается ли строка определённым символом."
      ],
      "metadata": {
        "id": "b5Yc-LTaSyOr"
      }
    },
    {
      "cell_type": "code",
      "source": [],
      "metadata": {
        "id": "IKbb5t9OSyJr"
      },
      "execution_count": null,
      "outputs": []
    },
    {
      "cell_type": "markdown",
      "source": [
        "54. Замените все пробелы в строке на символ -."
      ],
      "metadata": {
        "id": "P6SvfhtVSyDT"
      }
    },
    {
      "cell_type": "code",
      "source": [],
      "metadata": {
        "id": "yCFVQZSZSx7L"
      },
      "execution_count": null,
      "outputs": []
    },
    {
      "cell_type": "markdown",
      "source": [
        "55. Разделите строку на список слов."
      ],
      "metadata": {
        "id": "NlNrO0gpSx2T"
      }
    },
    {
      "cell_type": "code",
      "source": [],
      "metadata": {
        "id": "rNUNNwaxSxw7"
      },
      "execution_count": null,
      "outputs": []
    },
    {
      "cell_type": "markdown",
      "source": [
        "56. Объедините список слов в строку."
      ],
      "metadata": {
        "id": "_bI8H-QISxrc"
      }
    },
    {
      "cell_type": "code",
      "source": [],
      "metadata": {
        "id": "UhvK7IXkSxmM"
      },
      "execution_count": null,
      "outputs": []
    },
    {
      "cell_type": "markdown",
      "source": [
        "57. Удалите все пробелы в строке."
      ],
      "metadata": {
        "id": "vX8mm3e_SxhD"
      }
    },
    {
      "cell_type": "code",
      "source": [],
      "metadata": {
        "id": "zlSOK066SxcD"
      },
      "execution_count": null,
      "outputs": []
    },
    {
      "cell_type": "markdown",
      "source": [
        "58. Проверьте, содержит ли строка только буквы."
      ],
      "metadata": {
        "id": "sco-G6O6SxT7"
      }
    },
    {
      "cell_type": "code",
      "source": [],
      "metadata": {
        "id": "sPJYMfuLSxK7"
      },
      "execution_count": null,
      "outputs": []
    },
    {
      "cell_type": "markdown",
      "source": [
        "59. Проверьте, содержит ли строка только цифры."
      ],
      "metadata": {
        "id": "OMclrN0ISw_L"
      }
    },
    {
      "cell_type": "code",
      "source": [],
      "metadata": {
        "id": "gdNCF3nPSwx4"
      },
      "execution_count": null,
      "outputs": []
    },
    {
      "cell_type": "markdown",
      "source": [
        "60. Проверьте, содержит ли строка буквы и цифры."
      ],
      "metadata": {
        "id": "BmvBB762asYr"
      }
    },
    {
      "cell_type": "code",
      "source": [],
      "metadata": {
        "id": "lWs9W8Ssar4L"
      },
      "execution_count": null,
      "outputs": []
    },
    {
      "cell_type": "markdown",
      "source": [
        "### 7. Функции"
      ],
      "metadata": {
        "id": "bfcQ0JiNarsL"
      }
    },
    {
      "cell_type": "code",
      "source": [],
      "metadata": {
        "id": "Lh5EayDCav2D"
      },
      "execution_count": null,
      "outputs": []
    },
    {
      "cell_type": "markdown",
      "source": [
        "61. Напишите функцию, которая возвращает сумму двух чисел."
      ],
      "metadata": {
        "id": "OOXW7Cgharjz"
      }
    },
    {
      "cell_type": "code",
      "source": [],
      "metadata": {
        "id": "2EMWnVHiarfj"
      },
      "execution_count": null,
      "outputs": []
    },
    {
      "cell_type": "markdown",
      "source": [
        "62. Напишите функцию, которая возвращает произведение двух чисел."
      ],
      "metadata": {
        "id": "WBq4MBXEarbD"
      }
    },
    {
      "cell_type": "code",
      "source": [],
      "metadata": {
        "id": "83F6EEkmarWx"
      },
      "execution_count": null,
      "outputs": []
    },
    {
      "cell_type": "markdown",
      "source": [
        "63. Напишите функцию, которая возвращает квадрат числа."
      ],
      "metadata": {
        "id": "pRbPYCrearSs"
      }
    },
    {
      "cell_type": "code",
      "source": [],
      "metadata": {
        "id": "bx4pa2tla9L0"
      },
      "execution_count": null,
      "outputs": []
    },
    {
      "cell_type": "markdown",
      "source": [
        "64. Напишите функцию, которая проверяет, является ли число чётным."
      ],
      "metadata": {
        "id": "7BJgCfhAarKb"
      }
    },
    {
      "cell_type": "code",
      "source": [],
      "metadata": {
        "id": "VFN8tHuXarGV"
      },
      "execution_count": null,
      "outputs": []
    },
    {
      "cell_type": "markdown",
      "source": [
        "65. Напишите функцию, которая возвращает наибольшее из двух чисел."
      ],
      "metadata": {
        "id": "SKdqfTBOarBP"
      }
    },
    {
      "cell_type": "code",
      "source": [],
      "metadata": {
        "id": "WLitFPVRaq9J"
      },
      "execution_count": null,
      "outputs": []
    },
    {
      "cell_type": "markdown",
      "source": [
        "66. Напишите функцию, которая возвращает наименьшее из двух чисел."
      ],
      "metadata": {
        "id": "lCPAO3-laq5E"
      }
    },
    {
      "cell_type": "code",
      "source": [],
      "metadata": {
        "id": "mcdiKkyHaq1S"
      },
      "execution_count": null,
      "outputs": []
    },
    {
      "cell_type": "markdown",
      "source": [
        "67. Напишите функцию, которая возвращает длину строки."
      ],
      "metadata": {
        "id": "L6jSrNs1aqw7"
      }
    },
    {
      "cell_type": "code",
      "source": [],
      "metadata": {
        "id": "XLdiD6wraqsk"
      },
      "execution_count": null,
      "outputs": []
    },
    {
      "cell_type": "markdown",
      "source": [
        "68. Напишите функцию, которая возвращает обратную строку."
      ],
      "metadata": {
        "id": "sVeGUcpubFwr"
      }
    },
    {
      "cell_type": "code",
      "source": [],
      "metadata": {
        "id": "CwwizYqZaqlF"
      },
      "execution_count": null,
      "outputs": []
    },
    {
      "cell_type": "markdown",
      "source": [
        "69. Напишите функцию, которая возвращает факториал числа."
      ],
      "metadata": {
        "id": "A1WGvRKKaqg1"
      }
    },
    {
      "cell_type": "code",
      "source": [],
      "metadata": {
        "id": "p0_e5ko2aqc9"
      },
      "execution_count": null,
      "outputs": []
    },
    {
      "cell_type": "markdown",
      "source": [
        "70. Напишите функцию, которая возвращает список чётных чисел от 1 до N."
      ],
      "metadata": {
        "id": "zswN11LHaqYj"
      }
    },
    {
      "cell_type": "code",
      "source": [],
      "metadata": {
        "id": "02jMGmcfaqUg"
      },
      "execution_count": null,
      "outputs": []
    },
    {
      "cell_type": "markdown",
      "source": [
        "### Блок 8. Словари"
      ],
      "metadata": {
        "id": "M7CqveMgaqQn"
      }
    },
    {
      "cell_type": "markdown",
      "source": [
        "71. Создайте словарь с ключами name, age, city."
      ],
      "metadata": {
        "id": "n_VE6xuSbskD"
      }
    },
    {
      "cell_type": "code",
      "source": [],
      "metadata": {
        "id": "Myp-eiY9aqNF"
      },
      "execution_count": null,
      "outputs": []
    },
    {
      "cell_type": "markdown",
      "source": [
        "72. Добавьте новый ключ в словарь."
      ],
      "metadata": {
        "id": "48IpNaqyaqIJ"
      }
    },
    {
      "cell_type": "code",
      "source": [],
      "metadata": {
        "id": "L2Yf8pvAaqD3"
      },
      "execution_count": null,
      "outputs": []
    },
    {
      "cell_type": "markdown",
      "source": [
        "73. Удалите ключ из словаря."
      ],
      "metadata": {
        "id": "iNfVxfzFap-Q"
      }
    },
    {
      "cell_type": "code",
      "source": [],
      "metadata": {
        "id": "7tBMlbMUap6W"
      },
      "execution_count": null,
      "outputs": []
    },
    {
      "cell_type": "markdown",
      "source": [
        "74. Проверьте, существует ли ключ в словаре."
      ],
      "metadata": {
        "id": "oakqnJuAap2G"
      }
    },
    {
      "cell_type": "code",
      "source": [],
      "metadata": {
        "id": "F8-lhdR_apx_"
      },
      "execution_count": null,
      "outputs": []
    },
    {
      "cell_type": "markdown",
      "source": [
        "75. Выведите все ключи словаря."
      ],
      "metadata": {
        "id": "2m7mt1Mwapt1"
      }
    },
    {
      "cell_type": "code",
      "source": [],
      "metadata": {
        "id": "JPlIqvXXappf"
      },
      "execution_count": null,
      "outputs": []
    },
    {
      "cell_type": "markdown",
      "source": [
        "76. Выведите все значения словаря."
      ],
      "metadata": {
        "id": "n1ZVvJ-papk8"
      }
    },
    {
      "cell_type": "code",
      "source": [],
      "metadata": {
        "id": "-SIRcrMqapgY"
      },
      "execution_count": null,
      "outputs": []
    },
    {
      "cell_type": "markdown",
      "source": [
        "77. Объедините два словаря."
      ],
      "metadata": {
        "id": "GURc-abjapcF"
      }
    },
    {
      "cell_type": "code",
      "source": [],
      "metadata": {
        "id": "fwxJsv_FapXk"
      },
      "execution_count": null,
      "outputs": []
    },
    {
      "cell_type": "markdown",
      "source": [
        "78. Найдите значение по ключу."
      ],
      "metadata": {
        "id": "c_m6N2r8apTM"
      }
    },
    {
      "cell_type": "code",
      "source": [],
      "metadata": {
        "id": "H-9_Uq-WapOm"
      },
      "execution_count": null,
      "outputs": []
    },
    {
      "cell_type": "markdown",
      "source": [
        "79. Измените значение по ключу."
      ],
      "metadata": {
        "id": "T81V3VW7apJs"
      }
    },
    {
      "cell_type": "code",
      "source": [],
      "metadata": {
        "id": "npwKoSxpapE0"
      },
      "execution_count": null,
      "outputs": []
    },
    {
      "cell_type": "markdown",
      "source": [
        "80. Создайте словарь, где ключи — числа, а значения — их квадраты."
      ],
      "metadata": {
        "id": "QkAlsZGEapAs"
      }
    },
    {
      "cell_type": "code",
      "source": [],
      "metadata": {
        "id": "0CIoX9EGao8d"
      },
      "execution_count": null,
      "outputs": []
    },
    {
      "cell_type": "markdown",
      "source": [
        "### Блок 9. Множества"
      ],
      "metadata": {
        "id": "mhgVoguscHCz"
      }
    },
    {
      "cell_type": "markdown",
      "source": [
        "81. Создайте множество из списка чисел."
      ],
      "metadata": {
        "id": "J5ackzD0ao3_"
      }
    },
    {
      "cell_type": "code",
      "source": [],
      "metadata": {
        "id": "7DdoXAYlaozb"
      },
      "execution_count": null,
      "outputs": []
    },
    {
      "cell_type": "markdown",
      "source": [
        "82. Добавьте элемент в множество."
      ],
      "metadata": {
        "id": "jc67OG31aotz"
      }
    },
    {
      "cell_type": "code",
      "source": [],
      "metadata": {
        "id": "RrEqIwKNaopU"
      },
      "execution_count": null,
      "outputs": []
    },
    {
      "cell_type": "markdown",
      "source": [
        "83. Удалите элемент из множества."
      ],
      "metadata": {
        "id": "sRGiFQPIaokb"
      }
    },
    {
      "cell_type": "code",
      "source": [],
      "metadata": {
        "id": "rFrX8J7KaofT"
      },
      "execution_count": null,
      "outputs": []
    },
    {
      "cell_type": "markdown",
      "source": [
        "84. Проверьте, есть ли элемент в множестве."
      ],
      "metadata": {
        "id": "c00xCseKaoaD"
      }
    },
    {
      "cell_type": "code",
      "source": [],
      "metadata": {
        "id": "nvA1hulTaoV1"
      },
      "execution_count": null,
      "outputs": []
    },
    {
      "cell_type": "markdown",
      "source": [
        "85. Найдите пересечение двух множеств."
      ],
      "metadata": {
        "id": "7oJczqegaoQ0"
      }
    },
    {
      "cell_type": "code",
      "source": [],
      "metadata": {
        "id": "KjiHLPQ9aoMO"
      },
      "execution_count": null,
      "outputs": []
    },
    {
      "cell_type": "markdown",
      "source": [
        "86. Найдите объединение двух множеств."
      ],
      "metadata": {
        "id": "MY1_NPv9aoHF"
      }
    },
    {
      "cell_type": "code",
      "source": [],
      "metadata": {
        "id": "AMCqFs_EaoAc"
      },
      "execution_count": null,
      "outputs": []
    },
    {
      "cell_type": "markdown",
      "source": [
        "87. Найдите разность двух множеств."
      ],
      "metadata": {
        "id": "BDjCixEVan6s"
      }
    },
    {
      "cell_type": "code",
      "source": [],
      "metadata": {
        "id": "He7Fk99xan1k"
      },
      "execution_count": null,
      "outputs": []
    },
    {
      "cell_type": "markdown",
      "source": [
        "88. Проверьте, является ли одно множество подмножеством другого."
      ],
      "metadata": {
        "id": "4r81BGc9anwb"
      }
    },
    {
      "cell_type": "code",
      "source": [],
      "metadata": {
        "id": "JuFIyVe6ansT"
      },
      "execution_count": null,
      "outputs": []
    },
    {
      "cell_type": "markdown",
      "source": [
        "89. Создайте множество из строки."
      ],
      "metadata": {
        "id": "Bmlqqh0Qanns"
      }
    },
    {
      "cell_type": "code",
      "source": [],
      "metadata": {
        "id": "69G2sWHUanjL"
      },
      "execution_count": null,
      "outputs": []
    },
    {
      "cell_type": "markdown",
      "source": [
        "90. Удалите дубликаты из списка с помощью множества."
      ],
      "metadata": {
        "id": "7lptVpqmanfL"
      }
    },
    {
      "cell_type": "markdown",
      "source": [
        "### Блок 10. Кортежи"
      ],
      "metadata": {
        "id": "HtFqqwybcy-j"
      }
    },
    {
      "cell_type": "markdown",
      "source": [
        "91. Создайте кортеж из 5 чисел."
      ],
      "metadata": {
        "id": "ZPQY23u6c4kj"
      }
    },
    {
      "cell_type": "code",
      "source": [],
      "metadata": {
        "id": "7kIIKftAanaj"
      },
      "execution_count": null,
      "outputs": []
    },
    {
      "cell_type": "markdown",
      "source": [
        "92. Создайте кортеж из 5 строк."
      ],
      "metadata": {
        "id": "7bIbXeWJanV7"
      }
    },
    {
      "cell_type": "code",
      "source": [],
      "metadata": {
        "id": "DppHsN06anQ7"
      },
      "execution_count": null,
      "outputs": []
    },
    {
      "cell_type": "markdown",
      "source": [
        "93. Найдите длину кортежа."
      ],
      "metadata": {
        "id": "xoaf058NanND"
      }
    },
    {
      "cell_type": "code",
      "source": [],
      "metadata": {
        "id": "iILh_wsYanIk"
      },
      "execution_count": null,
      "outputs": []
    },
    {
      "cell_type": "markdown",
      "source": [
        "94. Проверьте, есть ли элемент в кортеже."
      ],
      "metadata": {
        "id": "1ThoIRjianD8"
      }
    },
    {
      "cell_type": "code",
      "source": [],
      "metadata": {
        "id": "91W2MuFQam_z"
      },
      "execution_count": null,
      "outputs": []
    },
    {
      "cell_type": "markdown",
      "source": [
        "95. Найдите индекс элемента в кортеже."
      ],
      "metadata": {
        "id": "X9Rn3nXham69"
      }
    },
    {
      "cell_type": "code",
      "source": [],
      "metadata": {
        "id": "6DirETq2am28"
      },
      "execution_count": null,
      "outputs": []
    },
    {
      "cell_type": "markdown",
      "source": [
        "96. Создайте кортеж из одного элемента."
      ],
      "metadata": {
        "id": "k2kCGyhWamy7"
      }
    },
    {
      "cell_type": "code",
      "source": [],
      "metadata": {
        "id": "KLkYvvGwamut"
      },
      "execution_count": null,
      "outputs": []
    },
    {
      "cell_type": "markdown",
      "source": [
        "97. Объедините два кортежа."
      ],
      "metadata": {
        "id": "rjRRnU77amqU"
      }
    },
    {
      "cell_type": "code",
      "source": [],
      "metadata": {
        "id": "-8qsiiKDaml2"
      },
      "execution_count": null,
      "outputs": []
    },
    {
      "cell_type": "markdown",
      "source": [
        "98. Преобразуйте кортеж в список."
      ],
      "metadata": {
        "id": "wsB2RB06amgL"
      }
    },
    {
      "cell_type": "code",
      "source": [],
      "metadata": {
        "id": "XS-IwXiSambD"
      },
      "execution_count": null,
      "outputs": []
    },
    {
      "cell_type": "markdown",
      "source": [
        "99. Преобразуйте список в кортеж."
      ],
      "metadata": {
        "id": "uDHVY7aeamWm"
      }
    },
    {
      "cell_type": "code",
      "source": [],
      "metadata": {
        "id": "00q4jsOUamRs"
      },
      "execution_count": null,
      "outputs": []
    },
    {
      "cell_type": "markdown",
      "source": [
        "100. Найдите максимальный элемент в кортеже."
      ],
      "metadata": {
        "id": "M2H4-DC6amNj"
      }
    },
    {
      "cell_type": "code",
      "source": [],
      "metadata": {
        "id": "VU3i9NueamJL"
      },
      "execution_count": null,
      "outputs": []
    },
    {
      "cell_type": "markdown",
      "source": [
        "### Блок 11. Работа с файлами"
      ],
      "metadata": {
        "id": "omP3V_d6dZYc"
      }
    },
    {
      "cell_type": "markdown",
      "source": [
        "101. Создайте текстовый файл и запишите в него строку."
      ],
      "metadata": {
        "id": "YX2CDCCAamEl"
      }
    },
    {
      "cell_type": "code",
      "source": [],
      "metadata": {
        "id": "FyRxwhxial_4"
      },
      "execution_count": null,
      "outputs": []
    },
    {
      "cell_type": "markdown",
      "source": [
        "102. Прочитайте содержимое текстового файла."
      ],
      "metadata": {
        "id": "HcsOEbG8al7T"
      }
    },
    {
      "cell_type": "code",
      "source": [],
      "metadata": {
        "id": "wcAX6kW1alvd"
      },
      "execution_count": null,
      "outputs": []
    },
    {
      "cell_type": "markdown",
      "source": [
        "103. Добавьте строку в существующий текстовый файл."
      ],
      "metadata": {
        "id": "kYtlGp70alqk"
      }
    },
    {
      "cell_type": "code",
      "source": [],
      "metadata": {
        "id": "BN9hlAzialmX"
      },
      "execution_count": null,
      "outputs": []
    },
    {
      "cell_type": "markdown",
      "source": [
        "104. Удалите файл."
      ],
      "metadata": {
        "id": "f1oHbvuXaliD"
      }
    },
    {
      "cell_type": "code",
      "source": [],
      "metadata": {
        "id": "lxeu-q8faldz"
      },
      "execution_count": null,
      "outputs": []
    },
    {
      "cell_type": "markdown",
      "source": [
        "105. Переименуйте файл."
      ],
      "metadata": {
        "id": "QyHPY8CWalZ2"
      }
    },
    {
      "cell_type": "code",
      "source": [],
      "metadata": {
        "id": "cr7sEjhcalVM"
      },
      "execution_count": null,
      "outputs": []
    },
    {
      "cell_type": "markdown",
      "source": [
        "106. Создайте копию файла."
      ],
      "metadata": {
        "id": "Q0W2Qm92alQe"
      }
    },
    {
      "cell_type": "code",
      "source": [],
      "metadata": {
        "id": "ZsBc0IpaalL9"
      },
      "execution_count": null,
      "outputs": []
    },
    {
      "cell_type": "markdown",
      "source": [
        "107. Подсчитайте количество строк в файле."
      ],
      "metadata": {
        "id": "8XN5Anondtus"
      }
    },
    {
      "cell_type": "code",
      "source": [],
      "metadata": {
        "id": "INvfdle7alDe"
      },
      "execution_count": null,
      "outputs": []
    },
    {
      "cell_type": "markdown",
      "source": [
        "108. Подсчитайте количество слов в файле."
      ],
      "metadata": {
        "id": "cd2rTBleak_e"
      }
    },
    {
      "cell_type": "code",
      "source": [],
      "metadata": {
        "id": "l11lvEJfak67"
      },
      "execution_count": null,
      "outputs": []
    },
    {
      "cell_type": "markdown",
      "source": [
        "109. Подсчитайте количество символов в файле."
      ],
      "metadata": {
        "id": "TjQ34zeTak1U"
      }
    },
    {
      "cell_type": "code",
      "source": [],
      "metadata": {
        "id": "THF6M6BAakwj"
      },
      "execution_count": null,
      "outputs": []
    },
    {
      "cell_type": "markdown",
      "source": [
        "110. Найдите самое длинное слово в файле."
      ],
      "metadata": {
        "id": "o7GbEE0dakrz"
      }
    },
    {
      "cell_type": "code",
      "source": [],
      "metadata": {
        "id": "IM9iHeCLaknm"
      },
      "execution_count": null,
      "outputs": []
    },
    {
      "cell_type": "markdown",
      "source": [
        "### Блок 12. Исключения"
      ],
      "metadata": {
        "id": "3IWDgViOeAIU"
      }
    },
    {
      "cell_type": "markdown",
      "source": [
        "111. Напишите код, который вызывает ошибку деления на ноль."
      ],
      "metadata": {
        "id": "-zpx_sTlakir"
      }
    },
    {
      "cell_type": "code",
      "source": [],
      "metadata": {
        "id": "n2Cg7vEJaker"
      },
      "execution_count": null,
      "outputs": []
    },
    {
      "cell_type": "markdown",
      "source": [
        "112. Обработайте ошибку деления на ноль."
      ],
      "metadata": {
        "id": "59_hgQhpakaZ"
      }
    },
    {
      "cell_type": "code",
      "source": [],
      "metadata": {
        "id": "eA-OU6K0akVm"
      },
      "execution_count": null,
      "outputs": []
    },
    {
      "cell_type": "markdown",
      "source": [
        "113. Напишите код, который вызывает ошибку индекса."
      ],
      "metadata": {
        "id": "-n3zqy1CakRD"
      }
    },
    {
      "cell_type": "code",
      "source": [],
      "metadata": {
        "id": "HXKCK5XpakMk"
      },
      "execution_count": null,
      "outputs": []
    },
    {
      "cell_type": "markdown",
      "source": [
        "114. Обработайте ошибку индекса."
      ],
      "metadata": {
        "id": "0i0IGHHbakH7"
      }
    },
    {
      "cell_type": "code",
      "source": [],
      "metadata": {
        "id": "gjgQHC5XakD9"
      },
      "execution_count": null,
      "outputs": []
    },
    {
      "cell_type": "markdown",
      "source": [
        "115. Напишите код, который вызывает ошибку ключа."
      ],
      "metadata": {
        "id": "HfBQfNIHaj_9"
      }
    },
    {
      "cell_type": "code",
      "source": [],
      "metadata": {
        "id": "mlAu48wmaj78"
      },
      "execution_count": null,
      "outputs": []
    },
    {
      "cell_type": "markdown",
      "source": [
        "116. Обработайте ошибку ключа."
      ],
      "metadata": {
        "id": "MzP7Xtciaj3b"
      }
    },
    {
      "cell_type": "code",
      "source": [],
      "metadata": {
        "id": "_CHvNt5dajzU"
      },
      "execution_count": null,
      "outputs": []
    },
    {
      "cell_type": "markdown",
      "source": [
        "117. Напишите код, который вызывает ошибку типа."
      ],
      "metadata": {
        "id": "QoW7Nwwzajur"
      }
    },
    {
      "cell_type": "code",
      "source": [],
      "metadata": {
        "id": "YE_z-sSuajqr"
      },
      "execution_count": null,
      "outputs": []
    },
    {
      "cell_type": "markdown",
      "source": [
        "118. Обработайте ошибку типа."
      ],
      "metadata": {
        "id": "uzNngtb4ajmT"
      }
    },
    {
      "cell_type": "code",
      "source": [],
      "metadata": {
        "id": "IofxyWgxajhr"
      },
      "execution_count": null,
      "outputs": []
    },
    {
      "cell_type": "markdown",
      "source": [
        "119. Напишите код, который вызывает ошибку значения."
      ],
      "metadata": {
        "id": "yQGRR-6iajdG"
      }
    },
    {
      "cell_type": "code",
      "source": [],
      "metadata": {
        "id": "kMiLSS0sajY7"
      },
      "execution_count": null,
      "outputs": []
    },
    {
      "cell_type": "markdown",
      "source": [
        "120. Обработайте ошибку значения."
      ],
      "metadata": {
        "id": "zfdpozgrajUz"
      }
    },
    {
      "cell_type": "code",
      "source": [],
      "metadata": {
        "id": "goWWIM11ajQb"
      },
      "execution_count": null,
      "outputs": []
    },
    {
      "cell_type": "markdown",
      "source": [
        "### Блок 13. Генераторы списков"
      ],
      "metadata": {
        "id": "HtiVweikehwN"
      }
    },
    {
      "cell_type": "markdown",
      "source": [
        "121. Создайте список квадратов чисел от 1 до 10."
      ],
      "metadata": {
        "id": "89CZRChqajMT"
      }
    },
    {
      "cell_type": "code",
      "source": [],
      "metadata": {
        "id": "ngJYttJRajH9"
      },
      "execution_count": null,
      "outputs": []
    },
    {
      "cell_type": "markdown",
      "source": [
        "122. Создайте список чётных чисел от 1 до 20."
      ],
      "metadata": {
        "id": "LV2tUCVCajDE"
      }
    },
    {
      "cell_type": "code",
      "source": [],
      "metadata": {
        "id": "hvJXO8V4ai-U"
      },
      "execution_count": null,
      "outputs": []
    },
    {
      "cell_type": "markdown",
      "source": [
        "123. Создайте список нечётных чисел от 1 до 20."
      ],
      "metadata": {
        "id": "2BEuwHLTai57"
      }
    },
    {
      "cell_type": "code",
      "source": [],
      "metadata": {
        "id": "qQ0Uy7N-ai1t"
      },
      "execution_count": null,
      "outputs": []
    },
    {
      "cell_type": "markdown",
      "source": [
        "124. Создайте список чисел, кратных 3, от 1 до 50."
      ],
      "metadata": {
        "id": "1AjvMQfdaixN"
      }
    },
    {
      "cell_type": "code",
      "source": [],
      "metadata": {
        "id": "DjtbSgqraisz"
      },
      "execution_count": null,
      "outputs": []
    },
    {
      "cell_type": "markdown",
      "source": [
        "125. Создайте список чисел, кратных 5, от 1 до 100."
      ],
      "metadata": {
        "id": "AbJ8zG9UaioT"
      }
    },
    {
      "cell_type": "code",
      "source": [],
      "metadata": {
        "id": "yEAjyZchaikE"
      },
      "execution_count": null,
      "outputs": []
    },
    {
      "cell_type": "markdown",
      "source": [
        "126. Создайте список из первых 10 чисел Фибоначчи."
      ],
      "metadata": {
        "id": "0NSfE_Faaif0"
      }
    },
    {
      "cell_type": "code",
      "source": [],
      "metadata": {
        "id": "ynyylLmAaibO"
      },
      "execution_count": null,
      "outputs": []
    },
    {
      "cell_type": "markdown",
      "source": [
        "127. Создайте список из первых 10 простых чисел."
      ],
      "metadata": {
        "id": "TlKH5LZgaiW0"
      }
    },
    {
      "cell_type": "code",
      "source": [],
      "metadata": {
        "id": "ImYlmRR3aiR7"
      },
      "execution_count": null,
      "outputs": []
    },
    {
      "cell_type": "markdown",
      "source": [
        "128. Создайте список из первых 10 факториалов."
      ],
      "metadata": {
        "id": "O2kU-54IaiNr"
      }
    },
    {
      "cell_type": "code",
      "source": [],
      "metadata": {
        "id": "fHh-qIW6aiHT"
      },
      "execution_count": null,
      "outputs": []
    },
    {
      "cell_type": "markdown",
      "source": [
        "129. Создайте список из первых 10 степеней двойки."
      ],
      "metadata": {
        "id": "eX-hQNv1aiCc"
      }
    },
    {
      "cell_type": "code",
      "source": [],
      "metadata": {
        "id": "EpIdHchqah9z"
      },
      "execution_count": null,
      "outputs": []
    },
    {
      "cell_type": "markdown",
      "source": [
        "130. Создайте список из первых 10 степеней тройки."
      ],
      "metadata": {
        "id": "Xaxbhturah5T"
      }
    },
    {
      "cell_type": "code",
      "source": [],
      "metadata": {
        "id": "88v8ODr2fCgk"
      },
      "execution_count": null,
      "outputs": []
    },
    {
      "cell_type": "markdown",
      "source": [
        "### Блок 14. Лямбда-функции"
      ],
      "metadata": {
        "id": "L3X3_gPTfBNc"
      }
    },
    {
      "cell_type": "markdown",
      "source": [
        "131. Напишите лямбда-функцию, которая возвращает квадрат числа."
      ],
      "metadata": {
        "id": "ibFRJpW6fId7"
      }
    },
    {
      "cell_type": "code",
      "source": [],
      "metadata": {
        "id": "NpEX6K9Lah0j"
      },
      "execution_count": null,
      "outputs": []
    },
    {
      "cell_type": "markdown",
      "source": [
        "132. Напишите лямбда-функцию, которая возвращает сумму двух чисел."
      ],
      "metadata": {
        "id": "oOyhkWwOfMHL"
      }
    },
    {
      "cell_type": "code",
      "source": [],
      "metadata": {
        "id": "6x1nR9MxfPKz"
      },
      "execution_count": null,
      "outputs": []
    },
    {
      "cell_type": "markdown",
      "source": [
        "133. Напишите лямбда-функцию, которая возвращает произведение двух чисел."
      ],
      "metadata": {
        "id": "J2YlIzZYahml"
      }
    },
    {
      "cell_type": "code",
      "source": [],
      "metadata": {
        "id": "CkalpCAwahiT"
      },
      "execution_count": null,
      "outputs": []
    },
    {
      "cell_type": "markdown",
      "source": [
        "134. Напишите лямбда-функцию, которая возвращает наибольшее из двух чисел."
      ],
      "metadata": {
        "id": "pkk918Xmahdu"
      }
    },
    {
      "cell_type": "code",
      "source": [],
      "metadata": {
        "id": "n7NW-r8pahZL"
      },
      "execution_count": null,
      "outputs": []
    },
    {
      "cell_type": "markdown",
      "source": [
        "135. Напишите лямбда-функцию, которая возвращает наименьшее из двух чисел."
      ],
      "metadata": {
        "id": "hysm_uwgahUV"
      }
    },
    {
      "cell_type": "code",
      "source": [],
      "metadata": {
        "id": "MzqLXcKhahPr"
      },
      "execution_count": null,
      "outputs": []
    },
    {
      "cell_type": "markdown",
      "source": [
        "136. Напишите лямбда-функцию, которая возвращает длину строки."
      ],
      "metadata": {
        "id": "mZqFnDFkahLM"
      }
    },
    {
      "cell_type": "code",
      "source": [],
      "metadata": {
        "id": "AWrZUOV4ahG7"
      },
      "execution_count": null,
      "outputs": []
    },
    {
      "cell_type": "markdown",
      "source": [
        "137. Напишите лямбда-функцию, которая возвращает обратную строку."
      ],
      "metadata": {
        "id": "qcegMqsBahCL"
      }
    },
    {
      "cell_type": "code",
      "source": [],
      "metadata": {
        "id": "nLLBsFqXag9D"
      },
      "execution_count": null,
      "outputs": []
    },
    {
      "cell_type": "markdown",
      "source": [
        "138. Напишите лямбда-функцию, которая возвращает факториал числа."
      ],
      "metadata": {
        "id": "R70oOXWlag1L"
      }
    },
    {
      "cell_type": "code",
      "source": [],
      "metadata": {
        "id": "c1Kg1lr7agf7"
      },
      "execution_count": null,
      "outputs": []
    },
    {
      "cell_type": "markdown",
      "source": [
        "139. Напишите лямбда-функцию, которая возвращает список чётных чисел от 1 до N."
      ],
      "metadata": {
        "id": "aZ6MteL1aftb"
      }
    },
    {
      "cell_type": "code",
      "source": [],
      "metadata": {
        "id": "cTN5zTbnfobM"
      },
      "execution_count": null,
      "outputs": []
    },
    {
      "cell_type": "markdown",
      "source": [
        "140. Напишите лямбда-функцию, которая возвращает список нечётных чисел от 1 до N."
      ],
      "metadata": {
        "id": "28e1KvjTfzMr"
      }
    },
    {
      "cell_type": "code",
      "source": [],
      "metadata": {
        "id": "3Pv8I12BfyZG"
      },
      "execution_count": null,
      "outputs": []
    },
    {
      "cell_type": "markdown",
      "source": [
        "### Блок 15. Работа с датами"
      ],
      "metadata": {
        "id": "6mVFwk_Kf2ik"
      }
    },
    {
      "cell_type": "markdown",
      "source": [
        "141. Выведите текущую дату."
      ],
      "metadata": {
        "id": "Crh3GgbyfyU1"
      }
    },
    {
      "cell_type": "code",
      "source": [],
      "metadata": {
        "id": "BaGKbjOmfyQT"
      },
      "execution_count": null,
      "outputs": []
    },
    {
      "cell_type": "markdown",
      "source": [
        "142. Выведите текущее время."
      ],
      "metadata": {
        "id": "m8BRmicqfyMU"
      }
    },
    {
      "cell_type": "code",
      "source": [],
      "metadata": {
        "id": "_CkSsRr6fyHf"
      },
      "execution_count": null,
      "outputs": []
    },
    {
      "cell_type": "markdown",
      "source": [
        "143. Выведите текущую дату и время."
      ],
      "metadata": {
        "id": "p8V8bRuvfyDC"
      }
    },
    {
      "cell_type": "code",
      "source": [],
      "metadata": {
        "id": "aOwuNV9ffx_B"
      },
      "execution_count": null,
      "outputs": []
    },
    {
      "cell_type": "markdown",
      "source": [
        "144. Преобразуйте строку в дату."
      ],
      "metadata": {
        "id": "EukkyoX7fx6n"
      }
    },
    {
      "cell_type": "code",
      "source": [],
      "metadata": {
        "id": "Tn8xmAKUfx03"
      },
      "execution_count": null,
      "outputs": []
    },
    {
      "cell_type": "markdown",
      "source": [
        "145. Преобразуйте дату в строку."
      ],
      "metadata": {
        "id": "U-Ih5y-2fxwP"
      }
    },
    {
      "cell_type": "code",
      "source": [],
      "metadata": {
        "id": "SGksIvUsfxro"
      },
      "execution_count": null,
      "outputs": []
    },
    {
      "cell_type": "markdown",
      "source": [
        "146. Найдите разницу между двумя датами."
      ],
      "metadata": {
        "id": "UEVZzQqsfxlv"
      }
    },
    {
      "cell_type": "code",
      "source": [],
      "metadata": {
        "id": "qVx2jyhrfxgb"
      },
      "execution_count": null,
      "outputs": []
    },
    {
      "cell_type": "markdown",
      "source": [
        "147. Добавьте 5 дней к текущей дате."
      ],
      "metadata": {
        "id": "1fchPPR-fxbT"
      }
    },
    {
      "cell_type": "code",
      "source": [],
      "metadata": {
        "id": "dSimJC8CfxWi"
      },
      "execution_count": null,
      "outputs": []
    },
    {
      "cell_type": "markdown",
      "source": [
        "148. Вычтите 10 дней из текущей даты."
      ],
      "metadata": {
        "id": "4EyFnvtPfxR2"
      }
    },
    {
      "cell_type": "code",
      "source": [],
      "metadata": {
        "id": "zzhfkQ_CfxNW"
      },
      "execution_count": null,
      "outputs": []
    },
    {
      "cell_type": "markdown",
      "source": [
        "149. Найдите день недели для текущей даты."
      ],
      "metadata": {
        "id": "yqwYEW-afxI5"
      }
    },
    {
      "cell_type": "code",
      "source": [],
      "metadata": {
        "id": "iQmxYWSofxEA"
      },
      "execution_count": null,
      "outputs": []
    },
    {
      "cell_type": "markdown",
      "source": [
        "150. Найдите количество дней между двумя датами."
      ],
      "metadata": {
        "id": "z2Kbz0Ygfw_u"
      }
    },
    {
      "cell_type": "code",
      "source": [],
      "metadata": {
        "id": "dWc9uTKtfw7T"
      },
      "execution_count": null,
      "outputs": []
    },
    {
      "cell_type": "markdown",
      "source": [
        "### Блок 16. Дополнительные задачи"
      ],
      "metadata": {
        "id": "Dgyo2QkLgZO0"
      }
    },
    {
      "cell_type": "markdown",
      "source": [
        "151. Напишите программу, которая генерирует случайное число."
      ],
      "metadata": {
        "id": "NyiqsO7Lfw3G"
      }
    },
    {
      "cell_type": "code",
      "source": [],
      "metadata": {
        "id": "dUbc_VKZfwyQ"
      },
      "execution_count": null,
      "outputs": []
    },
    {
      "cell_type": "markdown",
      "source": [
        "152. Напишите программу, которая генерирует случайную строку."
      ],
      "metadata": {
        "id": "4MMdNWEyfwt-"
      }
    },
    {
      "cell_type": "code",
      "source": [],
      "metadata": {
        "id": "g5-sZ5-1fwp2"
      },
      "execution_count": null,
      "outputs": []
    },
    {
      "cell_type": "markdown",
      "source": [
        "153. Напишите программу, которая генерирует случайный пароль."
      ],
      "metadata": {
        "id": "FlVbkqLSfwlP"
      }
    },
    {
      "cell_type": "code",
      "source": [],
      "metadata": {
        "id": "DONjtK-wfwhL"
      },
      "execution_count": null,
      "outputs": []
    },
    {
      "cell_type": "markdown",
      "source": [
        "154. Напишите программу, которая шифрует строку."
      ],
      "metadata": {
        "id": "vcBjmgyDfwct"
      }
    },
    {
      "cell_type": "code",
      "source": [],
      "metadata": {
        "id": "w9frdefIfwX8"
      },
      "execution_count": null,
      "outputs": []
    },
    {
      "cell_type": "markdown",
      "source": [
        "155. Напишите программу, которая расшифровывает строку."
      ],
      "metadata": {
        "id": "jaYC9-I9fwT4"
      }
    },
    {
      "cell_type": "code",
      "source": [],
      "metadata": {
        "id": "Wiyimzx5fwPb"
      },
      "execution_count": null,
      "outputs": []
    },
    {
      "cell_type": "markdown",
      "source": [
        "156. Напишите программу, которая находит НОД двух чисел."
      ],
      "metadata": {
        "id": "c9kIP7UKfwLC"
      }
    },
    {
      "cell_type": "code",
      "source": [],
      "metadata": {
        "id": "ZQaFfdMcfwGr"
      },
      "execution_count": null,
      "outputs": []
    },
    {
      "cell_type": "markdown",
      "source": [
        "157. Напишите программу, которая находит НОК двух чисел."
      ],
      "metadata": {
        "id": "EeN_41GafwCL"
      }
    },
    {
      "cell_type": "code",
      "source": [],
      "metadata": {
        "id": "4K_iKBgafv93"
      },
      "execution_count": null,
      "outputs": []
    },
    {
      "cell_type": "markdown",
      "source": [
        "158. Напишите программу, которая проверяет, является ли число простым."
      ],
      "metadata": {
        "id": "0fMicZAnfv53"
      }
    },
    {
      "cell_type": "code",
      "source": [],
      "metadata": {
        "id": "UPMAnNn2fv1Y"
      },
      "execution_count": null,
      "outputs": []
    },
    {
      "cell_type": "markdown",
      "source": [
        "159. Напишите программу, которая находит все делители числа."
      ],
      "metadata": {
        "id": "cONuuibqfvxR"
      }
    },
    {
      "cell_type": "code",
      "source": [],
      "metadata": {
        "id": "QU5D32pWfvsf"
      },
      "execution_count": null,
      "outputs": []
    },
    {
      "cell_type": "markdown",
      "source": [
        "160. Напишите программу, которая находит сумму цифр числа."
      ],
      "metadata": {
        "id": "cPoy7H6BfvoP"
      }
    },
    {
      "cell_type": "code",
      "source": [],
      "metadata": {
        "id": "j6_ryLQMfvj9"
      },
      "execution_count": null,
      "outputs": []
    },
    {
      "cell_type": "markdown",
      "source": [
        "### Блок 17. Задачи на логику"
      ],
      "metadata": {
        "id": "jwr-POKKh8hc"
      }
    },
    {
      "cell_type": "markdown",
      "source": [
        "161. Напишите программу, которая находит среднее арифметическое списка чисел."
      ],
      "metadata": {
        "id": "PakOYYapfvgP"
      }
    },
    {
      "cell_type": "code",
      "source": [],
      "metadata": {
        "id": "VxRU5oZHfvcE"
      },
      "execution_count": null,
      "outputs": []
    },
    {
      "cell_type": "markdown",
      "source": [
        "162. Напишите программу, которая находит медиану списка чисел."
      ],
      "metadata": {
        "id": "IiwfR1urfvXU"
      }
    },
    {
      "cell_type": "code",
      "source": [],
      "metadata": {
        "id": "SRPyWyEifvTc"
      },
      "execution_count": null,
      "outputs": []
    },
    {
      "cell_type": "markdown",
      "source": [
        "163. Напишите программу, которая находит моду списка чисел."
      ],
      "metadata": {
        "id": "4QOIkdnDfvPS"
      }
    },
    {
      "cell_type": "code",
      "source": [],
      "metadata": {
        "id": "XMRIauf_fvLA"
      },
      "execution_count": null,
      "outputs": []
    },
    {
      "cell_type": "markdown",
      "source": [
        "164. Напишите программу, которая находит диапазон списка чисел."
      ],
      "metadata": {
        "id": "DItQg9-yfvGQ"
      }
    },
    {
      "cell_type": "code",
      "source": [],
      "metadata": {
        "id": "lXX15bpTfvCA"
      },
      "execution_count": null,
      "outputs": []
    },
    {
      "cell_type": "markdown",
      "source": [
        "165. Напишите программу, которая находит стандартное отклонение списка чисел."
      ],
      "metadata": {
        "id": "i2lkQlIlfu-D"
      }
    },
    {
      "cell_type": "code",
      "source": [],
      "metadata": {
        "id": "ZA-K_xqjfu5d"
      },
      "execution_count": null,
      "outputs": []
    },
    {
      "cell_type": "markdown",
      "source": [
        "166. Напишите программу, которая находит сумму элементов списка."
      ],
      "metadata": {
        "id": "CJF2jFdAfu06"
      }
    },
    {
      "cell_type": "code",
      "source": [],
      "metadata": {
        "id": "DLPRu0lDfuwp"
      },
      "execution_count": null,
      "outputs": []
    },
    {
      "cell_type": "markdown",
      "source": [
        "167. Напишите программу, которая находит произведение элементов списка."
      ],
      "metadata": {
        "id": "d_9xCGogfusk"
      }
    },
    {
      "cell_type": "code",
      "source": [],
      "metadata": {
        "id": "ztLEXB4hfuoP"
      },
      "execution_count": null,
      "outputs": []
    },
    {
      "cell_type": "markdown",
      "source": [
        "168. Напишите программу, которая находит максимальный элемент списка."
      ],
      "metadata": {
        "id": "bUzfYRnifukG"
      }
    },
    {
      "cell_type": "code",
      "source": [],
      "metadata": {
        "id": "C42-HG8Tfuf6"
      },
      "execution_count": null,
      "outputs": []
    },
    {
      "cell_type": "markdown",
      "source": [
        "169. Напишите программу, которая находит минимальный элемент списка."
      ],
      "metadata": {
        "id": "bNkyCXlGfubk"
      }
    },
    {
      "cell_type": "code",
      "source": [],
      "metadata": {
        "id": "eTb-XLI4fuXd"
      },
      "execution_count": null,
      "outputs": []
    },
    {
      "cell_type": "markdown",
      "source": [
        "170. Напишите программу, которая находит второй по величине элемент списка."
      ],
      "metadata": {
        "id": "enEB6A0rfuTB"
      }
    },
    {
      "cell_type": "code",
      "source": [],
      "metadata": {
        "id": "rWsMAuJ4fuOX"
      },
      "execution_count": null,
      "outputs": []
    },
    {
      "cell_type": "markdown",
      "source": [
        "### Блок 18. Задачи на строки"
      ],
      "metadata": {
        "id": "JzNNLiqniu2s"
      }
    },
    {
      "cell_type": "markdown",
      "source": [
        "171. Напишите программу, которая подсчитывает количество гласных в строке."
      ],
      "metadata": {
        "id": "ogR4-VexfuKX"
      }
    },
    {
      "cell_type": "code",
      "source": [],
      "metadata": {
        "id": "akTWIEchfuFm"
      },
      "execution_count": null,
      "outputs": []
    },
    {
      "cell_type": "markdown",
      "source": [
        "172. Напишите программу, которая подсчитывает количество согласных в строке."
      ],
      "metadata": {
        "id": "NMnYSjZkfuBV"
      }
    },
    {
      "cell_type": "code",
      "source": [],
      "metadata": {
        "id": "wgTxe1RFft8j"
      },
      "execution_count": null,
      "outputs": []
    },
    {
      "cell_type": "markdown",
      "source": [
        "173. Напишите программу, которая подсчитывает количество слов в строке."
      ],
      "metadata": {
        "id": "5q67Cdieft3k"
      }
    },
    {
      "cell_type": "code",
      "source": [],
      "metadata": {
        "id": "fuboOy1aftzG"
      },
      "execution_count": null,
      "outputs": []
    },
    {
      "cell_type": "markdown",
      "source": [
        "174. Напишите программу, которая подсчитывает количество предложений в строке."
      ],
      "metadata": {
        "id": "yfL0an70ftum"
      }
    },
    {
      "cell_type": "code",
      "source": [],
      "metadata": {
        "id": "QYFs8z2Lftpv"
      },
      "execution_count": null,
      "outputs": []
    },
    {
      "cell_type": "markdown",
      "source": [
        "175. Напишите программу, которая подсчитывает количество символов в строке."
      ],
      "metadata": {
        "id": "StTdqHaXftls"
      }
    },
    {
      "cell_type": "code",
      "source": [],
      "metadata": {
        "id": "kowyGdXOfthI"
      },
      "execution_count": null,
      "outputs": []
    },
    {
      "cell_type": "markdown",
      "source": [
        "176. Напишите программу, которая подсчитывает количество цифр в строке."
      ],
      "metadata": {
        "id": "54WCCVrEftb_"
      }
    },
    {
      "cell_type": "code",
      "source": [],
      "metadata": {
        "id": "L_fOpKtOftXZ"
      },
      "execution_count": null,
      "outputs": []
    },
    {
      "cell_type": "markdown",
      "source": [
        "177. Напишите программу, которая подсчитывает количество пробелов в строке."
      ],
      "metadata": {
        "id": "11qURXymftSQ"
      }
    },
    {
      "cell_type": "code",
      "source": [],
      "metadata": {
        "id": "jLJlN_pHftNs"
      },
      "execution_count": null,
      "outputs": []
    },
    {
      "cell_type": "markdown",
      "source": [
        "178. Напишите программу, которая подсчитывает количество знаков препинания в строке."
      ],
      "metadata": {
        "id": "psIgS-NlftI7"
      }
    },
    {
      "cell_type": "code",
      "source": [],
      "metadata": {
        "id": "z9evS5C4ftEW"
      },
      "execution_count": null,
      "outputs": []
    },
    {
      "cell_type": "markdown",
      "source": [
        "179. Напишите программу, которая подсчитывает количество букв в строке."
      ],
      "metadata": {
        "id": "i9CgFfVpfs_a"
      }
    },
    {
      "cell_type": "code",
      "source": [],
      "metadata": {
        "id": "Kft3_hH_fs6P"
      },
      "execution_count": null,
      "outputs": []
    },
    {
      "cell_type": "markdown",
      "source": [
        "180. Напишите программу, которая подсчитывает количество символов в строке без пробелов."
      ],
      "metadata": {
        "id": "i5oc1zyzfs1a"
      }
    },
    {
      "cell_type": "code",
      "source": [],
      "metadata": {
        "id": "GQUB055Dfswa"
      },
      "execution_count": null,
      "outputs": []
    },
    {
      "cell_type": "markdown",
      "source": [
        "### Блок 19. Задачи на списки"
      ],
      "metadata": {
        "id": "LNloFntfjQg8"
      }
    },
    {
      "cell_type": "markdown",
      "source": [
        "181. Напишите программу, которая удаляет дубликаты из списка."
      ],
      "metadata": {
        "id": "ut6vz86Nfsrd"
      }
    },
    {
      "cell_type": "code",
      "source": [],
      "metadata": {
        "id": "LbbzPWIPfsmB"
      },
      "execution_count": null,
      "outputs": []
    },
    {
      "cell_type": "markdown",
      "source": [
        "182. Напишите программу, которая находит уникальные элементы списка."
      ],
      "metadata": {
        "id": "sTpmGtEzfsg-"
      }
    },
    {
      "cell_type": "code",
      "source": [],
      "metadata": {
        "id": "jFD-WH-yfsbn"
      },
      "execution_count": null,
      "outputs": []
    },
    {
      "cell_type": "markdown",
      "source": [
        "183. Напишите программу, которая находит общие элементы двух списков."
      ],
      "metadata": {
        "id": "lGy_ByqVfsXI"
      }
    },
    {
      "cell_type": "code",
      "source": [],
      "metadata": {
        "id": "V6F8hTp6fsR5"
      },
      "execution_count": null,
      "outputs": []
    },
    {
      "cell_type": "markdown",
      "source": [
        "184. Напишите программу, которая находит разность двух списков."
      ],
      "metadata": {
        "id": "dDG-4kKefsNF"
      }
    },
    {
      "cell_type": "code",
      "source": [],
      "metadata": {
        "id": "w3LAO-6efsIB"
      },
      "execution_count": null,
      "outputs": []
    },
    {
      "cell_type": "markdown",
      "source": [
        "185. Напишите программу, которая находит объединение двух списков."
      ],
      "metadata": {
        "id": "Hrag77jVfsDL"
      }
    },
    {
      "cell_type": "code",
      "source": [],
      "metadata": {
        "id": "VXnO3N09fr98"
      },
      "execution_count": null,
      "outputs": []
    },
    {
      "cell_type": "markdown",
      "source": [
        "186. Напишите программу, которая находит пересечение двух списков."
      ],
      "metadata": {
        "id": "75lvKm-bfr4h"
      }
    },
    {
      "cell_type": "code",
      "source": [],
      "metadata": {
        "id": "fI14FM50frzg"
      },
      "execution_count": null,
      "outputs": []
    },
    {
      "cell_type": "markdown",
      "source": [
        "187. Напишите программу, которая находит симметричную разность двух списков."
      ],
      "metadata": {
        "id": "IfEXkcfNfrpD"
      }
    },
    {
      "cell_type": "code",
      "source": [],
      "metadata": {
        "id": "lMOoYuiCfrTY"
      },
      "execution_count": null,
      "outputs": []
    },
    {
      "cell_type": "markdown",
      "source": [
        "188. Напишите программу, которая находит сумму элементов списка."
      ],
      "metadata": {
        "id": "YnjoYQlnfrN8"
      }
    },
    {
      "cell_type": "code",
      "source": [],
      "metadata": {
        "id": "ldEaC7AbfrGT"
      },
      "execution_count": null,
      "outputs": []
    },
    {
      "cell_type": "markdown",
      "source": [
        "189. Напишите программу, которая находит произведение элементов списка."
      ],
      "metadata": {
        "id": "zls_4uEzfrBM"
      }
    },
    {
      "cell_type": "code",
      "source": [],
      "metadata": {
        "id": "GOy4aZesfq8D"
      },
      "execution_count": null,
      "outputs": []
    },
    {
      "cell_type": "markdown",
      "source": [
        "190. Напишите программу, которая находит среднее арифметическое элементов списка."
      ],
      "metadata": {
        "id": "I4BJ5ujQfq2U"
      }
    },
    {
      "cell_type": "code",
      "source": [],
      "metadata": {
        "id": "0L3_r8EQfqv0"
      },
      "execution_count": null,
      "outputs": []
    },
    {
      "cell_type": "markdown",
      "source": [
        "### Блок 20. Задачи на функции"
      ],
      "metadata": {
        "id": "flor1SuOj_IE"
      }
    },
    {
      "cell_type": "markdown",
      "source": [
        "191. Напишите функцию, которая возвращает сумму элементов списка."
      ],
      "metadata": {
        "id": "21VXNZoLfqq7"
      }
    },
    {
      "cell_type": "code",
      "source": [],
      "metadata": {
        "id": "XMK_uybCfqld"
      },
      "execution_count": null,
      "outputs": []
    },
    {
      "cell_type": "markdown",
      "source": [
        "192. Напишите функцию, которая возвращает произведение элементов списка."
      ],
      "metadata": {
        "id": "7W2WVmQJfqgM"
      }
    },
    {
      "cell_type": "code",
      "source": [],
      "metadata": {
        "id": "PZY82XRUfqa_"
      },
      "execution_count": null,
      "outputs": []
    },
    {
      "cell_type": "markdown",
      "source": [
        "193. Напишите функцию, которая возвращает среднее арифметическое элементов списка."
      ],
      "metadata": {
        "id": "FPGqb9jxfqWD"
      }
    },
    {
      "cell_type": "code",
      "source": [],
      "metadata": {
        "id": "0Sbb9ZQHfqQ1"
      },
      "execution_count": null,
      "outputs": []
    },
    {
      "cell_type": "markdown",
      "source": [
        "194. Напишите функцию, которая возвращает максимальный элемент списка."
      ],
      "metadata": {
        "id": "cbCYHjvxfqMF"
      }
    },
    {
      "cell_type": "code",
      "source": [],
      "metadata": {
        "id": "P5tsz_SifqHV"
      },
      "execution_count": null,
      "outputs": []
    },
    {
      "cell_type": "markdown",
      "source": [
        "195. Напишите функцию, которая возвращает минимальный элемент списка."
      ],
      "metadata": {
        "id": "8ORJmkGrfqB9"
      }
    },
    {
      "cell_type": "code",
      "source": [],
      "metadata": {
        "id": "47UlvTb4fp8e"
      },
      "execution_count": null,
      "outputs": []
    },
    {
      "cell_type": "markdown",
      "source": [
        "196. Напишите функцию, которая возвращает второй по величине элемент списка."
      ],
      "metadata": {
        "id": "-T8rPtojfp3r"
      }
    },
    {
      "cell_type": "code",
      "source": [],
      "metadata": {
        "id": "M5IuWtJgfp0X"
      },
      "execution_count": null,
      "outputs": []
    },
    {
      "cell_type": "markdown",
      "source": [
        "197. Напишите функцию, которая возвращает список уникальных элементов."
      ],
      "metadata": {
        "id": "dpcK3kGEfpq9"
      }
    },
    {
      "cell_type": "code",
      "source": [],
      "metadata": {
        "id": "aDNFTwVqfplb"
      },
      "execution_count": null,
      "outputs": []
    },
    {
      "cell_type": "markdown",
      "source": [
        "198. Напишите функцию, которая возвращает список общих элементов двух списков."
      ],
      "metadata": {
        "id": "zWivlUOqfpeD"
      }
    },
    {
      "cell_type": "code",
      "source": [],
      "metadata": {
        "id": "kU8LOoJ6fpWz"
      },
      "execution_count": null,
      "outputs": []
    },
    {
      "cell_type": "markdown",
      "source": [
        "199. Напишите функцию, которая возвращает список разности двух списков."
      ],
      "metadata": {
        "id": "bxOBR9awkqhT"
      }
    },
    {
      "cell_type": "code",
      "source": [],
      "metadata": {
        "id": "2o6dqgSOkqXM"
      },
      "execution_count": null,
      "outputs": []
    },
    {
      "cell_type": "markdown",
      "source": [
        "200. Напишите функцию, которая возвращает список объединения двух списков."
      ],
      "metadata": {
        "id": "i0FCAoJBkqAM"
      }
    },
    {
      "cell_type": "code",
      "source": [],
      "metadata": {
        "id": "foVsQW-rkp2T"
      },
      "execution_count": null,
      "outputs": []
    },
    {
      "cell_type": "markdown",
      "source": [],
      "metadata": {
        "id": "j7p7U9LmfpP7"
      }
    }
  ]
}